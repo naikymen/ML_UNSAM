{
 "cells": [
  {
   "cell_type": "code",
   "execution_count": 4,
   "metadata": {
    "id": "GKN6km8jLvy3"
   },
   "outputs": [],
   "source": [
    "import numpy as np\n",
    "import matplotlib.pyplot as plt"
   ]
  },
  {
   "cell_type": "markdown",
   "metadata": {
    "id": "pC1-p7o_OUyl"
   },
   "source": [
    "# Ejercicio 11 del Capitulo 2 del Gelman:"
   ]
  },
  {
   "cell_type": "markdown",
   "metadata": {
    "id": "8yvv9qseOZGx"
   },
   "source": [
    "Supongamos mediciones independientes $y_{1},y_{2},...,y_{5}$ que siguen una [distribucion de Cauchy](https://en.wikipedia.org/wiki/Cauchy_distribution) con centro desconocido $\\theta$ y escala conocida $1$.\n",
    "\n",
    "$p(y_{i}|\\theta) \\propto \\frac{1}{1 + (y_{i} − \\theta)^{2}}$\n",
    "\n",
    "Asumimos por simplicidad que el prior es una distribucion uniforme en [0,100].\n",
    "\n",
    "Si observamos ($y_{1},..., y_{5}$) = (43, 44, 45, 46.5, 47.5):\n",
    "\n",
    "1.   Calcule la distribucion posterior no normalizada $p(y|\\theta)p(\\theta)$ en una grilla de puntos $\\theta = 0, \\frac{1}{m},\\frac{2}{m},...,100$ para algun entero $m$ grande. Utilizando esta aproximacion numerica, calcule y grafique la posterior normalizada $p(\\theta|y)$ como funcion de $\\theta$.\n",
    "2.   Samplee 1000 muestras de $\\theta$ de la distribución posterior y haga un histograma de las muestras.\n",
    "3.   Use las 1000 muestras de $\\theta$ para obtener 1000 muestras de $y_{6}$ utilizando la posterior predictiva, y haga un histograma.\n",
    "\n",
    "_Nico_: a mi me sirvió leer esto para entrar en tema:\n",
    "\n",
    "* https://statswithr.github.io/book/the-basics-of-bayesian-statistics.html\n",
    "\n"
   ]
  },
  {
   "cell_type": "markdown",
   "metadata": {
    "id": "B20kzhpNRTAP"
   },
   "source": [
    "# Resolucion"
   ]
  },
  {
   "cell_type": "markdown",
   "metadata": {
    "id": "KTZp-aCuWN4H"
   },
   "source": [
    "## Punto 1"
   ]
  },
  {
   "cell_type": "markdown",
   "metadata": {
    "id": "fDSCrZ9MRVca"
   },
   "source": [
    "Inicialicemos las mediciones:"
   ]
  },
  {
   "cell_type": "code",
   "execution_count": 15,
   "metadata": {
    "id": "-N1io0FMRZSI"
   },
   "outputs": [
    {
     "name": "stdout",
     "output_type": "stream",
     "text": [
      "[43.  44.  45.  46.5 47.5]\n",
      "(5,)\n"
     ]
    }
   ],
   "source": [
    "# \"y\" es un array que contiene los valores de las 5 mediciones del problema\n",
    "y=np.asarray([43,44,45,46.5,47.5])\n",
    "\n",
    "# Revisamos el contenido y las dimensiones del array:\n",
    "print(y)\n",
    "print(y.shape)"
   ]
  },
  {
   "cell_type": "markdown",
   "metadata": {
    "id": "tVeezTIZRgrA"
   },
   "source": [
    "Y los valores posibles de $\\theta$, generamos 3000 en el espacio de 0 a 100:"
   ]
  },
  {
   "cell_type": "code",
   "execution_count": 7,
   "metadata": {
    "colab": {
     "base_uri": "https://localhost:8080/"
    },
    "id": "n_1tQJ0gMJaD",
    "outputId": "292af093-e82c-47f1-de02-05d022fee667"
   },
   "outputs": [
    {
     "name": "stdout",
     "output_type": "stream",
     "text": [
      "0.0 100.0\n"
     ]
    }
   ],
   "source": [
    "# \"theta_vals\" contiene los valores posibles de tita, sobre los que vamos a calcular cosas\n",
    "theta_vals=np.linspace(0.0,100.0,3000)\n",
    "print(theta_vals[0],theta_vals[-1])"
   ]
  },
  {
   "cell_type": "markdown",
   "metadata": {
    "id": "uUMxznWPRoU7"
   },
   "source": [
    "Para cada $\\theta$, la verosimilitud se calcula como:\n",
    "\n",
    "$p(y|\\theta)=\\prod_{i=1}^{5}p(y_{i}|\\theta)$\n",
    "\n",
    "Numericamente, es mas estable calcular el logaritmo de la probabilidad:\n",
    "\n",
    "$\\text{ln }p(y|\\theta)=\\sum_{i=1}^{5}\\text{ln }p(y_{i}|\\theta)$\n",
    "\n",
    "> Nico: esto es porque la productoria (porque multiplica cosas) puede generar números demasiado chicos que se convierten en cero (por underflow) y supongo que pasa también para los grandes (por overflow)."
   ]
  },
  {
   "cell_type": "code",
   "execution_count": 8,
   "metadata": {
    "id": "2bOH0OLhQ7ry"
   },
   "outputs": [],
   "source": [
    "from scipy.stats import cauchy"
   ]
  },
  {
   "cell_type": "code",
   "execution_count": 20,
   "metadata": {
    "id": "Joa-jfZ9Q-vF"
   },
   "outputs": [],
   "source": [
    "# Para consultar sobre el módulo y sus métodos, correr:\n",
    "# cauchy?"
   ]
  },
  {
   "cell_type": "code",
   "execution_count": 13,
   "metadata": {
    "colab": {
     "base_uri": "https://localhost:8080/"
    },
    "id": "vkMoKeVYRAJ1",
    "outputId": "e580acf2-10d3-40e8-cce4-a0f401376598"
   },
   "outputs": [
    {
     "name": "stdout",
     "output_type": "stream",
     "text": [
      "Prob para theta=0: 9.217719162911935e-20\n",
      "Prob para theta=0: 9.217719162911966e-20\n"
     ]
    }
   ],
   "source": [
    "print(\"Prob para theta=0:\", np.prod(cauchy(loc=theta_vals[0]).pdf(y)))\n",
    "print(\"Prob para theta=0:\", np.exp(np.sum(cauchy(loc=theta_vals[0]).logpdf(y))))"
   ]
  },
  {
   "cell_type": "markdown",
   "metadata": {
    "id": "0LnIz8VvSi0y"
   },
   "source": [
    "Vamos a descomponer estas dos líneas, y revisarlas paso a paso.\n",
    "\n",
    "> Nico: primero, `cauchy(loc=loc).pdf(x)` devuelve el valor de la PDF (con parametro de \"location\" igual al `loc`) evaluada en los puntos especificados por el vector `x` (ver `cauchy?`).\n"
   ]
  },
  {
   "cell_type": "code",
   "execution_count": 18,
   "metadata": {
    "colab": {
     "base_uri": "https://localhost:8080/"
    },
    "id": "d1XjCeOtRxSj",
    "outputId": "0de763b0-62f2-432f-cbe5-4f5ff94c2991"
   },
   "outputs": [
    {
     "name": "stdout",
     "output_type": "stream",
     "text": [
      "(5,)\n",
      "[0.00017206 0.00016433 0.00015711 0.00014714 0.00014102]\n"
     ]
    }
   ],
   "source": [
    "# Revisamos las dimensiones y el contenido del array resultante\n",
    "print(cauchy(loc=theta_vals[0]).pdf(y).shape)\n",
    "print(cauchy(loc=theta_vals[0]).pdf(y))"
   ]
  },
  {
   "cell_type": "markdown",
   "metadata": {
    "id": "AYOyRdDhS45R"
   },
   "source": [
    "Pero tenemos un unico valor de $\\theta$! Tenemos varios.\n",
    "\n",
    "> Nico: _pero_ no debería sorprender a nadie, porque eso _es_ lo que hace esa función.\n",
    "> \n",
    "> Ahora, a pesar de que dijimos que ibamos paso por paso, hacemos toda la cuenta de una igual. Armé una función para aclarar un poco lo que está pasando.\n",
    "> \n",
    "> Para cada theta que tenemos, calcular la PDF de cauchy (directamente en ln con .logpdf).\n",
    ">\n",
    "> Luego sumar los valores de \"log(cauchyPDF)\".\n",
    "> \n",
    "> Finalmente elevar la suma \"sum(log(cauchyPDF))\" a la \"e\" para volver a unidades de densidad (revertir el log que hicimos antes para simplificar todo y estabilizar la cuenta computacionalmente)."
   ]
  },
  {
   "cell_type": "code",
   "execution_count": 25,
   "metadata": {
    "colab": {
     "base_uri": "https://localhost:8080/"
    },
    "id": "X9EuVNpLS2D_",
    "outputId": "c8cdc770-b4ec-4f70-bdcf-cd8abbb8b493"
   },
   "outputs": [
    {
     "data": {
      "text/plain": [
       "(3000,)"
      ]
     },
     "execution_count": 25,
     "metadata": {},
     "output_type": "execute_result"
    }
   ],
   "source": [
    "def verosimil(theta):\n",
    "    return np.exp(\n",
    "        np.sum(\n",
    "                cauchy(loc=theta).logpdf(y)\n",
    "            )\n",
    "        )\n",
    "\n",
    "verosimilitud=np.asarray([verosimil(theta) for theta in theta_vals])\n",
    "verosimilitud.shape"
   ]
  },
  {
   "cell_type": "markdown",
   "metadata": {},
   "source": [
    "> Nico: ahora para cada valor en \"y\" calcula la log(PDF) de cauchy\n",
    ">\n",
    "> Obs: le pasa todos los valores de tita a \"loc\". Supongo que por el output de shape, la función cauchy está vectorizada respecto a ese argumento."
   ]
  },
  {
   "cell_type": "code",
   "execution_count": 26,
   "metadata": {
    "colab": {
     "base_uri": "https://localhost:8080/"
    },
    "id": "bkjPqCfma-kI",
    "outputId": "c05b6d7c-628d-4d23-de2a-404226b0c90c",
    "tags": []
   },
   "outputs": [
    {
     "name": "stdout",
     "output_type": "stream",
     "text": [
      "(5, 3000)\n"
     ]
    }
   ],
   "source": [
    "verosimilitud_aux=np.asarray([cauchy(loc=theta_vals).logpdf(y_val) for y_val in y])\n",
    "print(verosimilitud_aux.shape)"
   ]
  },
  {
   "cell_type": "markdown",
   "metadata": {},
   "source": [
    "> Nico: ahora termina la cuenta de la verosimilitud. El argumento \"axis\" de np.sum debe hacer cosas por filas.\n",
    "> \n",
    "> En R eso es el apply de cada día... cuánta cindor les hace falta :P"
   ]
  },
  {
   "cell_type": "code",
   "execution_count": 27,
   "metadata": {},
   "outputs": [
    {
     "name": "stdout",
     "output_type": "stream",
     "text": [
      "(3000,)\n"
     ]
    }
   ],
   "source": [
    "verosimilitud=np.exp(np.sum(verosimilitud_aux,axis=0))\n",
    "print(verosimilitud.shape)"
   ]
  },
  {
   "cell_type": "markdown",
   "metadata": {},
   "source": [
    "> Nico: entiendo que cauchy esta vectorizada respecto a \"loc\", y pdf esta vectorizada respecto a \"x\". O sea que estas dos formas de codearlo fueron equivalentes."
   ]
  },
  {
   "cell_type": "markdown",
   "metadata": {},
   "source": [
    "> Nico: plot de \"verosimilitud\" en función de los valores escaneados del parámetro."
   ]
  },
  {
   "cell_type": "code",
   "execution_count": 32,
   "metadata": {
    "colab": {
     "base_uri": "https://localhost:8080/",
     "height": 309
    },
    "id": "THgw3_dIS9kC",
    "outputId": "1fbd27ac-32c0-4465-ddd5-7ad9a2fe67a2"
   },
   "outputs": [
    {
     "data": {
      "text/plain": [
       "Text(0.5, 0, '$\\\\theta$')"
      ]
     },
     "execution_count": 32,
     "metadata": {},
     "output_type": "execute_result"
    },
    {
     "data": {
      "image/png": "[encoded data removed]",
      "text/plain": [
       "<Figure size 432x288 with 1 Axes>"
      ]
     },
     "metadata": {
      "needs_background": "light"
     },
     "output_type": "display_data"
    }
   ],
   "source": [
    "#plt.plot(theta_vals,prior,label='Prior')\n",
    "plt.plot(theta_vals,verosimilitud,label='Verosimilitud')\n",
    "plt.legend(loc='upper right')\n",
    "plt.xlabel(r'$\\theta$')"
   ]
  },
  {
   "cell_type": "markdown",
   "metadata": {
    "id": "0E_b-NDaT7AN"
   },
   "source": [
    "Y cuanto vale $p(y|\\theta)p(\\theta)$?\n",
    "\n",
    "> Nico: acá definen el \"prior\" como una ¿densidad uniforme? está raro\n",
    "\n",
    "$prior=\\frac{1}{100-0}*[1,\\ .\\ .\\ .,1]$"
   ]
  },
  {
   "cell_type": "code",
   "execution_count": 33,
   "metadata": {
    "colab": {
     "base_uri": "https://localhost:8080/"
    },
    "id": "d3scD2tqTcbo",
    "outputId": "b2456d62-7165-45f3-f870-e3611b4aa9ab"
   },
   "outputs": [
    {
     "name": "stdout",
     "output_type": "stream",
     "text": [
      "(3000,)\n",
      "(3000,)\n",
      "(3000,)\n"
     ]
    }
   ],
   "source": [
    "prior=1.0/(theta_vals[-1]-theta_vals[0])*np.ones(len(theta_vals))\n",
    "print(prior.shape)\n",
    "print(verosimilitud.shape)\n",
    "print((prior*verosimilitud).shape)"
   ]
  },
  {
   "cell_type": "markdown",
   "metadata": {},
   "source": [
    "> Nico: gracias por usar variables con nombre explicativo for once :)"
   ]
  },
  {
   "cell_type": "code",
   "execution_count": 35,
   "metadata": {
    "id": "Q0DxW8hpUYsQ"
   },
   "outputs": [],
   "source": [
    "posterior_no_normalizado=prior*verosimilitud"
   ]
  },
  {
   "cell_type": "markdown",
   "metadata": {
    "id": "CPWgNdzmUypt"
   },
   "source": [
    "Verificamos (una vez) que esta bien"
   ]
  },
  {
   "cell_type": "code",
   "execution_count": 36,
   "metadata": {
    "colab": {
     "base_uri": "https://localhost:8080/"
    },
    "id": "C_jVahtPUyDA",
    "outputId": "c9db1ba4-4d4a-483e-da99-8ba2dd64c81b"
   },
   "outputs": [
    {
     "data": {
      "text/plain": [
       "True"
      ]
     },
     "execution_count": 36,
     "metadata": {},
     "output_type": "execute_result"
    }
   ],
   "source": [
    "np.allclose(\n",
    "    posterior_no_normalizado,\n",
    "    np.asarray([prior[i]*verosimilitud[i] for i in range(len(verosimilitud))])\n",
    ")"
   ]
  },
  {
   "cell_type": "markdown",
   "metadata": {},
   "source": [
    "> Nico: qué será realmente \"allclose\"?\n",
    "> \n",
    "> And now... plot de el \"posterior no normalizado\" vs los valores escaneados del parámetro tita."
   ]
  },
  {
   "cell_type": "code",
   "execution_count": 37,
   "metadata": {
    "colab": {
     "base_uri": "https://localhost:8080/",
     "height": 309
    },
    "id": "zAGoggDSU8CF",
    "outputId": "a15a4f76-0e62-4e89-9570-27bff3aa5563"
   },
   "outputs": [
    {
     "data": {
      "text/plain": [
       "Text(0.5, 0, '$\\\\theta$')"
      ]
     },
     "execution_count": 37,
     "metadata": {},
     "output_type": "execute_result"
    },
    {
     "data": {
      "image/png": "[encoded data removed]",
      "text/plain": [
       "<Figure size 432x288 with 1 Axes>"
      ]
     },
     "metadata": {
      "needs_background": "light"
     },
     "output_type": "display_data"
    }
   ],
   "source": [
    "plt.plot(theta_vals, posterior_no_normalizado, label='Posterior no normalizado')\n",
    "plt.legend(loc='upper right')\n",
    "plt.xlabel(r'$\\theta$')"
   ]
  },
  {
   "cell_type": "markdown",
   "metadata": {
    "id": "TkngbqFRVFpa"
   },
   "source": [
    "Obviamente aca es la verosimilitud\n",
    "\n",
    "> Nico: obviamente esa frase no tiene sentido."
   ]
  },
  {
   "cell_type": "markdown",
   "metadata": {
    "id": "Uvung7KgVJeN"
   },
   "source": [
    "Y la evidencia? Bueno, podemos calcularla numericamente\n",
    "\n",
    "$$p(y)=\\int d\\theta p(y|\\theta)p(\\theta)\\approx \\sum_{j=1}^{m}\\Delta_{j}p(y|\\theta_{j})p(\\theta_{j})$$\n"
   ]
  },
  {
   "cell_type": "code",
   "execution_count": 63,
   "metadata": {
    "colab": {
     "base_uri": "https://localhost:8080/"
    },
    "id": "wNL6WLB7VEbn",
    "outputId": "ce828df5-806b-4f67-ec91-6ea57150b7d3"
   },
   "outputs": [
    {
     "name": "stdout",
     "output_type": "stream",
     "text": [
      "3.418359031121251e-07\n"
     ]
    }
   ],
   "source": [
    "delta_j=(theta_vals[1]-theta_vals[0])\n",
    "evidencia=np.sum(posterior_no_normalizado)*delta_j\n",
    "print(evidencia)"
   ]
  },
  {
   "cell_type": "markdown",
   "metadata": {},
   "source": [
    "> Nico: no tengo idea qué es esto :) ¿evidencia?"
   ]
  },
  {
   "cell_type": "code",
   "execution_count": 64,
   "metadata": {
    "colab": {
     "base_uri": "https://localhost:8080/"
    },
    "id": "wNL6WLB7VEbn",
    "outputId": "ce828df5-806b-4f67-ec91-6ea57150b7d3"
   },
   "outputs": [
    {
     "name": "stdout",
     "output_type": "stream",
     "text": [
      "0.9999999999999999\n"
     ]
    }
   ],
   "source": [
    "delta_j=(theta_vals[1]-theta_vals[0])\n",
    "posterior=posterior_no_normalizado/evidencia\n",
    "print(np.sum(posterior*delta_j))"
   ]
  },
  {
   "cell_type": "markdown",
   "metadata": {},
   "source": [
    "> Nico: no tengo idea qué es esto tampoco :D quizás están chequeando que sume 1 la distribución posterior (?)"
   ]
  },
  {
   "cell_type": "markdown",
   "metadata": {},
   "source": [
    "> Nico: ahora un plot con todo!"
   ]
  },
  {
   "cell_type": "code",
   "execution_count": 65,
   "metadata": {
    "colab": {
     "base_uri": "https://localhost:8080/",
     "height": 298
    },
    "id": "G0-4CqzvVvlO",
    "outputId": "9a742934-2cfd-42fa-d6ae-975cdf2dacd7"
   },
   "outputs": [
    {
     "data": {
      "text/plain": [
       "Text(0.5, 0, '$\\\\theta$')"
      ]
     },
     "execution_count": 65,
     "metadata": {},
     "output_type": "execute_result"
    },
    {
     "data": {
      "image/png": "[encoded data removed]",
      "text/plain": [
       "<Figure size 432x288 with 1 Axes>"
      ]
     },
     "metadata": {
      "needs_background": "light"
     },
     "output_type": "display_data"
    }
   ],
   "source": [
    "plt.plot(theta_vals,prior,label='Prior')\n",
    "plt.plot(theta_vals,10000*verosimilitud,label='$10^{4}$ x Verosimilitud')\n",
    "plt.plot(theta_vals,posterior,label='Posterior')\n",
    "plt.legend(loc='upper right')\n",
    "plt.xlabel(r'$\\theta$')"
   ]
  },
  {
   "cell_type": "markdown",
   "metadata": {
    "id": "Om3SQ5sNWMWN"
   },
   "source": [
    "## Punto 2"
   ]
  },
  {
   "cell_type": "markdown",
   "metadata": {
    "id": "VW4adFjBWQuz"
   },
   "source": [
    "Como sampleamos una vez que tenemos la posterior numerica?"
   ]
  },
  {
   "cell_type": "code",
   "execution_count": 51,
   "metadata": {},
   "outputs": [],
   "source": [
    "# np.random.choice?\n",
    "# p: The probabilities associated with each entry in a."
   ]
  },
  {
   "cell_type": "code",
   "execution_count": 66,
   "metadata": {
    "id": "o6bHSf-dWCmb"
   },
   "outputs": [],
   "source": [
    "delta_j=(theta_vals[1]-theta_vals[0])\n",
    "theta_samples=np.random.choice(a=theta_vals, p=posterior*delta_j, size=1000)"
   ]
  },
  {
   "cell_type": "code",
   "execution_count": 67,
   "metadata": {
    "colab": {
     "base_uri": "https://localhost:8080/",
     "height": 298
    },
    "id": "fFPzXzitW82x",
    "outputId": "69c0ff4b-822f-4e10-b1ea-85e6d2c3d11b"
   },
   "outputs": [
    {
     "data": {
      "text/plain": [
       "Text(0.5, 0, '$\\\\theta$')"
      ]
     },
     "execution_count": 67,
     "metadata": {},
     "output_type": "execute_result"
    },
    {
     "data": {
      "image/png": "[encoded data removed]",
      "text/plain": [
       "<Figure size 432x288 with 1 Axes>"
      ]
     },
     "metadata": {
      "needs_background": "light"
     },
     "output_type": "display_data"
    }
   ],
   "source": [
    "#bins=10\n",
    "bins=np.linspace(0.0,100.0,100)\n",
    "plt.hist(theta_samples,bins=bins,label=r'$\\theta$ sampleados')\n",
    "#plt.plot(theta_vals,len(theta_samples)*posterior,label='$N_{\\t{eventos}}$ x Posterior')\n",
    "plt.legend(loc='upper right')\n",
    "plt.xlabel(r'$\\theta$')"
   ]
  },
  {
   "cell_type": "markdown",
   "metadata": {
    "id": "3G_YwYKJdduN"
   },
   "source": [
    "## Punto 3"
   ]
  },
  {
   "cell_type": "markdown",
   "metadata": {
    "id": "Qc_lG-_Adenb"
   },
   "source": [
    "La posterior predictiva es la probabilidad de una nueva medicion $y_{6}$ dadas todas las anteriores:\n",
    "\n",
    "$p(y_{6}|y_{1},...,y_{5})$\n",
    "\n",
    "Para hacer esto, una opcion muy común es plantear la posterior predictiva como una marginalización de la distribución conjunta condicional $p(y_6, \\theta | \\mathbf{y})$:\n",
    "\n",
    "$$p(y_{6}|y_{1},...,y_{5})=\\int d\\theta p(y_{6},\\theta|y_{1},...,y_{5})$$\n",
    "\n",
    "Y usar la regla del producto:\n",
    "\n",
    "$$\\int d\\theta p(y_{6},\\theta|y_{1},...,y_{5})= \\int d\\theta p(y_{6}|\\theta)p(\\theta|y_{1},...,y_{5})$$\n",
    "\n",
    "Donde asumimos que $y_{6}$ e $(y_{1},...,y_{5})$ son condicionalmente independientes dado $\\theta$.\n",
    "\n",
    "Esta integral podria hacerse numericamente de la misma manera que hicimos antes: armamos una grilla en $\\theta$ y aproximamos la funcion para cada valor de $y_{6}$ usando esa grilla.\n",
    "\n",
    "Sin embargo, Gelman nos sugiere que aprovechemos el sampleo del interior anterior. \n",
    "\n",
    "> Interior?\n",
    "\n",
    "Una manera es usarlo para aproximar la integral (mucho mas eficientemente que utilizando una grilla uniforme de puntos en $\\theta$) haciendo lo que se conoce como _Importance Sampling_:\n",
    "\n",
    "$$\\int d\\theta f(\\theta)\\approx\\frac{1}{N_{\\text{sampleos}}}\\sum_{n=1}^{N_{\\text{sampleos}}}\\frac{f(\\theta_{n})}{p(\\theta_{n})}$$\n",
    "\n",
    "> Nico: qué es \"f(tita_n)\" ahí?\n",
    "\n",
    "Donde los puntos fueron sampleados de acuerdo a $p(\\theta_{i})$.\n",
    "\n",
    "En nuestro, caso, el denominador se simplifica con una expresion del numerador y tenemos\n",
    "\n",
    "$$\\int d\\theta p(y_{6}|\\theta)p(\\theta|y_{1},...,y_{5})\\approx\\frac{1}{N_{\\text{sampleos}}}\\sum_{n=1}^{N_{\\text{sampleos}}}p(y_{6}|\\theta_{n})$$\n"
   ]
  },
  {
   "cell_type": "code",
   "execution_count": 75,
   "metadata": {
    "colab": {
     "base_uri": "https://localhost:8080/",
     "height": 282
    },
    "id": "D53-gS8-9zrY",
    "outputId": "0e7c561d-4cc2-4e7e-9124-7c00d32b8396"
   },
   "outputs": [
    {
     "data": {
      "text/plain": [
       "[<matplotlib.lines.Line2D at 0x7fe27452be20>]"
      ]
     },
     "execution_count": 75,
     "metadata": {},
     "output_type": "execute_result"
    },
    {
     "data": {
      "image/png": "[encoded data removed]",
      "text/plain": [
       "<Figure size 432x288 with 1 Axes>"
      ]
     },
     "metadata": {
      "needs_background": "light"
     },
     "output_type": "display_data"
    }
   ],
   "source": [
    "y6 = np.linspace(20, 80, 200)\n",
    "# Calcula la likelihood para cada sample de la posterior y para cada valor de y6\n",
    "A = cauchy(loc=theta_samples[np.newaxis, :]).pdf(y6[:, np.newaxis])\n",
    "# Promedia a lo largo del eje correspondiente.\n",
    "plt.plot(y6, A.mean(axis=1))"
   ]
  },
  {
   "cell_type": "markdown",
   "metadata": {
    "id": "TwUfIKz6I-2z"
   },
   "source": [
    "Y sampleamos, tal como hicimos antes"
   ]
  },
  {
   "cell_type": "code",
   "execution_count": 76,
   "metadata": {
    "id": "CHNVlwc2JD1_"
   },
   "outputs": [],
   "source": [
    "y_samples=np.random.choice(y6, p=A.mean(axis=1)/np.sum(A.mean(axis=1)), size=1000)"
   ]
  },
  {
   "cell_type": "code",
   "execution_count": 77,
   "metadata": {
    "colab": {
     "base_uri": "https://localhost:8080/",
     "height": 298
    },
    "id": "J0M_fgXZJMZX",
    "outputId": "9f5b8cf8-f5a5-4306-bec9-73d7afa79de5"
   },
   "outputs": [
    {
     "data": {
      "text/plain": [
       "Text(0.5, 0, '$y_{6}$')"
      ]
     },
     "execution_count": 77,
     "metadata": {},
     "output_type": "execute_result"
    },
    {
     "data": {
      "image/png": "[encoded data removed]",
      "text/plain": [
       "<Figure size 432x288 with 1 Axes>"
      ]
     },
     "metadata": {
      "needs_background": "light"
     },
     "output_type": "display_data"
    }
   ],
   "source": [
    "plt.hist(y_samples,bins=bins,histtype='step')\n",
    "#plt.plot(y6, A.mean(axis=1))\n",
    "plt.xlabel(r'$y_{6}$')"
   ]
  },
  {
   "cell_type": "markdown",
   "metadata": {
    "id": "CGe7kadUEkvs"
   },
   "source": [
    "Luego Gelman nos sugiere que aprovechemos todavia más el sampleo de la posterior.\n",
    "\n",
    "Dado los N $\\theta_{n} \\sim p(\\theta|y)$: \n",
    "\n",
    "* Si sampleamos $y_{n} \\sim p(y|\\theta_{n})$, tenemos N sampleos de la conjunta $p(y_{6}, \\theta|y_{1},...,y_{5})$.\n",
    "* Si despues marginalizamos sobre $\\theta$, vamos a tener datos que siguen $p(y_{6}|y_{1},...,y_{5})$.\n",
    "\n",
    "> Nico: no me queda claro qué significa lo de recién...\n",
    ">\n",
    "> Más abajo grafican el resultado como \"MCMC sampling\" (markov chain monte carlo?)\n",
    "\n",
    "¿Como marginalizamos?\n",
    "\n",
    "Una manera es haciendo histogramas en $y$ con todos los valores de $\\theta$."
   ]
  },
  {
   "cell_type": "code",
   "execution_count": 78,
   "metadata": {
    "id": "qIz6BO_yjhKd"
   },
   "outputs": [
    {
     "data": {
      "text/plain": [
       "(1000,)"
      ]
     },
     "execution_count": 78,
     "metadata": {},
     "output_type": "execute_result"
    }
   ],
   "source": [
    "# rvs = \"random variates\"\n",
    "y_samples_bis=np.asarray([cauchy(loc=theta).rvs() for theta in theta_samples])\n",
    "y_samples_bis.shape"
   ]
  },
  {
   "cell_type": "code",
   "execution_count": 79,
   "metadata": {
    "colab": {
     "base_uri": "https://localhost:8080/",
     "height": 298
    },
    "id": "E6tXWbJDmmKl",
    "outputId": "54decca0-ccb0-4166-8106-1471f2fcc92d"
   },
   "outputs": [
    {
     "data": {
      "text/plain": [
       "Text(0.5, 0, '$y_{6}$')"
      ]
     },
     "execution_count": 79,
     "metadata": {},
     "output_type": "execute_result"
    },
    {
     "data": {
      "image/png": "[encoded data removed]",
      "text/plain": [
       "<Figure size 432x288 with 1 Axes>"
      ]
     },
     "metadata": {
      "needs_background": "light"
     },
     "output_type": "display_data"
    }
   ],
   "source": [
    "#bins=100\n",
    "bins=np.linspace(20, 80, 50)\n",
    "plt.hist(y_samples,    bins=bins,histtype='step',label='Importance Sampling')\n",
    "plt.hist(y_samples_bis,bins=bins,histtype='step',label='MCMC Sampling')\n",
    "#plt.plot(y6, A.mean(axis=1))\n",
    "plt.legend(loc='upper right')\n",
    "plt.xlabel(r'$y_{6}$')"
   ]
  },
  {
   "cell_type": "markdown",
   "metadata": {
    "id": "2_5xECNSJhNi"
   },
   "source": [
    "En lo importante, dan muy parecidos los metodos. Sin embargo..."
   ]
  },
  {
   "cell_type": "code",
   "execution_count": 82,
   "metadata": {
    "colab": {
     "base_uri": "https://localhost:8080/"
    },
    "id": "vTUM6R8tmr--",
    "outputId": "473f9c21-ab30-4df6-84b5-1830a17866a7"
   },
   "outputs": [
    {
     "name": "stdout",
     "output_type": "stream",
     "text": [
      "22.110552763819094 79.69849246231155\n",
      "-4452.3299147009 931.9235884310406\n"
     ]
    }
   ],
   "source": [
    "print(min(y_samples),max(y_samples))\n",
    "print(min(y_samples_bis),max(y_samples_bis))"
   ]
  },
  {
   "cell_type": "markdown",
   "metadata": {
    "id": "cuUS4xEYGO0R"
   },
   "source": [
    "## Punto extra: cambiar el prior"
   ]
  },
  {
   "cell_type": "markdown",
   "metadata": {
    "id": "BVX-5zq-GUaW"
   },
   "source": [
    "Jueguen con otros priors, por ejemplo:\n",
    "\n",
    "* ¿Qué pasa si tenemos un prior uniforme entre [0, 20]?\n",
    "* ¿Y si nuestro prior es $\\mathcal{N}(50,1^{2})$?"
   ]
  },
  {
   "cell_type": "code",
   "execution_count": 23,
   "metadata": {
    "id": "RDTdUjifESuE"
   },
   "outputs": [],
   "source": []
  }
 ],
 "metadata": {
  "colab": {
   "collapsed_sections": [],
   "name": "03p_Inferencia_Bayesiana_Numerica.ipynb",
   "provenance": []
  },
  "kernelspec": {
   "display_name": "Python 3",
   "language": "python",
   "name": "python3"
  },
  "language_info": {
   "codemirror_mode": {
    "name": "ipython",
    "version": 3
   },
   "file_extension": ".py",
   "mimetype": "text/x-python",
   "name": "python",
   "nbconvert_exporter": "python",
   "pygments_lexer": "ipython3",
   "version": "3.9.2"
  },
  "toc": {
   "base_numbering": 1,
   "nav_menu": {},
   "number_sections": true,
   "sideBar": true,
   "skip_h1_title": false,
   "title_cell": "Table of Contents",
   "title_sidebar": "Contents",
   "toc_cell": false,
   "toc_position": {},
   "toc_section_display": true,
   "toc_window_display": false
  }
 },
 "nbformat": 4,
 "nbformat_minor": 4
}
