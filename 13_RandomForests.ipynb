{
  "nbformat": 4,
  "nbformat_minor": 0,
  "metadata": {
    "kernelspec": {
      "display_name": "Python 3",
      "language": "python",
      "name": "python3"
    },
    "language_info": {
      "codemirror_mode": {
        "name": "ipython",
        "version": 3
      },
      "file_extension": ".py",
      "mimetype": "text/x-python",
      "name": "python",
      "nbconvert_exporter": "python",
      "pygments_lexer": "ipython3",
      "version": "3.8.3"
    },
    "nav_menu": {
      "height": "279px",
      "width": "309px"
    },
    "toc": {
      "base_numbering": 1,
      "nav_menu": {},
      "number_sections": true,
      "sideBar": true,
      "skip_h1_title": true,
      "title_cell": "Table of Contents",
      "title_sidebar": "Contents",
      "toc_cell": true,
      "toc_position": {
        "height": "calc(100% - 180px)",
        "left": "10px",
        "top": "150px",
        "width": "238px"
      },
      "toc_section_display": "block",
      "toc_window_display": true
    },
    "toc-autonumbering": false,
    "toc-showtags": false,
    "colab": {
      "name": "13_RandomForests.ipynb",
      "provenance": []
    }
  },
  "cells": [
    {
      "cell_type": "markdown",
      "metadata": {
        "id": "QVX9wnaXlkAs"
      },
      "source": [
        "# Random Forests"
      ]
    },
    {
      "cell_type": "markdown",
      "metadata": {
        "id": "pqoMFY44ddu6"
      },
      "source": [
        "## Celdas preparatorias"
      ]
    },
    {
      "cell_type": "code",
      "metadata": {
        "id": "p6Qox9gcddu7"
      },
      "source": [
        "# To support both python 2 and python 3\n",
        "from __future__ import division, print_function, unicode_literals\n",
        "\n",
        "# Common imports\n",
        "import numpy as np\n",
        "import os\n",
        "import sys\n",
        "\n",
        "import matplotlib.pyplot as plt\n",
        "%matplotlib inline\n",
        "\n",
        "# to make this notebook's output stable across runs\n",
        "np.random.seed(42)\n",
        "\n",
        "# To plot pretty figures\n",
        "%matplotlib inline\n",
        "import matplotlib as mpl\n",
        "import matplotlib.pyplot as plt\n",
        "mpl.rc('axes', labelsize=14)\n",
        "mpl.rc('xtick', labelsize=12)\n",
        "mpl.rc('ytick', labelsize=12)\n",
        "\n",
        "# Where to save the figures\n",
        "PROJECT_ROOT_DIR = \".\"\n",
        "CHAPTER_ID = \"11_RF\"\n",
        "IMAGES_PATH = os.path.join(PROJECT_ROOT_DIR, \"plots\", CHAPTER_ID)\n",
        "\n",
        "def save_fig(fig_id, tight_layout=True, fig_extension=\"png\", resolution=300):\n",
        "    os.makedirs(IMAGES_PATH, exist_ok=True)\n",
        "    path = os.path.join(IMAGES_PATH, fig_id + \".\" + fig_extension)\n",
        "    print(\"Saving figure\", fig_id)\n",
        "    if tight_layout:\n",
        "        plt.tight_layout()\n",
        "    plt.savefig(path, format=fig_extension, dpi=resolution)\n",
        "\n",
        "# Ignore useless warnings (see SciPy issue #5998)\n",
        "# import warnings\n",
        "# warnings.filterwarnings(action=\"ignore\", message=\"^internal gelsd\")"
      ],
      "execution_count": 1,
      "outputs": []
    },
    {
      "cell_type": "code",
      "metadata": {
        "id": "0h6etGlplkA4"
      },
      "source": [
        "# Let us define a couple of useful functions (if in colab, otherwise, take from utils module)\n",
        "if 'google.colab' in sys.modules:\n",
        "\n",
        "    def plot_clasi(x, t, ws, labels=[], xp=[-1., 1.], thr=[0,], spines='zero', equal=True, \n",
        "                   join_centers=False, margin=None):\n",
        "        \"\"\"\n",
        "        Figura con el resultado del ajuste lineal\n",
        "        \"\"\"\n",
        "        assert len(labels) == len(ws) or len(labels) == 0\n",
        "        assert len(ws) == len(thr)\n",
        "\n",
        "        if margin is None:\n",
        "            margin = [False] * len(ws)\n",
        "        else:    \n",
        "            margin = np.atleast_1d(margin)\n",
        "        assert len(margin) == len(ws)\n",
        "\n",
        "        if len(labels) == 0:\n",
        "            labels = np.arange(len(ws)).astype('str')\n",
        "\n",
        "        # Agregemos el vector al plot\n",
        "        fig = plt.figure(figsize=(9, 7))\n",
        "        ax = fig.add_subplot(111)\n",
        "\n",
        "        xc1 = x[t == np.unique(t).max()]\n",
        "        xc2 = x[t == np.unique(t).min()]\n",
        "\n",
        "        ax.plot(*xc1.T, 'ob', mfc='None', label='C1')\n",
        "        ax.plot(*xc2.T, 'or', mfc='None', label='C2')\n",
        "\n",
        "        for i, w in enumerate(ws):\n",
        "\n",
        "            # Compute vector norm\n",
        "            wnorm = np.sqrt(np.sum(w**2))\n",
        "\n",
        "            # Ploteo vector de pesos\n",
        "            x0 = 0.5 * (xp[0] + xp[1])\n",
        "            ax.quiver(0, thr[i]/w[1], w[0]/wnorm, w[1]/wnorm, \n",
        "                      color='C{}'.format(i+2), scale=10, label=labels[i], \n",
        "                      zorder=10)\n",
        "\n",
        "            # ploteo plano perpendicular\n",
        "            xp = np.array(xp)\n",
        "            yp = (thr[i] - w[0]*xp)/w[1] \n",
        "\n",
        "            plt.plot(xp, yp, '-', color='C{}'.format(i+2))\n",
        "\n",
        "            # Plot margin\n",
        "            if margin[i]:\n",
        "                for marg in [-1, 1]:\n",
        "                    ym = yp + marg/w[1]\n",
        "                    plt.plot(xp, ym, ':', color='C{}'.format(i+2))\n",
        "\n",
        "\n",
        "        if join_centers:\n",
        "            # Ploteo línea que une centros de los conjuntos\n",
        "            mu1 = xc1.mean(axis=1)\n",
        "            mu2 = xc2.mean(axis=1)\n",
        "            ax.plot([mu1[0], mu2[0]], [mu1[1], mu2[1]], 'o:k', mfc='None', ms=10)    \n",
        "\n",
        "        ax.legend(loc=0, fontsize=12)\n",
        "        if equal:\n",
        "            ax.set_aspect('equal')\n",
        "\n",
        "        if spines is not None:\n",
        "            for a in ['left', 'bottom']:\n",
        "                ax.spines[a].set_position('zero')\n",
        "            for a in ['top', 'right']:\n",
        "                ax.spines[a].set_visible(False)\n",
        "\n",
        "        return\n",
        "\n",
        "\n",
        "    def makew(fitter):\n",
        "\n",
        "        # # Obtengamos los pesos y normalicemos\n",
        "        w = fitter.coef_.copy()\n",
        "\n",
        "        # # Incluye intercept\n",
        "        if fitter.fit_intercept:\n",
        "            w = np.hstack([fitter.intercept_.reshape(1,1), w])\n",
        "\n",
        "        # # Normalizon\n",
        "        #w /= np.linalg.norm(w)\n",
        "        return w.T\n",
        "else:\n",
        "  from utils import plot_clasi\n",
        "#Utility form A. Gèron\n",
        "def plot_decision_regions(clf, X, t, axes=None, npointsgrid=500, legend=False, \n",
        "                          plot_training=True, \n",
        "                          figkwargs={'figsize': [12, 8]}, \n",
        "                          contourkwargs={'alpha':0.3}):\n",
        "    \"\"\"\n",
        "    Plot decision regions produced by classifier.\n",
        "\n",
        "    :param Classifier clf: sklearn classifier supporting XXX\n",
        "    \"\"\"\n",
        "\n",
        "    fig = plt.figure(**figkwargs)\n",
        "    ax = fig.add_subplot(111)\n",
        "\n",
        "    if axes is None:\n",
        "        dx = X[:, 0].max() - X[:, 0].min()\n",
        "        dy = X[:, 1].max() - X[:, 1].min()\n",
        "        axes = [X[:, 0].min() - 0.1*dx, X[:, 0].max() + 0.1*dx, \n",
        "                X[:, 1].min() - 0.1*dy, X[:, 1].max() + 0.1*dy]\n",
        "        \n",
        "    # Define grid for regions\n",
        "    x1s = np.linspace(axes[0], axes[1], npointsgrid)\n",
        "    x2s = np.linspace(axes[2], axes[3], npointsgrid)\n",
        "    x1, x2 = np.meshgrid(x1s, x2s)\n",
        "\n",
        "    # Make predictions on points of grid; reshape to grid format\n",
        "    X_new = np.c_[x1.ravel(), x2.ravel()]\n",
        "    y_pred = clf.predict(X_new).reshape(x1.shape)\n",
        "\n",
        "    #custom_cmap = ListedColormap(['#fafab0','#9898ff','#a0faa0'])\n",
        "    ax.contourf(x1, x2, y_pred, **contourkwargs)\n",
        "\n",
        "#     custom_cmap2 = ListedColormap(['#7d7d58','#4c4c7f','#507d50'])\n",
        "#         plt.contour(x1, x2, y_pred, cmap=custom_cmap2, alpha=0.8)\n",
        "\n",
        "    if plot_training:\n",
        "        for label in np.unique(t):\n",
        "            ax.plot(X[:, 0][t==label], X[:, 1][t==label], \"o\", label=\"C{}\".format(label))\n",
        "\n",
        "    # Axis\n",
        "    plt.xlabel(r\"$x_1$\", fontsize=18)\n",
        "    plt.ylabel(r\"$x_2$\", fontsize=18, rotation=0)\n",
        "\n",
        "    if legend:\n",
        "        plt.legend(loc=\"lower right\", fontsize=14)\n",
        "\n",
        "    plt.show()\n",
        "    return fig\n",
        "    \n",
        "    \n"
      ],
      "execution_count": 3,
      "outputs": []
    },
    {
      "cell_type": "markdown",
      "metadata": {
        "id": "4YT0s0WUlkA5"
      },
      "source": [
        "## Preparación del Moons dataset"
      ]
    },
    {
      "cell_type": "markdown",
      "metadata": {
        "id": "08vCVz1xlkA6"
      },
      "source": [
        "Usemos de nuevo la función `make_moons` para generar un dataset no linealmente separable en dos dimensiones (para poder plotear)."
      ]
    },
    {
      "cell_type": "code",
      "metadata": {
        "id": "Xz8qrhkrlkA6"
      },
      "source": [
        "from sklearn.datasets import make_moons\n",
        "X, t = make_moons(n_samples=400, noise=0.25, random_state=1234)"
      ],
      "execution_count": 22,
      "outputs": []
    },
    {
      "cell_type": "code",
      "metadata": {
        "colab": {
          "base_uri": "https://localhost:8080/",
          "height": 342
        },
        "id": "oEhoS23UlkA6",
        "outputId": "2edc8463-91d4-4d9c-e087-352e1fbc9545"
      },
      "source": [
        "plot_clasi(X, t, [], [], [], [], spines=None)"
      ],
      "execution_count": 23,
      "outputs": [
        {
          "output_type": "display_data",
          "data": {
            "image/png": "[encoded data removed]",
            "text/plain": [
              "<Figure size 648x504 with 1 Axes>"
            ]
          },
          "metadata": {
            "tags": [],
            "needs_background": "light"
          }
        }
      ]
    },
    {
      "cell_type": "code",
      "metadata": {
        "id": "byQYt17SlkA6"
      },
      "source": [
        "from sklearn.model_selection import train_test_split\n",
        "\n",
        "# Split\n",
        "X, X_test, t, t_test = train_test_split(X, t, test_size=0.2)"
      ],
      "execution_count": 6,
      "outputs": []
    },
    {
      "cell_type": "markdown",
      "metadata": {
        "id": "kUvhZFbnlkA7"
      },
      "source": [
        "## Entrenamiento simple de un Random Forest"
      ]
    },
    {
      "cell_type": "code",
      "metadata": {
        "id": "osYc49pjlkA7"
      },
      "source": [
        "from sklearn.ensemble import RandomForestClassifier"
      ],
      "execution_count": 7,
      "outputs": []
    },
    {
      "cell_type": "code",
      "metadata": {
        "colab": {
          "base_uri": "https://localhost:8080/"
        },
        "id": "BnDTNGd6lkA7",
        "outputId": "1e0b9dcc-e079-4174-b352-efac0523815b"
      },
      "source": [
        "rf = RandomForestClassifier(n_estimators=100, max_depth=2, n_jobs=6)\n",
        "rf.fit(X, t)"
      ],
      "execution_count": 8,
      "outputs": [
        {
          "output_type": "execute_result",
          "data": {
            "text/plain": [
              "RandomForestClassifier(bootstrap=True, ccp_alpha=0.0, class_weight=None,\n",
              "                       criterion='gini', max_depth=2, max_features='auto',\n",
              "                       max_leaf_nodes=None, max_samples=None,\n",
              "                       min_impurity_decrease=0.0, min_impurity_split=None,\n",
              "                       min_samples_leaf=1, min_samples_split=2,\n",
              "                       min_weight_fraction_leaf=0.0, n_estimators=100, n_jobs=6,\n",
              "                       oob_score=False, random_state=None, verbose=0,\n",
              "                       warm_start=False)"
            ]
          },
          "metadata": {
            "tags": []
          },
          "execution_count": 8
        }
      ]
    },
    {
      "cell_type": "code",
      "metadata": {
        "colab": {
          "base_uri": "https://localhost:8080/",
          "height": 508
        },
        "id": "-x0CeJhYlkA7",
        "outputId": "bb6ddc09-1097-4f36-c115-c28752878ee3"
      },
      "source": [
        "fig = plot_decision_regions(rf, X, t, legend=True, npointsgrid=500, \n",
        "                            figkwargs={'figsize': [12, 8]}, \n",
        "                            contourkwargs={'alpha':0.5, 'levels':5, 'cmap':'viridis'})"
      ],
      "execution_count": 9,
      "outputs": [
        {
          "output_type": "display_data",
          "data": {
            "image/png": "[encoded data removed]",
            "text/plain": [
              "<Figure size 864x576 with 1 Axes>"
            ]
          },
          "metadata": {
            "tags": [],
            "needs_background": "light"
          }
        }
      ]
    },
    {
      "cell_type": "markdown",
      "metadata": {
        "id": "rdFBfE-dlkA8"
      },
      "source": [
        "**Claramente es un modelo que no generaliza bien**"
      ]
    },
    {
      "cell_type": "code",
      "metadata": {
        "colab": {
          "base_uri": "https://localhost:8080/"
        },
        "id": "gusX1JKplkA8",
        "outputId": "02df4aa9-e9d2-4a3d-9256-0d495b88cec2"
      },
      "source": [
        "from sklearn.metrics import accuracy_score\n",
        "\n",
        "y_train = rf.predict(X)\n",
        "y_test = rf.predict(X_test)\n",
        "print('Accuracy (train): {:.3f}'.format(accuracy_score(t, y_train)))\n",
        "print('Accuracy (test): {:.3f}'.format(accuracy_score(t_test, y_test)))"
      ],
      "execution_count": 10,
      "outputs": [
        {
          "output_type": "stream",
          "text": [
            "Accuracy (train): 0.912\n",
            "Accuracy (test): 0.875\n"
          ],
          "name": "stdout"
        }
      ]
    },
    {
      "cell_type": "markdown",
      "metadata": {
        "id": "Lj17FBK4lkA8"
      },
      "source": [
        "## Su turno!"
      ]
    },
    {
      "cell_type": "markdown",
      "metadata": {
        "id": "V2qP1_C0lkA8"
      },
      "source": [
        "Divídanse en grupos y:\n",
        "\n",
        "__Parte 1__\n",
        "\n",
        "* Separen el dataset en train y test.\n",
        "* Entrenen un `DecistionTreeClassifier` usando Cross-Validation para encontrar los mejores hiperparámetros. \n",
        "* Guarden los mejores, analicen cuales son los más relevantes para explorar (elijan no más de tres).\n",
        "* Entrenen un `RandomForestClassifier` en el mismo dataset. \n",
        "* Nuevamente, usando CV encuentren los mejores hiperparámetros.\n",
        "\n",
        "**Tip**: Recuerden que más allá de los de los parámetros del punto anterior, necesitaran optimizar `n_estimators`;\n",
        "\n",
        "**Tip2**: coffee break.\n",
        "\n",
        "* Comparen los hiperparámetros obtenidos con cada método. Les encuentran sentido? que opinan?\n",
        "\n",
        "\n",
        "Compare the hyperparameters obtained with each method. Can you make sense of what you get? \n",
        "* Definan un árbol de decisión con los parámetros optimizados para el random forest. Entrénenlo y evaluen su performance en el conjunto de testeo. ¿Qué ven?¿tiene sentido?\n",
        "\n",
        "**Note:** En todas las instancias usen la función `plot_trees` para ver los resultados.\n",
        "\n",
        "__Parte 2__\n",
        "\n",
        "* Usen Random Forests en datasets más grandes como California y MNIST.\n",
        "* Evaluate the feature importances in each case.\n",
        "\n",
        "***"
      ]
    },
    {
      "cell_type": "code",
      "metadata": {
        "id": "TIltuUCJlkA8"
      },
      "source": [
        "from sklearn.tree import DecisionTreeClassifier, plot_tree\n",
        "from sklearn.ensemble import RandomForestClassifier\n",
        "from sklearn.model_selection import RandomizedSearchCV, GridSearchCV"
      ],
      "execution_count": 11,
      "outputs": []
    },
    {
      "cell_type": "markdown",
      "metadata": {
        "id": "H8WYo0IqlkA9"
      },
      "source": [
        "### Árbol Salvaje (sin restricciones)"
      ]
    },
    {
      "cell_type": "code",
      "metadata": {
        "id": "5DfPtX7MlkA9"
      },
      "source": [
        ""
      ],
      "execution_count": null,
      "outputs": []
    },
    {
      "cell_type": "markdown",
      "metadata": {
        "tags": [],
        "id": "O9cOyg6IlkA9"
      },
      "source": [
        "### Árbol regularizado"
      ]
    },
    {
      "cell_type": "code",
      "metadata": {
        "id": "nH-eexbDlkA9"
      },
      "source": [
        "param_grid = {'param1': ...,\n",
        "              'param2': ...,\n",
        "              ...\n",
        "             }\n",
        "\n",
        "gscv_dt = GridSearchCV(..., ..., ...)"
      ],
      "execution_count": null,
      "outputs": []
    },
    {
      "cell_type": "markdown",
      "metadata": {
        "id": "F_1DEKSIlkA9"
      },
      "source": [
        "### Random Forest"
      ]
    },
    {
      "cell_type": "code",
      "metadata": {
        "id": "w4jmQ9ZtlkA9"
      },
      "source": [
        ""
      ],
      "execution_count": null,
      "outputs": []
    },
    {
      "cell_type": "markdown",
      "metadata": {
        "id": "VVUJd1LplkA9"
      },
      "source": [
        "### Entrenar DT parámetros del RF"
      ]
    },
    {
      "cell_type": "code",
      "metadata": {
        "id": "sHd66BVClkA-"
      },
      "source": [
        ""
      ],
      "execution_count": null,
      "outputs": []
    },
    {
      "cell_type": "markdown",
      "metadata": {
        "tags": [],
        "id": "6AlVrl7llkA-"
      },
      "source": [
        "## Datasets más grandes"
      ]
    },
    {
      "cell_type": "markdown",
      "metadata": {
        "tags": [],
        "id": "bnWP1f2_lkA-"
      },
      "source": [
        "###  Regresión; volviendo a California"
      ]
    },
    {
      "cell_type": "code",
      "metadata": {
        "id": "FaWovAUQlkA-"
      },
      "source": [
        "HOUSING_PATH = \"datasets\""
      ],
      "execution_count": 12,
      "outputs": []
    },
    {
      "cell_type": "code",
      "metadata": {
        "colab": {
          "base_uri": "https://localhost:8080/"
        },
        "id": "pN3DVxNZlkA-",
        "outputId": "561004b1-9061-405c-83b8-be2eae53b8a3"
      },
      "source": [
        "if 'google.colab' in sys.modules:\n",
        "        \n",
        "    import tarfile\n",
        "\n",
        "#     DOWNLOAD_ROOT = \"https://github.com/ageron/handson-ml2/raw/master/\"\n",
        "#     HOUSING_URL = DOWNLOAD_ROOT + \"datasets/housing/housing.tgz\"\n",
        "    DOWNLOAD_ROOT = \"https://github.com/IAI-UNSAM/datasets/raw/master/\"\n",
        "    HOUSING_URL = DOWNLOAD_ROOT + \"housing/housing_pp_\"\n",
        "\n",
        "    def fetch_housing_data(housing_url=HOUSING_URL, housing_path=HOUSING_PATH):\n",
        "        os.makedirs(housing_path, exist_ok=True)\n",
        "        for tt in ['train', 'test']:\n",
        "            full_path = housing_url + tt + '.csv'\n",
        "            !wget {full_path} -P {housing_path}\n",
        "            \n",
        "    # Corramos la función\n",
        "    fetch_housing_data()\n",
        "\n",
        "else: \n",
        "    print(\"Not running on Google Colab. This cell is did not do anything.\")"
      ],
      "execution_count": 13,
      "outputs": [
        {
          "output_type": "stream",
          "text": [
            "--2021-05-20 02:40:17--  https://github.com/IAI-UNSAM/datasets/raw/master/housing/housing_pp_train.csv\n",
            "Resolving github.com (github.com)... 140.82.113.3\n",
            "Connecting to github.com (github.com)|140.82.113.3|:443... connected.\n",
            "HTTP request sent, awaiting response... 302 Found\n",
            "Location: https://raw.githubusercontent.com/IAI-UNSAM/datasets/master/housing/housing_pp_train.csv [following]\n",
            "--2021-05-20 02:40:18--  https://raw.githubusercontent.com/IAI-UNSAM/datasets/master/housing/housing_pp_train.csv\n",
            "Resolving raw.githubusercontent.com (raw.githubusercontent.com)... 185.199.108.133, 185.199.109.133, 185.199.110.133, ...\n",
            "Connecting to raw.githubusercontent.com (raw.githubusercontent.com)|185.199.108.133|:443... connected.\n",
            "HTTP request sent, awaiting response... 200 OK\n",
            "Length: 3070968 (2.9M) [text/plain]\n",
            "Saving to: ‘datasets/housing_pp_train.csv’\n",
            "\n",
            "housing_pp_train.cs 100%[===================>]   2.93M  --.-KB/s    in 0.07s   \n",
            "\n",
            "2021-05-20 02:40:18 (43.0 MB/s) - ‘datasets/housing_pp_train.csv’ saved [3070968/3070968]\n",
            "\n",
            "--2021-05-20 02:40:19--  https://github.com/IAI-UNSAM/datasets/raw/master/housing/housing_pp_test.csv\n",
            "Resolving github.com (github.com)... 140.82.113.3\n",
            "Connecting to github.com (github.com)|140.82.113.3|:443... connected.\n",
            "HTTP request sent, awaiting response... 302 Found\n",
            "Location: https://raw.githubusercontent.com/IAI-UNSAM/datasets/master/housing/housing_pp_test.csv [following]\n",
            "--2021-05-20 02:40:19--  https://raw.githubusercontent.com/IAI-UNSAM/datasets/master/housing/housing_pp_test.csv\n",
            "Resolving raw.githubusercontent.com (raw.githubusercontent.com)... 185.199.109.133, 185.199.108.133, 185.199.111.133, ...\n",
            "Connecting to raw.githubusercontent.com (raw.githubusercontent.com)|185.199.109.133|:443... connected.\n",
            "HTTP request sent, awaiting response... 200 OK\n",
            "Length: 767908 (750K) [text/plain]\n",
            "Saving to: ‘datasets/housing_pp_test.csv’\n",
            "\n",
            "housing_pp_test.csv 100%[===================>] 749.91K  --.-KB/s    in 0.05s   \n",
            "\n",
            "2021-05-20 02:40:19 (14.9 MB/s) - ‘datasets/housing_pp_test.csv’ saved [767908/767908]\n",
            "\n"
          ],
          "name": "stdout"
        }
      ]
    },
    {
      "cell_type": "code",
      "metadata": {
        "id": "kdfOCb7PlkA-"
      },
      "source": [
        "import pandas as pd\n",
        "\n",
        "def load_preprocessed_housing_data(housing_path=HOUSING_PATH, kind='train'):\n",
        "    assert kind in ['train', 'test'], \"kind must be 'train' or 'test'\"\n",
        "    \n",
        "    csv_path = os.path.join(housing_path, \"housing_pp_{}.csv\".format(kind))\n",
        "    return pd.read_csv(csv_path)\n",
        "\n",
        "# The function loads the data as a Pandas DataFrame instance.\n",
        "housing_train = load_preprocessed_housing_data(kind='train')\n",
        "housing_test = load_preprocessed_housing_data(kind='test')"
      ],
      "execution_count": 14,
      "outputs": []
    },
    {
      "cell_type": "code",
      "metadata": {
        "colab": {
          "base_uri": "https://localhost:8080/"
        },
        "id": "kSZWRn1RlkA_",
        "outputId": "17ff40a5-539b-4e90-faf2-8b687b71431f"
      },
      "source": [
        "housing_train.info()"
      ],
      "execution_count": 15,
      "outputs": [
        {
          "output_type": "stream",
          "text": [
            "<class 'pandas.core.frame.DataFrame'>\n",
            "RangeIndex: 14856 entries, 0 to 14855\n",
            "Data columns (total 11 columns):\n",
            " #   Column                  Non-Null Count  Dtype  \n",
            "---  ------                  --------------  -----  \n",
            " 0   longitude               14856 non-null  float64\n",
            " 1   latitude                14856 non-null  float64\n",
            " 2   housing_median_age      14856 non-null  float64\n",
            " 3   total_rooms             14856 non-null  float64\n",
            " 4   total_bedrooms          14856 non-null  float64\n",
            " 5   population              14856 non-null  float64\n",
            " 6   households              14856 non-null  float64\n",
            " 7   median_income           14856 non-null  float64\n",
            " 8   bedrooms_per_rooms      14856 non-null  float64\n",
            " 9   bedrooms_per_household  14856 non-null  float64\n",
            " 10  median_house_value      14856 non-null  float64\n",
            "dtypes: float64(11)\n",
            "memory usage: 1.2 MB\n"
          ],
          "name": "stdout"
        }
      ]
    },
    {
      "cell_type": "code",
      "metadata": {
        "colab": {
          "base_uri": "https://localhost:8080/"
        },
        "id": "OZ8mJNSBlkA_",
        "outputId": "77222819-d259-48dd-ba91-d5db9818ee1a"
      },
      "source": [
        "# Predictor variables (in a matrix, as required by sklearn)\n",
        "X = housing_train.drop('median_house_value', axis=1, inplace=False)\n",
        "t = housing_train.median_house_value.values\n",
        "\n",
        "X_test = housing_test.drop('median_house_value', axis=1, inplace=False)\n",
        "t_test = housing_test.median_house_value.values\n",
        "\n",
        "print(X.shape, t.shape)"
      ],
      "execution_count": 16,
      "outputs": [
        {
          "output_type": "stream",
          "text": [
            "(14856, 10) (14856,)\n"
          ],
          "name": "stdout"
        }
      ]
    },
    {
      "cell_type": "code",
      "metadata": {
        "id": "uSibvOxQlkA_"
      },
      "source": [
        "from sklearn.ensemble import RandomForestRegressor\n"
      ],
      "execution_count": 17,
      "outputs": []
    },
    {
      "cell_type": "markdown",
      "metadata": {
        "tags": [],
        "id": "SxSdtlRWlkA_"
      },
      "source": [
        "###  Clasificación; MNIST"
      ]
    },
    {
      "cell_type": "code",
      "metadata": {
        "hidden": true,
        "id": "bMTVP_DfWu9o"
      },
      "source": [
        "try:\n",
        "    from sklearn.datasets import fetch_openml\n",
        "    mnist = fetch_openml('mnist_784', version=1)\n",
        "    mnist.target = mnist.target.astype(np.int64)\n",
        "except ImportError:\n",
        "    from sklearn.datasets import fetch_mldata\n",
        "    mnist = fetch_mldata('MNIST original')"
      ],
      "execution_count": 20,
      "outputs": []
    },
    {
      "cell_type": "code",
      "metadata": {
        "hidden": true,
        "id": "NQ2VejcTXfip"
      },
      "source": [
        "def plot_digit(data):\n",
        "    image = data.reshape(28, 28)\n",
        "    plt.imshow(image, cmap = 'plasma',\n",
        "               interpolation=\"nearest\")\n",
        "    plt.axis(\"off\")"
      ],
      "execution_count": 21,
      "outputs": []
    },
    {
      "cell_type": "code",
      "metadata": {
        "id": "O5i6PPQFlkBA"
      },
      "source": [
        ""
      ],
      "execution_count": null,
      "outputs": []
    }
  ]
}