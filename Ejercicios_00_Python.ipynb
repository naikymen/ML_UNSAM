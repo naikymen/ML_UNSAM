{
 "cells": [
  {
   "cell_type": "markdown",
   "metadata": {
    "colab_type": "text",
    "id": "OIHiN71l-V-y"
   },
   "source": [
    "# Guía de ejercicios de Python"
   ]
  },
  {
   "cell_type": "code",
   "execution_count": 119,
   "metadata": {
    "colab": {},
    "colab_type": "code",
    "id": "gwdzFKL6-V-4"
   },
   "outputs": [],
   "source": [
    "# Por si alguien corre en python2\n",
    "from __future__ import division\n",
    "\n",
    "# Preparamos todo para correr\n",
    "import numpy as np\n",
    "from math import *\n",
    "from matplotlib import pyplot as plt\n",
    "import pandas as pd\n",
    "from scipy.stats import norm"
   ]
  },
  {
   "cell_type": "markdown",
   "metadata": {
    "colab_type": "text",
    "id": "awe7q_km-V_H"
   },
   "source": [
    "## Ejercicio 1\n",
    "\n",
    "\n",
    "a. Cree un array de numpy de 10x10 cuyos elementos estén distribuidos de manera uniforme entre 1 y 3.\n",
    "\n",
    "b. A partir de este array, cree un array unidimensional que contenga todos los elementos de la diagonal.\n",
    "\n",
    "c. Determine si la matriz es inversible y de serlo obtenga sus autovalores y autovectores utilizando <tt>numpy.linalg.eig</tt>.\n",
    "\n",
    "d. Utilizando indexing obtenga un array unidimensional que contenga el elemento más cercano a 2.33 de cada fila. Repita para cada columna.\n",
    "\n",
    "<b>Tip</b>: Utilice <tt>np.abs</tt> y <tt>np.argmin</tt>.\n",
    "\n",
    "e. Haga estadistica sobre los items b,c,d. ¿Tiene sentido lo que encuentra? Visualice lo encontrado en función del número de muestras N.\n",
    "\n",
    "<b>Tip</b>: Una manera sencilla es repetir el ejercicio creando un array de numpy de dimensión Nx10x10, donde N es el número de muestras y loopear sobre ellas.\n",
    "\n",
    "<b> Tip </b>: El item c puede generar problemas ya que al hacer estadistica puede haber un caso en el que la matriz no sea inversible. ¿Qué se puede hacer para tener en cuenta este problema?\n",
    "\n",
    "d. Repita los items a, b,c y e para una distribución normal con media 1.0 y varianza 0.05."
   ]
  },
  {
   "cell_type": "code",
   "execution_count": 12,
   "metadata": {
    "colab": {},
    "colab_type": "code",
    "id": "1L9xCz0aKHa4"
   },
   "outputs": [
    {
     "name": "stdout",
     "output_type": "stream",
     "text": [
      "[[1.70505867 1.8988491  0.10308467 0.46044594 0.79982506 2.04930658\n",
      "  0.01593923 0.94612434 0.08327343 0.62024903]\n",
      " [2.88047811 1.49022206 2.22339584 0.23492647 2.49106006 2.19239277\n",
      "  1.19539446 1.22606433 1.97877133 1.1140796 ]\n",
      " [2.27349865 0.18640384 0.84276817 2.23290687 2.50353531 2.77292898\n",
      "  2.37654027 2.13447742 0.38409296 1.61229965]\n",
      " [2.31005744 2.55992209 1.47838399 1.94314076 2.26246514 1.77302154\n",
      "  2.46332342 0.64560716 0.1081543  0.63343402]\n",
      " [1.4996388  2.56678547 2.93030661 1.2171628  2.41935146 1.90320828\n",
      "  2.27361053 0.66564211 2.96922006 0.26727355]\n",
      " [0.82925851 1.66197644 2.30076911 0.20294752 1.42483358 0.53201106\n",
      "  2.73783719 2.41294136 1.9103318  1.09862448]\n",
      " [0.61430039 0.1566069  0.10141672 0.53946482 2.35215051 1.43768141\n",
      "  2.99472695 0.0712269  0.2811422  0.2576989 ]\n",
      " [1.3021697  0.56878274 2.0601542  2.26193914 2.40630535 2.38778113\n",
      "  1.50486423 1.06132148 1.83316168 2.17086354]\n",
      " [0.78156455 1.49803715 2.15716289 0.93677548 0.25637727 2.76789\n",
      "  2.56404892 2.89934041 0.57640613 2.11036929]\n",
      " [1.90450008 0.6722902  2.00210602 0.33206081 1.70511662 0.14629626\n",
      "  0.00390213 1.62091974 2.60867554 2.003108  ]]\n"
     ]
    }
   ],
   "source": [
    "# a\n",
    "pato = np.random.rand(10,10)*3\n",
    "print(pato)"
   ]
  },
  {
   "cell_type": "code",
   "execution_count": 11,
   "metadata": {},
   "outputs": [
    {
     "name": "stdout",
     "output_type": "stream",
     "text": [
      "[1.35727065 1.41625953 2.02961285 1.55002524 2.55455346 2.22435049\n",
      " 1.35345003 2.95904597 2.15123892 1.85019758]\n"
     ]
    }
   ],
   "source": [
    "# b\n",
    "ganso = pato.diagonal()\n",
    "print(ganso)"
   ]
  },
  {
   "cell_type": "code",
   "execution_count": 68,
   "metadata": {},
   "outputs": [
    {
     "name": "stdout",
     "output_type": "stream",
     "text": [
      "(array([14.75813579+0.j        ,  3.24526356+0.j        ,\n",
      "        1.5269006 +1.51117384j,  1.5269006 -1.51117384j,\n",
      "       -2.25260575+0.j        , -0.98014545+1.49447797j,\n",
      "       -0.98014545-1.49447797j,  0.49561729+0.j        ,\n",
      "       -0.88590322+0.60585631j, -0.88590322-0.60585631j]), array([[-0.18196298+0.j        ,  0.3828442 +0.j        ,\n",
      "        -0.0925059 -0.36554497j, -0.0925059 +0.36554497j,\n",
      "        -0.33611062+0.j        , -0.1880249 -0.05573644j,\n",
      "        -0.1880249 +0.05573644j,  0.32704064+0.j        ,\n",
      "        -0.41072367+0.13053155j, -0.41072367-0.13053155j],\n",
      "       [-0.35343766+0.j        ,  0.27298343+0.j        ,\n",
      "         0.10139408-0.26900065j,  0.10139408+0.26900065j,\n",
      "         0.03951317+0.j        ,  0.07487652-0.10248748j,\n",
      "         0.07487652+0.10248748j,  0.07867842+0.j        ,\n",
      "         0.29044894-0.17525008j,  0.29044894+0.17525008j],\n",
      "       [-0.34795478+0.j        , -0.07464333+0.j        ,\n",
      "        -0.22273646+0.22428857j, -0.22273646-0.22428857j,\n",
      "        -0.18461165+0.j        , -0.22188043-0.05506964j,\n",
      "        -0.22188043+0.05506964j, -0.40305532+0.j        ,\n",
      "         0.16497382+0.24626102j,  0.16497382-0.24626102j],\n",
      "       [-0.32461742+0.j        , -0.08105271+0.j        ,\n",
      "        -0.62585184+0.j        , -0.62585184-0.j        ,\n",
      "         0.01002665+0.j        , -0.19328268+0.17849686j,\n",
      "        -0.19328268-0.17849686j, -0.13779224+0.j        ,\n",
      "        -0.25581178-0.05277611j, -0.25581178+0.05277611j],\n",
      "       [-0.39697378+0.j        , -0.17630919+0.j        ,\n",
      "         0.01855302+0.0343813j ,  0.01855302-0.0343813j ,\n",
      "         0.13072677+0.j        ,  0.58773958+0.j        ,\n",
      "         0.58773958-0.j        , -0.44666668+0.j        ,\n",
      "         0.38164864+0.01678112j,  0.38164864-0.01678112j],\n",
      "       [-0.31464693+0.j        , -0.09825311+0.j        ,\n",
      "         0.24888379+0.0876341j ,  0.24888379-0.0876341j ,\n",
      "         0.6633469 +0.j        , -0.08445382+0.09427953j,\n",
      "        -0.08445382-0.09427953j, -0.03550363+0.j        ,\n",
      "         0.04671213-0.07584661j,  0.04671213+0.07584661j],\n",
      "       [-0.16642733+0.j        , -0.59066737+0.j        ,\n",
      "        -0.04545342-0.04430277j, -0.04545342+0.04430277j,\n",
      "        -0.20735106+0.j        , -0.20484763-0.13802486j,\n",
      "        -0.20484763+0.13802486j,  0.33082248+0.j        ,\n",
      "        -0.15209541-0.01008516j, -0.15209541+0.01008516j],\n",
      "       [-0.37073208+0.j        ,  0.09334991+0.j        ,\n",
      "         0.00103039+0.2562684j ,  0.00103039-0.2562684j ,\n",
      "        -0.44380142+0.j        ,  0.22362478-0.10022607j,\n",
      "         0.22362478+0.10022607j, -0.32837025+0.j        ,\n",
      "        -0.05447055-0.04455403j, -0.05447055+0.04455403j],\n",
      "       [-0.33814616+0.j        ,  0.06855741+0.j        ,\n",
      "         0.2670761 +0.12190002j,  0.2670761 -0.12190002j,\n",
      "        -0.09327568+0.j        , -0.19357676+0.48319355j,\n",
      "        -0.19357676-0.48319355j,  0.31442912+0.j        ,\n",
      "        -0.46391441+0.j        , -0.46391441-0.j        ],\n",
      "       [-0.28186568+0.j        ,  0.60309895+0.j        ,\n",
      "         0.22589829-0.07415019j,  0.22589829+0.07415019j,\n",
      "         0.38146199+0.j        ,  0.11070165-0.24128521j,\n",
      "         0.11070165+0.24128521j,  0.43417277+0.j        ,\n",
      "         0.36430666-0.1145155j ,  0.36430666+0.1145155j ]]))\n"
     ]
    }
   ],
   "source": [
    "# c\n",
    "if np.linalg.det(pato) != 0:\n",
    "    autocosas = np.linalg.eig(pato)\n",
    "    print(autocosas)\n",
    "else:\n",
    "    print(\"No inversible\")"
   ]
  },
  {
   "cell_type": "code",
   "execution_count": 73,
   "metadata": {},
   "outputs": [
    {
     "name": "stdout",
     "output_type": "stream",
     "text": [
      "[2.049306584902925, 2.223395843871212, 2.37654026930872, 2.3100574417127624, 2.2736105344445328, 2.300769107156174, 2.3521505091937085, 2.387781131316209, 2.157162887005976, 2.608675539829307]\n",
      "[2.3100574417127624, 2.559922091886214, 2.300769107156174, 2.2619391388056282, 2.3521505091937085, 2.387781131316209, 2.37654026930872, 2.4129413629417504, 2.608675539829307, 2.1708635378228887]\n"
     ]
    }
   ],
   "source": [
    "# d\n",
    "i=[r[np.abs(r - 2.33).argmin()] for r in pato]\n",
    "j=[r[np.abs(r - 2.33).argmin()] for r in pato.T]\n",
    "print(i)\n",
    "print(j)"
   ]
  },
  {
   "cell_type": "code",
   "execution_count": 74,
   "metadata": {},
   "outputs": [
    {
     "name": "stdout",
     "output_type": "stream",
     "text": [
      "1.48940340176145\n",
      "1.9446004730594588\n",
      "2.3039449848741524\n",
      "2.374164012997336\n"
     ]
    }
   ],
   "source": [
    "# e\n",
    "# ¿qué significará \"hacer estadística\"?\n",
    "print(np.mean(pato))\n",
    "print(np.mean(ganso))\n",
    "print(np.mean(i))\n",
    "print(np.mean(j))"
   ]
  },
  {
   "cell_type": "code",
   "execution_count": 110,
   "metadata": {},
   "outputs": [
    {
     "name": "stdout",
     "output_type": "stream",
     "text": [
      "[[1.37317474 1.53186302 2.33104473 2.37203864]\n",
      " [1.54021166 1.83055975 2.30745332 2.31971106]\n",
      " [1.49497604 1.40003539 2.34936816 2.34756832]\n",
      " [1.51087621 1.47585056 2.31502961 2.32293737]\n",
      " [1.50342064 1.51466745 2.32449249 2.33278025]\n",
      " [1.49189258 1.50166372 2.32861124 2.32935595]\n",
      " [1.49567407 1.43847333 2.32096323 2.32838304]\n",
      " [1.49646284 1.50193282 2.32796224 2.32713531]\n",
      " [1.50361121 1.5057554  2.32658717 2.33227334]\n",
      " [1.49865285 1.49425119 2.32428023 2.32881113]]\n"
     ]
    }
   ],
   "source": [
    "# ¿qué significará \"muestras\"? ¿las filas, columnas, la tercera dimensión? ni idea\n",
    "N = [1,5,10,20,40,80,160,320,640,1280]\n",
    "resultado = np.empty((N.__len__(),4))\n",
    "for i,n in enumerate(N):\n",
    "    patos = np.empty(n,10,10)\n",
    "    patos[,,] = norm.rvs(size=10*10*n)\n",
    "    gansos = [pato.diagonal() for pato in patos]\n",
    "    autocosas = [np.linalg.eig(pato) for pato in patos]\n",
    "    rowmin=[[r[np.abs(r - 2.33).argmin()] for r in pato] for pato in patos]\n",
    "    colmin=[[r[np.abs(r - 2.33).argmin()] for r in pato.T] for pato in patos]\n",
    "    resultado[i,0] = np.mean(patos)\n",
    "    resultado[i,1] = np.mean(gansos)\n",
    "    resultado[i,2] = np.mean(rowmin)\n",
    "    resultado[i,3] = np.mean(colmin)\n",
    "\n",
    "print(resultado)"
   ]
  },
  {
   "cell_type": "code",
   "execution_count": 111,
   "metadata": {},
   "outputs": [
    {
     "data": {
      "text/plain": [
       "<AxesSubplot:>"
      ]
     },
     "execution_count": 111,
     "metadata": {},
     "output_type": "execute_result"
    },
    {
     "data": {
      "image/png": "[encoded data removed]",
      "text/plain": [
       "<Figure size 432x288 with 1 Axes>"
      ]
     },
     "metadata": {
      "needs_background": "light"
     },
     "output_type": "display_data"
    }
   ],
   "source": [
    "df = pd.DataFrame(resultado)\n",
    "df.columns = [\"media de todo\" ,\"media diagonales\", \"media 2.33 rowmins\", \"media 2.33 colmins\"]\n",
    "df.plot()"
   ]
  },
  {
   "cell_type": "code",
   "execution_count": 141,
   "metadata": {},
   "outputs": [
    {
     "name": "stdout",
     "output_type": "stream",
     "text": [
      "[[ 0.09765775  0.0287034 ]\n",
      " [ 0.02726627  0.05505301]\n",
      " [-0.02961085  0.11457643]\n",
      " [-0.01440491  0.00133828]\n",
      " [ 0.0257758   0.00739043]\n",
      " [ 0.0205184   0.01801031]\n",
      " [-0.00884237 -0.01607205]\n",
      " [-0.00566374  0.00733281]\n",
      " [ 0.00192476 -0.00663841]\n",
      " [-0.00115543  0.01314603]]\n"
     ]
    },
    {
     "data": {
      "text/plain": [
       "<AxesSubplot:>"
      ]
     },
     "execution_count": 141,
     "metadata": {},
     "output_type": "execute_result"
    },
    {
     "data": {
      "image/png": "[encoded data removed]",
      "text/plain": [
       "<Figure size 432x288 with 1 Axes>"
      ]
     },
     "metadata": {
      "needs_background": "light"
     },
     "output_type": "display_data"
    }
   ],
   "source": [
    "# f\n",
    "\n",
    "N = [1,5,10,20,40,80,160,320,640,1280]\n",
    "resultado = np.empty((N.__len__(),2))\n",
    "for i,n in enumerate(N):\n",
    "    patos = np.empty((n,10,10))\n",
    "    patos.flat = norm.rvs(size=10*10*n)\n",
    "    gansos = [pato.diagonal() for pato in patos]\n",
    "    autocosas = [np.linalg.eig(pato) for pato in patos]\n",
    "    resultado[i,0] = np.mean(patos)\n",
    "    resultado[i,1] = np.mean(gansos)\n",
    "\n",
    "print(resultado)\n",
    "\n",
    "# Deberia ser con puntos en vez de lineas\n",
    "df = pd.DataFrame(resultado)\n",
    "df.columns = [\"media de todo\", \"media diagonales\"]\n",
    "df.plot()"
   ]
  },
  {
   "cell_type": "markdown",
   "metadata": {
    "colab_type": "text",
    "id": "N6L7JWotS1CQ"
   },
   "source": [
    "### Ejercicio 2\n",
    "\n",
    "a) Cree un array $x_{ij}$ distribuido normalmente (`np.random.randn`), con media $\\mu_{i}$ = $i*10^{-2}$ y varianza $\\sigma_{j}$ = $j*10^{-3}$, de dimensión 100×1000 (i es la fila, j es la columna).\n",
    "\n",
    "b) Calcule la media por columna y  la desviación estándar por fila.  ¿Qué observa? \n",
    "\n",
    "c) Calcule el promedio por fila de los elementos que estén por encima de 0.7.\n",
    "\n",
    "<b>Tip</b>: Utilice <tt>np.where</tt> y, para el item c, un loop. Para el item a es posible hacer todo sin ningún loop."
   ]
  },
  {
   "cell_type": "code",
   "execution_count": 173,
   "metadata": {
    "colab": {},
    "colab_type": "code",
    "id": "ngQxNtt2S4Fn"
   },
   "outputs": [
    {
     "data": {
      "text/plain": [
       "(100, 1000)"
      ]
     },
     "execution_count": 173,
     "metadata": {},
     "output_type": "execute_result"
    }
   ],
   "source": [
    "scale=[i * 10**(-3) for i in range(1, 1001)]\n",
    "# scale is vectorized: https://stackoverflow.com/a/55788560/11524079\n",
    "cisne = np.random.normal(size=(100, 1000), scale=scale)\n",
    "cisne.shape"
   ]
  },
  {
   "cell_type": "code",
   "execution_count": 174,
   "metadata": {},
   "outputs": [],
   "source": [
    "# Eso me deja con un array que tiene muestras normales con diferente sigma en cada columna\n",
    "# Si ahora intento cambiarle la media \"por fila\", los sigmas por columnas van a cambiar.\n",
    "# No se puede separar en partes independientes este problema.\n",
    "# Si hay alguna función que haga esto, no la conozco."
   ]
  },
  {
   "cell_type": "code",
   "execution_count": null,
   "metadata": {},
   "outputs": [],
   "source": []
  },
  {
   "cell_type": "code",
   "execution_count": null,
   "metadata": {},
   "outputs": [],
   "source": []
  }
 ],
 "metadata": {
  "colab": {
   "collapsed_sections": [],
   "name": "Ejercicios_01p_IntroPython.ipynb",
   "provenance": []
  },
  "kernelspec": {
   "display_name": "Python 3",
   "language": "python",
   "name": "python3"
  },
  "language_info": {
   "codemirror_mode": {
    "name": "ipython",
    "version": 3
   },
   "file_extension": ".py",
   "mimetype": "text/x-python",
   "name": "python",
   "nbconvert_exporter": "python",
   "pygments_lexer": "ipython3",
   "version": "3.9.2"
  },
  "toc": {
   "base_numbering": 1,
   "nav_menu": {},
   "number_sections": true,
   "sideBar": true,
   "skip_h1_title": false,
   "title_cell": "Table of Contents",
   "title_sidebar": "Contents",
   "toc_cell": false,
   "toc_position": {},
   "toc_section_display": true,
   "toc_window_display": false
  }
 },
 "nbformat": 4,
 "nbformat_minor": 4
}
