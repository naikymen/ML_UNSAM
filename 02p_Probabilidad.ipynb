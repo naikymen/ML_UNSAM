{
  "nbformat": 4,
  "nbformat_minor": 0,
  "metadata": {
    "colab": {
      "name": "02p_Probabilidad_en_blanco.ipynb",
      "provenance": [],
      "collapsed_sections": []
    },
    "kernelspec": {
      "name": "python3",
      "display_name": "Python 3"
    }
  },
  "cells": [
    {
      "cell_type": "markdown",
      "metadata": {
        "id": "zYfU9a-XL4Uz"
      },
      "source": [
        "En este Notebook  vamos a explorar un poco los conceptos de aleatoreidad y probabilidad en Python"
      ]
    },
    {
      "cell_type": "markdown",
      "metadata": {
        "id": "nxwLR7oTMouW"
      },
      "source": [
        "# Importamos lo necesario"
      ]
    },
    {
      "cell_type": "code",
      "metadata": {
        "id": "uF5tQ5DeK0Sc"
      },
      "source": [
        "import numpy as np\r\n",
        "from math import sqrt\r\n",
        "from matplotlib import pylab as plt"
      ],
      "execution_count": null,
      "outputs": []
    },
    {
      "cell_type": "markdown",
      "metadata": {
        "id": "iCLauPLFMrkf"
      },
      "source": [
        "# Aleatoriedad"
      ]
    },
    {
      "cell_type": "markdown",
      "metadata": {
        "id": "xV7rsk3JMx_N"
      },
      "source": [
        "La aleatoredidad es un concepto central de la teoría de probabilidad. En general, la aleatoredidad viene asociada con la incetidumbre, que puede surgir por los errores de los datos o por los tamaños finitos de las muestras.\r\n",
        "\r\n",
        "En la computadora, la aleatoreidad se simula usando como base un generador de números pseudo aleatorios (GNPA). Un GNPA genera una serie de números cuyas propiedades son similares a las de una serie de números aleatorios.\r\n",
        "\r\n",
        "En python muchas de las funciones relacionadas están implementadas en el módulo random, pero una implementación más práctica aparece en el paquete numpy"
      ]
    },
    {
      "cell_type": "code",
      "metadata": {
        "id": "9I8QCDpwMq47"
      },
      "source": [
        "from numpy import random"
      ],
      "execution_count": null,
      "outputs": []
    },
    {
      "cell_type": "markdown",
      "metadata": {
        "id": "81YNPvc2M_8b"
      },
      "source": [
        "Podemos generar un numero al azar entre 0 y 1 facilmente"
      ]
    },
    {
      "cell_type": "code",
      "metadata": {
        "id": "11mMY_GNM3QK"
      },
      "source": [
        "random.rand()"
      ],
      "execution_count": null,
      "outputs": []
    },
    {
      "cell_type": "markdown",
      "metadata": {
        "id": "6GWjFrdCNF8d"
      },
      "source": [
        "Si corren la celda de arriba muchas veces, el resultado obtenido es diferente, pero siempre un número entre 0 y 1. Pero en realidad, los GNPA utilizan algoritmos, cuyas propiedades estás perfectamente definidas por el valor inicial (la semilla, o <em>seed</em>). Por lo tanto, no son realmente aleatorios."
      ]
    },
    {
      "cell_type": "code",
      "metadata": {
        "id": "svsPZlO0NEf_"
      },
      "source": [
        "random.seed(1234)\r\n",
        "print(random.rand())\r\n",
        "random.seed(1234)\r\n",
        "print(random.rand())"
      ],
      "execution_count": null,
      "outputs": []
    },
    {
      "cell_type": "markdown",
      "metadata": {
        "id": "aotTdfQzN969"
      },
      "source": [
        "Una característica práctica de la implementación en <tt>numpy</tt> es que se puede generar <tt>arrays</tt> de números aleatorios, pasándole el tamaño en cada dimensión. Esto puede ahorrarnos bastante tiempo"
      ]
    },
    {
      "cell_type": "code",
      "metadata": {
        "id": "KjRlDb7CN9JP"
      },
      "source": [
        "random.seed(1234)\r\n",
        "print('Un array de 5x1')\r\n",
        "print(random.rand(5,))\r\n",
        "print('Un array de 3x2')\r\n",
        "print(random.rand(3,2))"
      ],
      "execution_count": null,
      "outputs": []
    },
    {
      "cell_type": "markdown",
      "metadata": {
        "id": "HU-WGvY7OKRu"
      },
      "source": [
        "Y por supuesto, si vuelvo a la misma semilla, los resultado son idénticos."
      ]
    },
    {
      "cell_type": "code",
      "metadata": {
        "id": "8dlMzlh-OFki"
      },
      "source": [
        "random.seed(1234)\r\n",
        "print('Un array de 5x1')\r\n",
        "print(random.rand(5,))\r\n",
        "print('Un array de 3x2')\r\n",
        "print(random.rand(3,2))"
      ],
      "execution_count": null,
      "outputs": []
    },
    {
      "cell_type": "markdown",
      "metadata": {
        "id": "01HX5VUEOTMl"
      },
      "source": [
        "Como se puede ver arriba, para una semilla dada, la serie de números generada es idéntica. En la actualidad, fijar el <em>seed</em> de la manera que aparece arriba se considera mala práctica, y la sugerencia es hacer lo siguiente:"
      ]
    },
    {
      "cell_type": "code",
      "metadata": {
        "id": "kBHcrH39OOHz"
      },
      "source": [
        "from numpy.random import RandomState, SeedSequence\r\n",
        "rs = RandomState(random.MT19937(SeedSequence(1234)))\r\n",
        "print(rs.rand(5,))\r\n",
        "# Later, you want to restart the stream\r\n",
        "rs = RandomState(random.MT19937(SeedSequence(1234)))\r\n",
        "print(rs.rand(5,))"
      ],
      "execution_count": null,
      "outputs": []
    },
    {
      "cell_type": "markdown",
      "metadata": {
        "id": "Hq-T9HmBOdMl"
      },
      "source": [
        "De esta manera, se puede tener generadores independientes, inicializados de manera diferente, cosa que no podía hacerse antes.\r\n"
      ]
    },
    {
      "cell_type": "markdown",
      "metadata": {
        "id": "E3oa50peOeLw"
      },
      "source": [
        "# Probabilidad"
      ]
    },
    {
      "cell_type": "markdown",
      "metadata": {
        "id": "eDtVW5k3Of6p"
      },
      "source": [
        "Pero... que significa que `numpy.random.rand()` genere numeros al azar entre [0, 1)?\r\n",
        "\r\n",
        "La variable aleatoria $x$ sigue una distribucion **uniforme** en [0.0, 1.0).\r\n",
        "\r\n",
        "Podemos caracterizar una distribucion uniforme en [a,b) definiendo su densidad de probabilidad como:\r\n",
        "\r\n",
        "$p(x)=\\frac{1}{b-a}$ si $a \\leq x < b$\r\n",
        "\r\n",
        "$p(x)=0$ si $a > x$ o $ b \\leq x$\r\n"
      ]
    },
    {
      "cell_type": "markdown",
      "metadata": {
        "id": "OCIqXQ3wPysp"
      },
      "source": [
        "Como comprobamos que $x$ sigue una distribuccion uniforme?\r\n",
        "\r\n",
        "Bueno, podemos generar N tiradas y aprovechar que tenemos N variables independientes identicamente distribuidas para obtener los momentos de $x$. Si los momentos son los de la distribucion uniforme, gane.\r\n",
        "\r\n",
        "Calculemos para N = 10 la media y la desviacion estandar de $x$, puede hacerlo a mano o utilizando `np.mean` y `np.std` y comparen con los resultados esperados sabiendo que\r\n",
        "\r\n",
        "$\\mu = \\int p(x)x dx = \\int_{a}^{b}\\frac{x}{b-a}dx=\\frac{b^{2}-a^{2}}{2(b-a)}=\\frac{b+a}{2}$\r\n",
        "\r\n",
        "$\\sigma^{2}=\\int p(x)(x-\\mu)^{2}dx = \\frac{1}{b-a}\\int_{a}^{b}(x-\\frac{a+b}{2})^{2}dx = \\frac{1}{b-a}\\int_{-(b-a)/2}^{(b-a)/2}u^{2}du=\\frac{(b-a)^{2}}{12}$\r\n",
        "\r\n",
        "\r\n",
        "Notese que estamos haciendo la aproximacion\r\n",
        "\r\n",
        "$\\mu \\approx \\frac{1}{N}\\sum_{n=1}^{N}x_{n}$\r\n",
        "\r\n",
        "$\\sigma^{2} \\approx \\frac{1}{N}\\sum_{n=1}^{N}(x_{n}-\\mu)^{2}$\r\n"
      ]
    },
    {
      "cell_type": "markdown",
      "metadata": {
        "id": "8MVooPnqS44j"
      },
      "source": [
        "## Ejercicio"
      ]
    },
    {
      "cell_type": "code",
      "metadata": {
        "id": "kBBXwBW2OVKp"
      },
      "source": [
        ""
      ],
      "execution_count": null,
      "outputs": []
    },
    {
      "cell_type": "markdown",
      "metadata": {
        "id": "DNJzi1G5S-zW"
      },
      "source": [
        "### Seguimos"
      ]
    },
    {
      "cell_type": "markdown",
      "metadata": {
        "id": "YKsEQtRPSe84"
      },
      "source": [
        "Que esta pasando?\r\n",
        "\r\n",
        "En efecto,  los estimadores no dan exactamente lo que esperamos. Como mejorar esto?\r\n",
        "\r\n",
        "Probemos con N = 10000"
      ]
    },
    {
      "cell_type": "code",
      "metadata": {
        "id": "0qt7WLzWSRnB"
      },
      "source": [
        "N=10000\r\n",
        "experimentos=random.rand(N)\r\n",
        "print(np.mean(experimentos),np.std(experimentos))"
      ],
      "execution_count": null,
      "outputs": []
    },
    {
      "cell_type": "markdown",
      "metadata": {
        "id": "6atftHnISyfa"
      },
      "source": [
        "Mucho mas cerca...\r\n",
        "\r\n",
        "Ahora, grafiquen la media y la desviacion estandar en funcion de N, para de N = 10, 100, 1000, 10000, 100000, 1000000"
      ]
    },
    {
      "cell_type": "markdown",
      "metadata": {
        "id": "E7ItGXYHTCNt"
      },
      "source": [
        "### Otro ejercicio"
      ]
    },
    {
      "cell_type": "code",
      "metadata": {
        "id": "clH_vVtASxBp"
      },
      "source": [
        ""
      ],
      "execution_count": null,
      "outputs": []
    },
    {
      "cell_type": "code",
      "metadata": {
        "id": "Xn0riQ3ZTnmi"
      },
      "source": [
        ""
      ],
      "execution_count": null,
      "outputs": []
    },
    {
      "cell_type": "markdown",
      "metadata": {
        "id": "rJfLxnC7UMrc"
      },
      "source": [
        "### Seguimos"
      ]
    },
    {
      "cell_type": "markdown",
      "metadata": {
        "id": "-eNsNWYFU4Q3"
      },
      "source": [
        "Ademas de comparar momentos, podemos visualizar las mediciones. Una opcion es usar un box plot, donde se muestran los cuantiles de los datos"
      ]
    },
    {
      "cell_type": "code",
      "metadata": {
        "id": "Qx5lIW7UTpKA"
      },
      "source": [
        "from matplotlib.pyplot import boxplot\r\n",
        "\r\n",
        "data = [experimentos[:m] for m in [10,100,1000,10000,100000,1000000]]\r\n",
        "fig, ax = plt.subplots()\r\n",
        "ax.set_title('Multiple Samples with Different sizes')\r\n",
        "ax.boxplot(data)\r\n",
        "fig.show()"
      ],
      "execution_count": null,
      "outputs": []
    },
    {
      "cell_type": "markdown",
      "metadata": {
        "id": "9lCWp4wMV2q6"
      },
      "source": [
        "La opcion que vamos a preferir en la materia es utilizar histogramas.\r\n",
        "\r\n",
        "Los histogramas separan el rango de variable aleatoria en M bines. Luego, cuentan cuantos eventos caen en cada bin. Al hacer los histogramas, suele ser mas seguro definir los bines de antemano. Por ejemplo, con `np.linspace` o `np.range`.\r\n"
      ]
    },
    {
      "cell_type": "code",
      "metadata": {
        "id": "pjNMTR8GVsmr"
      },
      "source": [
        "bins=np.linspace(0.0,1.0,10)\r\n",
        "for dato in data:\r\n",
        "  plt.hist(dato,bins=bins,color='blue',alpha=0.4)\r\n",
        "  plt.xlabel('$x$')\r\n",
        "  plt.ylabel('$N_{\\text{eventos}}$')\r\n",
        "  plt.title('Histograma para '+str(len(dato))+' mediciones')\r\n",
        "  plt.show()"
      ],
      "execution_count": null,
      "outputs": []
    },
    {
      "cell_type": "markdown",
      "metadata": {
        "id": "qjynrl3BXWii"
      },
      "source": [
        "Podemos normalizar los histogramas para que la suma de todos los conteos de 1. Una ventaja de esto es que podemos comparar con la distribucion de probabilidad."
      ]
    },
    {
      "cell_type": "code",
      "metadata": {
        "id": "1h82pbpcWUr1"
      },
      "source": [
        "bins=np.linspace(0.0,1.0,10)\r\n",
        "for dato in data:\r\n",
        "  plt.hist(dato,bins=bins,color='blue',alpha=0.4,density='True')\r\n",
        "  plt.plot(bins,[(1.0/(b-a)) for i in range(len(bins))], color='black', linestyle='dotted')\r\n",
        "  plt.xlabel('$x$')\r\n",
        "  plt.ylabel('$N_{\\text{eventos}}$')\r\n",
        "  plt.title('Histograma para '+str(len(dato))+' mediciones')\r\n",
        "  plt.show()"
      ],
      "execution_count": null,
      "outputs": []
    },
    {
      "cell_type": "markdown",
      "metadata": {
        "id": "jExchur6Xr-1"
      },
      "source": [
        "Noten que p(x)>1.0 para algunos bines. Esto no es errado por que estamos con una pdf, no una pmf, aunque los bines sean discretos. Otra diferencia entre pdf y pmf es que, si sumamos:"
      ]
    },
    {
      "cell_type": "code",
      "metadata": {
        "id": "crdh3adRXknu"
      },
      "source": [
        "binned_data, hist_bins, pp = plt.hist(data[0],bins=bins,color='blue',alpha=0.4,density='True')\r\n",
        "print(np.sum(binned_data))"
      ],
      "execution_count": null,
      "outputs": []
    },
    {
      "cell_type": "markdown",
      "metadata": {
        "id": "cwsF6S5jYBSA"
      },
      "source": [
        "No da 1! Eso es porque falto incluir el bineado"
      ]
    },
    {
      "cell_type": "code",
      "metadata": {
        "id": "d9ZRHFKbYANM"
      },
      "source": [
        "np.sum(binned_data*(hist_bins[1]-hist_bins[0]))"
      ],
      "execution_count": null,
      "outputs": []
    },
    {
      "cell_type": "markdown",
      "metadata": {
        "id": "EELjW1CVYOUH"
      },
      "source": [
        "Esto no sucede para variables discretas, es una consecuencia de discretizar una variable continua y aproximar\r\n",
        "\r\n",
        "$\\int f(x)p(x)dx \\approx \\sum_{i=1}^{M}f(x_{i})p(x_{i})\\Delta_{i}$"
      ]
    },
    {
      "cell_type": "markdown",
      "metadata": {
        "id": "BrO6YztpZBMf"
      },
      "source": [
        "## Otras distribuciones"
      ]
    },
    {
      "cell_type": "markdown",
      "metadata": {
        "id": "o4ztpy0HZDLk"
      },
      "source": [
        "En la vida, y casi siempre, las variables  no siguen distribuciones uniformes. Como bien ejemplifico Rodrigo en clase, tenemos otras distribuciones tipicas. Por suerte, la gran mayoria de ellas estan implementadas en `scipy.stats`"
      ]
    },
    {
      "cell_type": "code",
      "metadata": {
        "id": "XoA9LVC6YLi7"
      },
      "source": [
        "from scipy.stats import norm, beta, bernoulli, binom, multinomial,multivariate_normal, poisson, gamma #etc"
      ],
      "execution_count": null,
      "outputs": []
    },
    {
      "cell_type": "markdown",
      "metadata": {
        "id": "eQIkxtkvZfO-"
      },
      "source": [
        "Para variar un poco vayamos a alguna variable aleatoria discreta. Por ejemplo, la cantidad $k$ de veces que una moneda cargada con probabilidad $p$ sale cara (1) si la tiramos $N$ veces. Cada tirada sigue una distribucion de Bernoulli pero tambien podemos consiguerar la Binomial con $k$ exitos en $N$ tiradas, dado que son equivalentes.\r\n",
        "\r\n",
        "Los parametros de la distribucion que sigue la variable aleatoria $k$ son $N$ y $p$. Entonces, podemos definir una distribucion especifica como"
      ]
    },
    {
      "cell_type": "code",
      "metadata": {
        "id": "hVn8E8o9Zcyt"
      },
      "source": [
        "N=10\r\n",
        "p=0.6\r\n",
        "mi_binomial=binom(p=p,n=N)"
      ],
      "execution_count": null,
      "outputs": []
    },
    {
      "cell_type": "markdown",
      "metadata": {
        "id": "MbjDVYjLak-V"
      },
      "source": [
        "$k$ puede tomar valores 0, 1, 2, ... ,10."
      ]
    },
    {
      "cell_type": "code",
      "metadata": {
        "id": "fExZLIk0aEDi"
      },
      "source": [
        "k_values=np.arange(0,11,1)\r\n",
        "print(k_values)"
      ],
      "execution_count": null,
      "outputs": []
    },
    {
      "cell_type": "markdown",
      "metadata": {
        "id": "AkI_APJiavu1"
      },
      "source": [
        "Podemos ver la probabilidad de cada $k$ utilizando el metodo `pmf`"
      ]
    },
    {
      "cell_type": "code",
      "metadata": {
        "id": "KVWMDk1KaqUc"
      },
      "source": [
        "for k in k_values:\r\n",
        "  print(k,mi_binomial.pmf(k))"
      ],
      "execution_count": null,
      "outputs": []
    },
    {
      "cell_type": "markdown",
      "metadata": {
        "id": "1Lt3dhvza7AT"
      },
      "source": [
        "Obviamente, es mas lindo graficarlo. Gracias a numpy, todo se lee intuitivamente"
      ]
    },
    {
      "cell_type": "code",
      "metadata": {
        "id": "bHs0WcNZa26z"
      },
      "source": [
        "k_probs=mi_binomial.pmf(k_values)\r\n",
        "plt.scatter(k_values,k_probs)\r\n",
        "plt.xlabel('k')\r\n",
        "plt.ylabel('Binom(k|N,p)')"
      ],
      "execution_count": null,
      "outputs": []
    },
    {
      "cell_type": "markdown",
      "metadata": {
        "id": "i5S60y2sbOlx"
      },
      "source": [
        "Comprobemos la normalizacion!"
      ]
    },
    {
      "cell_type": "code",
      "metadata": {
        "id": "dtFOaKuAbFHi"
      },
      "source": [
        "print(np.sum(k_probs))"
      ],
      "execution_count": null,
      "outputs": []
    },
    {
      "cell_type": "markdown",
      "metadata": {
        "id": "KEN-hnUTbfPf"
      },
      "source": [
        "Podemos generar datos a partir de esta distribucion utilizando el metodo `rvs`. Que son estos datos?"
      ]
    },
    {
      "cell_type": "code",
      "metadata": {
        "id": "u-xrspOtbRhj"
      },
      "source": [
        "Nexp=1000000\r\n",
        "tiradas = mi_binomial.rvs(Nexp)"
      ],
      "execution_count": null,
      "outputs": []
    },
    {
      "cell_type": "markdown",
      "metadata": {
        "id": "5O-cVdyIbxl6"
      },
      "source": [
        "Repitamos lo que hicimos con la uniforme, calculemos los momentos sabiendo que\r\n",
        "\r\n",
        "$\\mu = \\sum_{k=0}^{N}k\\cdot p(k|N,p)=N\\cdot p$\r\n",
        "\r\n",
        "$\\sigma^{2} = N\\cdot p\\cdot (1-p)$\r\n",
        "\r\n",
        "Donde aca la sumatoria es exacta y no una aproximacion."
      ]
    },
    {
      "cell_type": "code",
      "metadata": {
        "id": "oL5473n2crIw"
      },
      "source": [
        "media_esperada=N*p\r\n",
        "desviacion_estandar_esperada=np.sqrt(N*p*(1-p))\r\n",
        "print(media_esperada,desviacion_estandar_esperada)"
      ],
      "execution_count": null,
      "outputs": []
    },
    {
      "cell_type": "markdown",
      "metadata": {
        "id": "wbufMoKJcnzq"
      },
      "source": [
        "### Ejercicio"
      ]
    },
    {
      "cell_type": "code",
      "metadata": {
        "id": "KkgGsoiKbrxV"
      },
      "source": [
        ""
      ],
      "execution_count": null,
      "outputs": []
    },
    {
      "cell_type": "markdown",
      "metadata": {
        "id": "0rST1owvelzP"
      },
      "source": [
        "### Seguimos"
      ]
    },
    {
      "cell_type": "markdown",
      "metadata": {
        "id": "9uYeLK7DexDB"
      },
      "source": [
        "Vamos con la Gaussiana, o distribucion Normal, $\\mathcal{N}(x|\\mu,\\sigma^{2})$"
      ]
    },
    {
      "cell_type": "code",
      "metadata": {
        "id": "ZcmawQmedhby"
      },
      "source": [
        "mu=15.0\r\n",
        "sigma=2.0\r\n",
        "mi_gaussiana=norm(loc=mu,scale=sigma)"
      ],
      "execution_count": null,
      "outputs": []
    },
    {
      "cell_type": "markdown",
      "metadata": {
        "id": "E2Bq1gMlfEeK"
      },
      "source": [
        "Si queremos graficar la pdf de la gaussiana, podemos usar el metodo `pdf`"
      ]
    },
    {
      "cell_type": "code",
      "metadata": {
        "id": "M942nYTDfD79"
      },
      "source": [
        "# valores posibles\r\n",
        "x = np.linspace(10.0,20.0,20)\r\n",
        "plt.plot(x,mi_gaussiana.pdf(x))\r\n",
        "plt.axvline(mu,color='black',linestyle='solid',label='$\\mu$')\r\n",
        "plt.axvline(mu-sigma,color='black',linestyle='dashed',label='$\\pm 1 s.d.$')\r\n",
        "plt.axvline(mu+sigma,color='black',linestyle='dashed')\r\n",
        "plt.axvline(mu-2.0*sigma,color='black',linestyle='dotted',label='$\\pm 2 s.d.$')\r\n",
        "plt.axvline(mu+2.0*sigma,color='black',linestyle='dotted')\r\n",
        "plt.xlabel('x')\r\n",
        "plt.legend(loc='upper right')\r\n",
        "plt.ylabel('$\\mathcal{N}(x|\\mu,\\sigma^{2})$')"
      ],
      "execution_count": null,
      "outputs": []
    },
    {
      "cell_type": "markdown",
      "metadata": {
        "id": "mwlxGQg6f2Ne"
      },
      "source": [
        "Si queremos generar datos a partir de la gaussiana, nuevamente tenemos el metodo `rvs`"
      ]
    },
    {
      "cell_type": "code",
      "metadata": {
        "id": "qcFTaGMwfPCM"
      },
      "source": [
        "Nexp=1000000\r\n",
        "mediciones=mi_gaussiana.rvs(Nexp)"
      ],
      "execution_count": null,
      "outputs": []
    },
    {
      "cell_type": "markdown",
      "metadata": {
        "id": "9exXOE3QgJ3u"
      },
      "source": [
        "Y podemos hacer lo mismo que antes"
      ]
    },
    {
      "cell_type": "markdown",
      "metadata": {
        "id": "_f45ibZLgRBE"
      },
      "source": [
        "## Teorema Central del Limite"
      ]
    },
    {
      "cell_type": "markdown",
      "metadata": {
        "id": "Y2zYAlnCgXs9"
      },
      "source": [
        "Con lo que vimos ya podemos ejemplificar un poco el teorema central del limite.\r\n",
        "\r\n",
        "Comparemos una Binomial con p=0.6 y N yendo a infinito con una Gaussiana. La Gaussiana tendra siempre media $N\\cdot p$ y desviacion estandar $\\sqrt{N\\cdot p\\cdot (1-p)}$\r\n",
        "\r\n",
        "Noten que aca el limite no es el numero de experimentos sino en el numero de tiradas por experimento. Sin embargo, para tener datos representativos necesitamos muchos experimentos."
      ]
    },
    {
      "cell_type": "code",
      "metadata": {
        "id": "weoELWArhDqs"
      },
      "source": [
        "p = 0.6\r\n",
        "N=[1,10,50,100]\r\n",
        "for n in N:\r\n",
        "  data=binom(p=p,n=n).rvs(50*n)\r\n",
        "  a, b, c = plt.hist(data,density='True')\r\n",
        "  mu=n*p\r\n",
        "  sigma=np.sqrt(n*p*(1-p))\r\n",
        "  x=np.linspace(mu-3*sigma,mu+3*sigma,30)\r\n",
        "  plt.plot(x,norm(loc=mu,scale=sigma).pdf(x))\r\n",
        "  plt.title('Comparacion con '+str(50*n)+' experimentos')\r\n",
        "  plt.show()"
      ],
      "execution_count": null,
      "outputs": []
    },
    {
      "cell_type": "markdown",
      "metadata": {
        "id": "vBOvtCNRgMvx"
      },
      "source": [
        "## Graficos 2d"
      ]
    },
    {
      "cell_type": "markdown",
      "metadata": {
        "id": "ayPVMmSBgTdk"
      },
      "source": [
        "Hasta ahora solo vimos distribuciones unidimensionales. La distribucion bidimensional que mas nos interesa es, como no, una gaussiana.\r\n",
        "\r\n",
        "Ahora tenemos $\\vec{\\mu}=(\\mu_{1},\\mu_{2})^{T}$ y $\\Sigma$ una matriz de 2x2"
      ]
    },
    {
      "cell_type": "code",
      "metadata": {
        "id": "WhZ2xfSvgFpS"
      },
      "source": [
        "mu = [1.0, -1.0]\r\n",
        "sigma=[[0.1,0.01],[0.01,0.1]]\r\n",
        "mi_gaussiana_2d=multivariate_normal(mean=mu,cov=sigma)"
      ],
      "execution_count": null,
      "outputs": []
    },
    {
      "cell_type": "markdown",
      "metadata": {
        "id": "jx24NMC7jH7I"
      },
      "source": [
        "Para graficar en 2d tenemos un par de opciones. Podemos generar datos y hacer un histograma 2d. Mientras mas dimensiones tiene un histograma, mas datos necesitamos para que sea representativo."
      ]
    },
    {
      "cell_type": "code",
      "metadata": {
        "id": "DO-bXPJ4jHFc"
      },
      "source": [
        "datos=mi_gaussiana_2d.rvs(1000)"
      ],
      "execution_count": null,
      "outputs": []
    },
    {
      "cell_type": "code",
      "metadata": {
        "id": "H9t1SS_9jS3E"
      },
      "source": [
        "datos.shape"
      ],
      "execution_count": null,
      "outputs": []
    },
    {
      "cell_type": "markdown",
      "metadata": {
        "id": "ocHsaEWjj45r"
      },
      "source": [
        "Definir los bins puede ser feo... Jueguen un poco y compruebenlo por ustedes mismos"
      ]
    },
    {
      "cell_type": "code",
      "metadata": {
        "id": "VReDRS5VjUCX"
      },
      "source": [
        "plt.hist2d(datos[:,0],datos[:,1],bins=[10,10],cmap='plasma')\r\n",
        "plt.xlabel('$x_{1}$')\r\n",
        "plt.ylabel('$x_{2}$')\r\n",
        "plt.title(r'$\\mathcal{N}(\\vec{x}|\\vec{\\mu},\\Sigma)$')\r\n",
        "plt.colorbar()\r\n",
        "plt.show()"
      ],
      "execution_count": null,
      "outputs": []
    },
    {
      "cell_type": "markdown",
      "metadata": {
        "id": "_zR-C1bfj83-"
      },
      "source": [
        "Uno aca puede marginalizar sumando sobre alguna direccion"
      ]
    },
    {
      "cell_type": "code",
      "metadata": {
        "id": "wjhW1avmjXNj"
      },
      "source": [
        "h, xedges, yedges, image = plt.hist2d(datos[:,0],datos[:,1],bins=[10,10],cmap='plasma',density='True')"
      ],
      "execution_count": null,
      "outputs": []
    },
    {
      "cell_type": "code",
      "metadata": {
        "id": "4FkP1T7ckFsc"
      },
      "source": [
        "x1d=np.sum(h,axis=1)*(yedges[1]-yedges[0])\r\n",
        "x2d=np.sum(h,axis=0)*(xedges[1]-xedges[0])"
      ],
      "execution_count": null,
      "outputs": []
    },
    {
      "cell_type": "code",
      "metadata": {
        "id": "IEIVR04VkSaa"
      },
      "source": [
        "plt.plot([0.5*(xedges[i+1]+xedges[i]) for i in range(h.shape[0])],x1d)\r\n",
        "plt.xlabel('$x_{1}$')\r\n",
        "plt.show()\r\n",
        "plt.plot([0.5*(yedges[i+1]+yedges[i]) for i in range(h.shape[1])],x2d)\r\n",
        "plt.xlabel('$x_{2}$')\r\n",
        "plt.show()"
      ],
      "execution_count": null,
      "outputs": []
    },
    {
      "cell_type": "code",
      "metadata": {
        "id": "TW_aVP69k16M"
      },
      "source": [
        "np.sum(h)*(xedges[1]-xedges[0])*(yedges[1]-yedges[0])"
      ],
      "execution_count": null,
      "outputs": []
    },
    {
      "cell_type": "markdown",
      "metadata": {
        "id": "tY6dCm_hnRVn"
      },
      "source": [
        "Otra opcion  es utilizar el metodo 'pdf' y hacer un 'contourplot'"
      ]
    },
    {
      "cell_type": "code",
      "metadata": {
        "id": "8ReCOdXHmiCW"
      },
      "source": [
        "x1=np.linspace(0.0,2.0,10)\r\n",
        "x2=np.linspace(-2.0,0.0,5)\r\n",
        "X1, X2 = np.meshgrid(x1,x2)"
      ],
      "execution_count": null,
      "outputs": []
    },
    {
      "cell_type": "code",
      "metadata": {
        "id": "Gq0sSOn2nb1l"
      },
      "source": [
        "print(X1.shape,X2.shape)"
      ],
      "execution_count": null,
      "outputs": []
    },
    {
      "cell_type": "code",
      "metadata": {
        "id": "L49AQraInck-"
      },
      "source": [
        "pos=np.dstack((X1, X2))\r\n",
        "print(pos.shape)\r\n",
        "Z=mi_gaussiana_2d.pdf(pos)\r\n",
        "print(Z.shape)"
      ],
      "execution_count": null,
      "outputs": []
    },
    {
      "cell_type": "code",
      "metadata": {
        "id": "4jbi5K6yn0p5"
      },
      "source": [
        "plt.contourf(X1,X2,Z,cmap='gist_heat_r')\r\n",
        "plt.xlabel('$x_{1}$')\r\n",
        "plt.ylabel('$x_{2}$')\r\n",
        "plt.title(r'$\\mathcal{N}(\\vec{x}|\\vec{\\mu},\\Sigma)$')\r\n",
        "plt.colorbar()"
      ],
      "execution_count": null,
      "outputs": []
    },
    {
      "cell_type": "markdown",
      "metadata": {
        "id": "JXf5cHaqodwf"
      },
      "source": [
        "Y podemos superponer ambos plots"
      ]
    },
    {
      "cell_type": "code",
      "metadata": {
        "id": "ebLI3cyxoLB_"
      },
      "source": [
        "plt.hist2d(datos[:,0],datos[:,1],bins=[10,10],density='True',cmap='gist_heat_r')\r\n",
        "plt.colorbar()\r\n",
        "pdfplot=plt.contour(X1,X2,Z,colors='blue')\r\n",
        "plt.clabel(pdfplot, inline=1, fontsize=10)\r\n",
        "plt.xlabel('$x_{1}$')\r\n",
        "plt.ylabel('$x_{2}$')\r\n",
        "plt.title(r'$\\mathcal{N}(\\vec{x}|\\vec{\\mu},\\Sigma)$')\r\n",
        "plt.show()"
      ],
      "execution_count": null,
      "outputs": []
    },
    {
      "cell_type": "code",
      "metadata": {
        "id": "4ga_S1KJoqqF"
      },
      "source": [
        ""
      ],
      "execution_count": null,
      "outputs": []
    },
    {
      "cell_type": "markdown",
      "metadata": {
        "id": "MxsoHtkZrhXb"
      },
      "source": [
        "# Un lindo ejercicio si hay tiempo"
      ]
    },
    {
      "cell_type": "markdown",
      "metadata": {
        "id": "CQ08uyQQrkYz"
      },
      "source": [
        "Una enfermedad genética rara afecta al 0.1% de la población de un país. Para diagnosticarla, existe un análisis clínico que detecta la enfermedad en el 99% de los casos en los que el paciente la padece, y tiene un 1% de falsos positivos.\r\n",
        "\r\n",
        "Un paciente recibe un resultado positivo del análisis clínico.\r\n",
        "\r\n",
        "¿Qué probabilidad hay de que la persona padezca la enfermedad?"
      ]
    },
    {
      "cell_type": "code",
      "metadata": {
        "id": "DXTyOmN_rhms"
      },
      "source": [
        ""
      ],
      "execution_count": null,
      "outputs": []
    }
  ]
}