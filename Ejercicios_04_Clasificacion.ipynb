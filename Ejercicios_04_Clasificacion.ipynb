{
  "nbformat": 4,
  "nbformat_minor": 0,
  "metadata": {
    "kernelspec": {
      "display_name": "Python 3",
      "language": "python",
      "name": "python3"
    },
    "language_info": {
      "codemirror_mode": {
        "name": "ipython",
        "version": 3
      },
      "file_extension": ".py",
      "mimetype": "text/x-python",
      "name": "python",
      "nbconvert_exporter": "python",
      "pygments_lexer": "ipython3",
      "version": "3.6.6"
    },
    "colab": {
      "name": "Ejercicios_04_Clasificacion.ipynb",
      "provenance": [],
      "collapsed_sections": [
        "IQ-JKDjoHuEq"
      ]
    }
  },
  "cells": [
    {
      "cell_type": "code",
      "metadata": {
        "id": "RbHGdHo_v73J"
      },
      "source": [
        "# Por si alguien corre en python2\n",
        "from __future__ import division\n",
        "\n",
        "# Preparamos todo para correr\n",
        "import numpy as np\n",
        "from matplotlib import pyplot as plt\n",
        "%matplotlib inline\n"
      ],
      "execution_count": null,
      "outputs": []
    },
    {
      "cell_type": "markdown",
      "metadata": {
        "id": "IQ-JKDjoHuEq"
      },
      "source": [
        "# Ejercicio 1: Aplicación de los algoritmos vistos a dos datasets\n",
        "\n",
        " Clasifique los siguientes Datasets utilizando un Perceptron y un Regresor Logístico. Encuentre los coeficientes $w$ para el caso de dos clases, con la frontera de decisión y la tasa de misclasificación con ambos métodos. Para esto último, utilice el método de K-Folding.\n",
        "\n",
        "Discuta que diferencia hay entre ambos datasets y como impacta esto a la performance de los algoritmos. ¿Qué puede lograr moviendo el umbral?"
      ]
    },
    {
      "cell_type": "markdown",
      "metadata": {
        "id": "LQ9QNfo39sGD"
      },
      "source": [
        "**a.** Dataset 1"
      ]
    },
    {
      "cell_type": "code",
      "metadata": {
        "id": "4nfeIh5g2hv8"
      },
      "source": [
        "from scipy.stats import  multivariate_normal\n",
        "X1=multivariate_normal.rvs(size=100,mean=[0,7],cov=[[1,0.0],[0.0, 1]])\n",
        "X2=multivariate_normal.rvs(size=100,mean=[2,4],cov=[[2,0.0],[0.0, 1]])\n",
        "plt.scatter(X1[:,0],X1[:,1],color='blue')\n",
        "plt.scatter(X2[:,0],X2[:,1],color='red')\n",
        "plt.xlim((-3,10))\n",
        "plt.ylim((-1,10))"
      ],
      "execution_count": null,
      "outputs": []
    },
    {
      "cell_type": "markdown",
      "metadata": {
        "id": "KP15Rz3Gbm3D"
      },
      "source": [
        "**b.** Dataset 2"
      ]
    },
    {
      "cell_type": "code",
      "metadata": {
        "id": "fNu-Cfp6an59"
      },
      "source": [
        "from scipy.stats import  multivariate_normal\n",
        "X1=multivariate_normal.rvs(size=100,mean=[0,7],cov=[[1,0.0],[0.0, 1]])\n",
        "aux1=multivariate_normal.rvs(size=90,mean=[2,4],cov=[[2,0.0],[0.0, 1]])\n",
        "aux2=multivariate_normal.rvs(size=10,mean=[9,0],cov=[[0.2,0.0],[0.0, 0.1]])\n",
        "X2=np.zeros(X1.shape)\n",
        "X2[:,0]=np.append(aux1[:,0],aux2[:,0])\n",
        "X2[:,1]=np.append(aux1[:,1],aux2[:,1])\n",
        "plt.scatter(X1[:,0],X1[:,1],color='blue')\n",
        "plt.scatter(X2[:,0],X2[:,1],color='red')\n",
        "plt.xlim((-5,10))\n",
        "plt.ylim((-1,10))"
      ],
      "execution_count": null,
      "outputs": []
    },
    {
      "cell_type": "code",
      "metadata": {
        "id": "zOE9ANp4_y7W"
      },
      "source": [
        ""
      ],
      "execution_count": null,
      "outputs": []
    },
    {
      "cell_type": "markdown",
      "metadata": {
        "id": "wxSRT5epJrKk"
      },
      "source": [
        "# Ejercicio 2: Funciones de base\n",
        "\n",
        "Veamos un caso en el que los datos son en apariencia no linealmente separables. "
      ]
    },
    {
      "cell_type": "code",
      "metadata": {
        "id": "SThq_jImKWv0"
      },
      "source": [
        "phi=-np.pi+2*np.pi*np.random.rand(100)\n",
        "L=int(len(phi)/2)\n",
        "r1=np.random.rand(L)\n",
        "r2=1.0+2.0*np.random.rand(L)\n",
        "T=np.zeros(2*L)\n",
        "X=np.zeros((2*L,2))\n",
        "for i in range(L):\n",
        "  X[i,0]=r1[i]*np.cos(phi[i])\n",
        "  X[i,1]=r1[i]*np.sin(phi[i])\n",
        "  T[i]=1.0\n",
        "  X[L+i,0]=r2[i]*np.cos(phi[L+i])\n",
        "  X[L+i,1]=r2[i]*np.sin(phi[L+i])\n",
        "plt.scatter(X[:L,0],X[:L,1],color='blue')\n",
        "plt.scatter(X[L:,0],X[L:,1],color='red')\n",
        "plt.xlabel('$x_1$')\n",
        "plt.ylabel('$x_2$')"
      ],
      "execution_count": null,
      "outputs": []
    },
    {
      "cell_type": "markdown",
      "metadata": {
        "id": "IgCtF_3_KXzR"
      },
      "source": [
        "**a** Trate de clasificar los datos utilizando Regresion Logistica como en los ejercicios anteriores. Obtenga la matriz de confusion. ¿Qué observa?"
      ]
    },
    {
      "cell_type": "code",
      "metadata": {
        "id": "OLOCQ7JCKn2n"
      },
      "source": [
        ""
      ],
      "execution_count": null,
      "outputs": []
    },
    {
      "cell_type": "markdown",
      "metadata": {
        "id": "wx-PGN_lKoFz"
      },
      "source": [
        "**b** Haga el cambio de base a coordenadas polares:\n",
        "\n",
        "$r = \\sqrt{x^{2}_{1}+x^{2}_{2}}$\n",
        "\n",
        "$\\phi = \\text{Arctan}\\left(\\frac{x_{2}}{x_{1}}\\right)$\n",
        "\n",
        "Para lo segundo, utilize la funcion `np.arctan2`. Grafique y entrene un Regresor Logistico en esta nueva base. ¿Qué encuentra?"
      ]
    },
    {
      "cell_type": "code",
      "metadata": {
        "id": "oXRwiyvNLZOo"
      },
      "source": [
        ""
      ],
      "execution_count": null,
      "outputs": []
    },
    {
      "cell_type": "markdown",
      "metadata": {
        "id": "btfj-w0TLYka"
      },
      "source": [
        "**c** Grafique la frontera de decision en la base original."
      ]
    },
    {
      "cell_type": "code",
      "metadata": {
        "id": "D4TIyulvLee4"
      },
      "source": [
        ""
      ],
      "execution_count": null,
      "outputs": []
    },
    {
      "cell_type": "markdown",
      "metadata": {
        "id": "tZRwgGmeuW_d"
      },
      "source": [
        "# Ejercicio 3: GridSearchCV para Clasificación"
      ]
    },
    {
      "cell_type": "markdown",
      "metadata": {
        "id": "zdguAlKBuscn"
      },
      "source": [
        "Considere el siguiente dataset:"
      ]
    },
    {
      "cell_type": "code",
      "metadata": {
        "colab": {
          "base_uri": "https://localhost:8080/",
          "height": 282
        },
        "id": "hTOThTb8u6S-",
        "outputId": "5553bcbd-a6df-4592-f69e-24eb2cafcb49"
      },
      "source": [
        "np.random.seed(42)\n",
        "from sklearn.datasets import make_moons\n",
        "X, y = make_moons(n_samples=80, shuffle=True,noise=0.3)\n",
        "plt.scatter(X[:,0],X[:,1],c=y)"
      ],
      "execution_count": null,
      "outputs": [
        {
          "output_type": "execute_result",
          "data": {
            "text/plain": [
              "<matplotlib.collections.PathCollection at 0x7fd2b329c190>"
            ]
          },
          "metadata": {
            "tags": []
          },
          "execution_count": 82
        },
        {
          "output_type": "display_data",
          "data": {
            "image/png": "[encoded data removed]",
            "text/plain": [
              "<Figure size 432x288 with 1 Axes>"
            ]
          },
          "metadata": {
            "tags": [],
            "needs_background": "light"
          }
        }
      ]
    },
    {
      "cell_type": "markdown",
      "metadata": {
        "id": "mK9B4wtNu5e0"
      },
      "source": [
        "Divida en entrenamiento y testeo con proporción 50%. Utilizando funciones de base polinomiales y un regresor logístico con penalización `l2`, encuentre el mejor polinomio (fije `C` a 1.0) utilizando de una a la vez exactitud `accuracy`, precisión `precision` y exhaustividad `recall` (para esto haga uso del `scoring` de `GridSearchCV`). \n",
        "\n",
        "Para cada uno de los tres polinomios, calcule la matriz de confusión sobre el conjunto de testeo. Interprete los resultados."
      ]
    },
    {
      "cell_type": "code",
      "metadata": {
        "id": "B-qBb4bY1gbr"
      },
      "source": [
        ""
      ],
      "execution_count": null,
      "outputs": []
    },
    {
      "cell_type": "markdown",
      "metadata": {
        "id": "wcrhxOKYsWhJ"
      },
      "source": [
        "# Ejercicio 4: Clasificación multiclase en el dataset de Iris\n",
        "\n",
        "A continuación utilizaremos el famoso dataset de Iris, tomado del paper de Fisher del 1936 en donde lo utilizó por primera vez para ejemplificar el uso del análisis determinante lineal. \n",
        "\n",
        "El dataset consiste de 150 muestras de 3 tipos distintos de flor Iris, 50 muestras de cada una. Cada muestra consiste de las medidas (en cm) del ancho y largo del pétalo y sépalo de una flor. \n",
        "\n",
        "Su trabajo es entrenar un modelo que correctamente clasifique de qué tipo es una flor Iris, dadas sus medidas de ancho y largo de sus pétalos y sétalos. Para esto, explore y juegue con los modelos vistos hasta ahora. Cuando termine, de una estimación objetiva de la ``accuracy`` esperada de su modelo. \n",
        "\n",
        "*Bonus: intente identificar si entre las tres clases alguna o todas son o no linealmente separables.*"
      ]
    },
    {
      "cell_type": "code",
      "metadata": {
        "id": "-ci5rsoStDjl"
      },
      "source": [
        "from sklearn import datasets\n",
        "\n",
        "iris = datasets.load_iris()\n",
        "X = iris.data\n",
        "y = iris.target"
      ],
      "execution_count": null,
      "outputs": []
    },
    {
      "cell_type": "code",
      "metadata": {
        "id": "77ifX_ekXFpX"
      },
      "source": [
        ""
      ],
      "execution_count": null,
      "outputs": []
    },
    {
      "cell_type": "markdown",
      "metadata": {
        "id": "XU7FpuL_XEpS"
      },
      "source": [
        "Ahora suponga que en que usted es alergico a una de las tres flores, la Setosa. Utilice una matriz de perdida sobre el mejor modelo que tenga y obtenga una nueva matriz de confusion."
      ]
    },
    {
      "cell_type": "code",
      "metadata": {
        "id": "c3PNrN7cRk6P"
      },
      "source": [
        ""
      ],
      "execution_count": null,
      "outputs": []
    }
  ]
}