{
  "nbformat": 4,
  "nbformat_minor": 0,
  "metadata": {
    "colab": {
      "name": "03p_Inferencia_Bayesiana_Numerica.ipynb",
      "provenance": [],
      "collapsed_sections": []
    },
    "kernelspec": {
      "display_name": "Python 3",
      "language": "python",
      "name": "python3"
    },
    "language_info": {
      "codemirror_mode": {
        "name": "ipython",
        "version": 3
      },
      "file_extension": ".py",
      "mimetype": "text/x-python",
      "name": "python",
      "nbconvert_exporter": "python",
      "pygments_lexer": "ipython3",
      "version": "3.8.3"
    },
    "toc": {
      "base_numbering": 1,
      "nav_menu": {},
      "number_sections": true,
      "sideBar": true,
      "skip_h1_title": false,
      "title_cell": "Table of Contents",
      "title_sidebar": "Contents",
      "toc_cell": false,
      "toc_position": {},
      "toc_section_display": true,
      "toc_window_display": false
    }
  },
  "cells": [
    {
      "cell_type": "code",
      "metadata": {
        "id": "GKN6km8jLvy3"
      },
      "source": [
        "import numpy as np\n",
        "import matplotlib.pyplot as plt"
      ],
      "execution_count": 1,
      "outputs": []
    },
    {
      "cell_type": "markdown",
      "metadata": {
        "id": "pC1-p7o_OUyl"
      },
      "source": [
        "# Ejercicio 11 del Capitulo 2 del Gelman:"
      ]
    },
    {
      "cell_type": "markdown",
      "metadata": {
        "id": "8yvv9qseOZGx"
      },
      "source": [
        "Supongamos mediciones independientes $y_{1},y_{2},...,y_{5}$ que siguen una distribucion de Cauchy con centro desconocido $\\theta$ y escala conocida $1$.\n",
        "\n",
        "$p(y_{i}|\\theta) \\propto \\frac{1}{1 + (y_{i} − \\theta)^{2}}$\n",
        "\n",
        "Asumimos por simplicidad que el prior es una distribucion uniforme en [0,100]. Si observamos ($y_{1},..., y_{5}$) = (43, 44, 45, 46.5, 47.5):\n",
        "\n",
        "1.   Calcule la distribucion posterior no normalizada $p(y|\\theta)p(\\theta)$ en una grilla de puntos $\\theta = 0, \\frac{1}{m},\\frac{2}{m},...,100$ para algun entero $m$ grande. Utilizando esta aproximacion numerica, calcule y grafique la posterior normalizada $p(\\theta|y)$ como funcion de $\\theta$.\n",
        "2.   Samplee 1000 muestras de $\\theta$ la posterior y haga un histograma de las muestras.\n",
        "3.   Use las 1000 muestras de $\\theta$ para obtener 1000 muestras de $y_{6}$ utilizando la posterior predictiva, y haga un histograma.\n",
        "\n",
        "\n"
      ]
    },
    {
      "cell_type": "markdown",
      "metadata": {
        "id": "B20kzhpNRTAP"
      },
      "source": [
        "# Resolucion"
      ]
    },
    {
      "cell_type": "markdown",
      "metadata": {
        "id": "KTZp-aCuWN4H"
      },
      "source": [
        "## a)"
      ]
    },
    {
      "cell_type": "markdown",
      "metadata": {
        "id": "fDSCrZ9MRVca"
      },
      "source": [
        "Inicialicemos las mediciones"
      ]
    },
    {
      "cell_type": "code",
      "metadata": {
        "id": "-N1io0FMRZSI"
      },
      "source": [
        "y=np.asarray([43,44,45,46.5,47.5])"
      ],
      "execution_count": 2,
      "outputs": []
    },
    {
      "cell_type": "markdown",
      "metadata": {
        "id": "tVeezTIZRgrA"
      },
      "source": [
        "Y los valores posibles de $\\theta$"
      ]
    },
    {
      "cell_type": "code",
      "metadata": {
        "colab": {
          "base_uri": "https://localhost:8080/"
        },
        "id": "n_1tQJ0gMJaD",
        "outputId": "292af093-e82c-47f1-de02-05d022fee667"
      },
      "source": [
        "theta_vals=np.linspace(0.0,100.0,3000)\n",
        "print(theta_vals[0],theta_vals[-1])"
      ],
      "execution_count": 3,
      "outputs": [
        {
          "output_type": "stream",
          "text": [
            "0.0 100.0\n"
          ],
          "name": "stdout"
        }
      ]
    },
    {
      "cell_type": "markdown",
      "metadata": {
        "id": "uUMxznWPRoU7"
      },
      "source": [
        "Para cada $\\theta$, la verosimilitud se calcula como:\n",
        "\n",
        "$p(y|\\theta)=\\prod_{i=1}^{5}p(y_{i}|\\theta)$\n",
        "\n",
        "Numericamente, es mas estable calcular el logaritmo de la probabilidad:\n",
        "\n",
        "$\\text{ln }p(y|\\theta)=\\sum_{i=1}^{5}\\text{ln }p(y_{i}|\\theta)$"
      ]
    },
    {
      "cell_type": "code",
      "metadata": {
        "id": "2bOH0OLhQ7ry"
      },
      "source": [
        "from scipy.stats import cauchy"
      ],
      "execution_count": 4,
      "outputs": []
    },
    {
      "cell_type": "code",
      "metadata": {
        "id": "Joa-jfZ9Q-vF"
      },
      "source": [
        "cauchy?"
      ],
      "execution_count": 5,
      "outputs": []
    },
    {
      "cell_type": "code",
      "metadata": {
        "colab": {
          "base_uri": "https://localhost:8080/"
        },
        "id": "vkMoKeVYRAJ1",
        "outputId": "e580acf2-10d3-40e8-cce4-a0f401376598"
      },
      "source": [
        "print(\"Prob para theta=0:\", np.prod(cauchy(loc=theta_vals[0]).pdf(y)))\n",
        "print(\"Prob para theta=0:\", np.exp(np.sum(cauchy(loc=theta_vals[0]).logpdf(y))))"
      ],
      "execution_count": 6,
      "outputs": [
        {
          "output_type": "stream",
          "text": [
            "Prob para theta=0: 9.217719162911935e-20\n",
            "Prob para theta=0: 9.217719162911966e-20\n"
          ],
          "name": "stdout"
        }
      ]
    },
    {
      "cell_type": "markdown",
      "metadata": {
        "id": "0LnIz8VvSi0y"
      },
      "source": [
        "Vamos paso a paso:"
      ]
    },
    {
      "cell_type": "code",
      "metadata": {
        "colab": {
          "base_uri": "https://localhost:8080/"
        },
        "id": "d1XjCeOtRxSj",
        "outputId": "0de763b0-62f2-432f-cbe5-4f5ff94c2991"
      },
      "source": [
        "print(y.shape)\n",
        "print(cauchy(loc=theta_vals[0]).pdf(y).shape)\n",
        "print(y)\n",
        "print(cauchy(loc=theta_vals[0]).pdf(y))"
      ],
      "execution_count": 7,
      "outputs": [
        {
          "output_type": "stream",
          "text": [
            "(5,)\n",
            "(5,)\n",
            "[43.  44.  45.  46.5 47.5]\n",
            "[0.00017206 0.00016433 0.00015711 0.00014714 0.00014102]\n"
          ],
          "name": "stdout"
        }
      ]
    },
    {
      "cell_type": "markdown",
      "metadata": {
        "id": "AYOyRdDhS45R"
      },
      "source": [
        "Pero no tenemos un unico valor de $\\theta$! Tenemos varios."
      ]
    },
    {
      "cell_type": "code",
      "metadata": {
        "colab": {
          "base_uri": "https://localhost:8080/"
        },
        "id": "X9EuVNpLS2D_",
        "outputId": "c8cdc770-b4ec-4f70-bdcf-cd8abbb8b493"
      },
      "source": [
        "verosimilitud=np.asarray([np.exp(np.sum(cauchy(loc=theta).logpdf(y))) for theta in theta_vals])\n",
        "verosimilitud.shape"
      ],
      "execution_count": 8,
      "outputs": [
        {
          "output_type": "execute_result",
          "data": {
            "text/plain": [
              "(3000,)"
            ]
          },
          "metadata": {
            "tags": []
          },
          "execution_count": 8
        }
      ]
    },
    {
      "cell_type": "code",
      "metadata": {
        "colab": {
          "base_uri": "https://localhost:8080/"
        },
        "id": "bkjPqCfma-kI",
        "outputId": "c05b6d7c-628d-4d23-de2a-404226b0c90c"
      },
      "source": [
        "verosimilitud_aux=np.asarray([cauchy(loc=theta_vals).logpdf(y_val) for y_val in y])\n",
        "print(verosimilitud_aux.shape)\n",
        "verosimilitud=np.exp(np.sum(verosimilitud_aux,axis=0))\n",
        "print(verosimilitud.shape)"
      ],
      "execution_count": 9,
      "outputs": [
        {
          "output_type": "stream",
          "text": [
            "(5, 3000)\n",
            "(3000,)\n"
          ],
          "name": "stdout"
        }
      ]
    },
    {
      "cell_type": "code",
      "metadata": {
        "id": "tQl-ADgYUCMm"
      },
      "source": [
        "prior=1.0/(theta_vals[-1]-theta_vals[0])*np.ones(len(theta_vals))"
      ],
      "execution_count": 10,
      "outputs": []
    },
    {
      "cell_type": "code",
      "metadata": {
        "colab": {
          "base_uri": "https://localhost:8080/",
          "height": 309
        },
        "id": "THgw3_dIS9kC",
        "outputId": "1fbd27ac-32c0-4465-ddd5-7ad9a2fe67a2"
      },
      "source": [
        "#plt.plot(theta_vals,prior,label='Prior')\n",
        "plt.plot(theta_vals,verosimilitud,label='Verosimilitud')\n",
        "plt.legend(loc='upper right')\n",
        "plt.xlabel(r'$\\theta$')"
      ],
      "execution_count": 11,
      "outputs": [
        {
          "output_type": "execute_result",
          "data": {
            "text/plain": [
              "Text(0.5, 0, '$\\\\theta$')"
            ]
          },
          "metadata": {
            "tags": []
          },
          "execution_count": 11
        },
        {
          "output_type": "display_data",
          "data": {
            "image/png": "[encoded data removed]",
            "text/plain": [
              "<Figure size 432x288 with 1 Axes>"
            ]
          },
          "metadata": {
            "tags": [],
            "needs_background": "light"
          }
        }
      ]
    },
    {
      "cell_type": "markdown",
      "metadata": {
        "id": "0E_b-NDaT7AN"
      },
      "source": [
        "Y cuanto vale $p(y|\\theta)p(\\theta)$?"
      ]
    },
    {
      "cell_type": "code",
      "metadata": {
        "colab": {
          "base_uri": "https://localhost:8080/"
        },
        "id": "d3scD2tqTcbo",
        "outputId": "b2456d62-7165-45f3-f870-e3611b4aa9ab"
      },
      "source": [
        "print(prior.shape)\n",
        "print(verosimilitud.shape)\n",
        "print((prior*verosimilitud).shape)"
      ],
      "execution_count": 12,
      "outputs": [
        {
          "output_type": "stream",
          "text": [
            "(3000,)\n",
            "(3000,)\n",
            "(3000,)\n"
          ],
          "name": "stdout"
        }
      ]
    },
    {
      "cell_type": "code",
      "metadata": {
        "id": "Q0DxW8hpUYsQ"
      },
      "source": [
        "posterior_no_normalizado=prior*verosimilitud"
      ],
      "execution_count": 13,
      "outputs": []
    },
    {
      "cell_type": "markdown",
      "metadata": {
        "id": "CPWgNdzmUypt"
      },
      "source": [
        "Verificamos (una vez) que esta bien"
      ]
    },
    {
      "cell_type": "code",
      "metadata": {
        "colab": {
          "base_uri": "https://localhost:8080/"
        },
        "id": "C_jVahtPUyDA",
        "outputId": "c9db1ba4-4d4a-483e-da99-8ba2dd64c81b"
      },
      "source": [
        "np.allclose(posterior_no_normalizado,np.asarray([prior[i]*verosimilitud[i] for i in range(len(verosimilitud))]))"
      ],
      "execution_count": 14,
      "outputs": [
        {
          "output_type": "execute_result",
          "data": {
            "text/plain": [
              "True"
            ]
          },
          "metadata": {
            "tags": []
          },
          "execution_count": 14
        }
      ]
    },
    {
      "cell_type": "code",
      "metadata": {
        "colab": {
          "base_uri": "https://localhost:8080/",
          "height": 309
        },
        "id": "zAGoggDSU8CF",
        "outputId": "a15a4f76-0e62-4e89-9570-27bff3aa5563"
      },
      "source": [
        "plt.plot(theta_vals,posterior_no_normalizado,label='Posterior no normalizado')\n",
        "plt.legend(loc='upper right')\n",
        "plt.xlabel(r'$\\theta$')"
      ],
      "execution_count": 15,
      "outputs": [
        {
          "output_type": "execute_result",
          "data": {
            "text/plain": [
              "Text(0.5, 0, '$\\\\theta$')"
            ]
          },
          "metadata": {
            "tags": []
          },
          "execution_count": 15
        },
        {
          "output_type": "display_data",
          "data": {
            "image/png": "[encoded data removed]",
            "text/plain": [
              "<Figure size 432x288 with 1 Axes>"
            ]
          },
          "metadata": {
            "tags": [],
            "needs_background": "light"
          }
        }
      ]
    },
    {
      "cell_type": "markdown",
      "metadata": {
        "id": "TkngbqFRVFpa"
      },
      "source": [
        "Obviamente aca es la verosimilitud"
      ]
    },
    {
      "cell_type": "markdown",
      "metadata": {
        "id": "Uvung7KgVJeN"
      },
      "source": [
        "Y la evidencia? Bueno, podemos calcularla numericamente\n",
        "\n",
        "$$p(y)=\\int d\\theta p(y|\\theta)p(\\theta)\\approx \\sum_{j=1}^{m}\\Delta_{j}p(y|\\theta_{j})p(\\theta_{j})$$\n"
      ]
    },
    {
      "cell_type": "code",
      "metadata": {
        "colab": {
          "base_uri": "https://localhost:8080/"
        },
        "id": "wNL6WLB7VEbn",
        "outputId": "ce828df5-806b-4f67-ec91-6ea57150b7d3"
      },
      "source": [
        "evidencia=np.sum(posterior_no_normalizado)*(theta_vals[1]-theta_vals[0])\n",
        "print(evidencia)\n",
        "posterior=posterior_no_normalizado/evidencia\n",
        "print(np.sum(posterior)*(theta_vals[1]-theta_vals[0]))"
      ],
      "execution_count": 16,
      "outputs": [
        {
          "output_type": "stream",
          "text": [
            "3.418359031121251e-07\n",
            "0.9999999999999999\n"
          ],
          "name": "stdout"
        }
      ]
    },
    {
      "cell_type": "code",
      "metadata": {
        "colab": {
          "base_uri": "https://localhost:8080/",
          "height": 298
        },
        "id": "G0-4CqzvVvlO",
        "outputId": "9a742934-2cfd-42fa-d6ae-975cdf2dacd7"
      },
      "source": [
        "plt.plot(theta_vals,prior,label='Prior')\n",
        "plt.plot(theta_vals,10000*verosimilitud,label='$10^{4}$ x Verosimilitud')\n",
        "plt.plot(theta_vals,posterior,label='Posterior')\n",
        "plt.legend(loc='upper right')\n",
        "plt.xlabel(r'$\\theta$')"
      ],
      "execution_count": 17,
      "outputs": [
        {
          "output_type": "execute_result",
          "data": {
            "text/plain": [
              "Text(0.5, 0, '$\\\\theta$')"
            ]
          },
          "metadata": {
            "tags": []
          },
          "execution_count": 17
        },
        {
          "output_type": "display_data",
          "data": {
            "image/png": "[encoded data removed]",
            "text/plain": [
              "<Figure size 432x288 with 1 Axes>"
            ]
          },
          "metadata": {
            "tags": [],
            "needs_background": "light"
          }
        }
      ]
    },
    {
      "cell_type": "markdown",
      "metadata": {
        "id": "Om3SQ5sNWMWN"
      },
      "source": [
        "## b)"
      ]
    },
    {
      "cell_type": "markdown",
      "metadata": {
        "id": "VW4adFjBWQuz"
      },
      "source": [
        "Como sampleamos una vez que tenemos la posterior numerica?"
      ]
    },
    {
      "cell_type": "code",
      "metadata": {
        "id": "o6bHSf-dWCmb"
      },
      "source": [
        "theta_samples=np.random.choice(theta_vals, p=posterior*(theta_vals[1]-theta_vals[0]), size=1000)"
      ],
      "execution_count": 18,
      "outputs": []
    },
    {
      "cell_type": "code",
      "metadata": {
        "colab": {
          "base_uri": "https://localhost:8080/",
          "height": 298
        },
        "id": "fFPzXzitW82x",
        "outputId": "69c0ff4b-822f-4e10-b1ea-85e6d2c3d11b"
      },
      "source": [
        "#bins=10\n",
        "bins=np.linspace(0.0,100.0,100)\n",
        "plt.hist(theta_samples,bins=bins,label=r'$\\theta$ sampleados')\n",
        "#plt.plot(theta_vals,len(theta_samples)*posterior,label='$N_{\\t{eventos}}$ x Posterior')\n",
        "plt.legend(loc='upper right')\n",
        "plt.xlabel(r'$\\theta$')"
      ],
      "execution_count": 19,
      "outputs": [
        {
          "output_type": "execute_result",
          "data": {
            "text/plain": [
              "Text(0.5, 0, '$\\\\theta$')"
            ]
          },
          "metadata": {
            "tags": []
          },
          "execution_count": 19
        },
        {
          "output_type": "display_data",
          "data": {
            "image/png": "[encoded data removed]",
            "text/plain": [
              "<Figure size 432x288 with 1 Axes>"
            ]
          },
          "metadata": {
            "tags": [],
            "needs_background": "light"
          }
        }
      ]
    },
    {
      "cell_type": "markdown",
      "metadata": {
        "id": "3G_YwYKJdduN"
      },
      "source": [
        "## c)"
      ]
    },
    {
      "cell_type": "markdown",
      "metadata": {
        "id": "Qc_lG-_Adenb"
      },
      "source": [
        "La posterior predictiva es la probabilidad de una nueva medicion $y_{6}$ dadas todas las anteriores:\n",
        "\n",
        "$p(y_{6}|y_{1},...,y_{5})$\n",
        "\n",
        "Para hacer esto, una opcion muy comun es plantear la posterior predictiva como una marginalización de la distribución conjunta condicional $p(y_6, \\theta | \\mathbf{y})$ y usar la regla del producto:\n",
        "\n",
        "$$p(y_{6}|y_{1},...,y_{5})=\\int d\\theta p(y_{6},\\theta|y_{1},...,y_{5})= \\int d\\theta p(y_{6}|\\theta)p(\\theta|y_{1},...,y_{5})$$\n",
        "\n",
        "Donde asumimos que $y_{6}$ e $(y_{1},...,y_{5})$ son condicionalmente independientes dado $\\theta$.\n",
        "\n",
        "Esta integral podria hacerse numericamente de la misma manera que hicimos antes. Hacemos una grilla en $\\theta$ y aproximamos la funcion para cada valor de $y_{6}$ usando esa grilla. Sin embargo, Gelman nos sugiere que aprovechemos el sampleo del interior anterior. \n",
        "\n",
        "Unba manera de aprovechar el sampleo es que lo podemos utilizar para aproximar la integral mucho mas eficientemente que utilizando una grilla uniforme de puntos en $\\theta$. Utilizando lo que se conoce como Importance Sampling\n",
        "\n",
        "$$\\int d\\theta f(\\theta)\\approx\\frac{1}{N_{\\text{sampleos}}}\\sum_{n=1}^{N_{\\text{sampleos}}}\\frac{f(\\theta_{n})}{p(\\theta_{n})}$$\n",
        "\n",
        "donde los puntos fueron sampleados de acuerdo a $p(\\theta_{i})$. En nuestro, caso, el denominador se simplifica con una expresion del numerador y tenemos\n",
        "\n",
        "$$\\int d\\theta p(y_{6}|\\theta)p(\\theta|y_{1},...,y_{5})\\approx\\frac{1}{N_{\\text{sampleos}}}\\sum_{n=1}^{N_{\\text{sampleos}}}p(y_{6}|\\theta_{n})$$\n"
      ]
    },
    {
      "cell_type": "code",
      "metadata": {
        "colab": {
          "base_uri": "https://localhost:8080/",
          "height": 282
        },
        "id": "D53-gS8-9zrY",
        "outputId": "0e7c561d-4cc2-4e7e-9124-7c00d32b8396"
      },
      "source": [
        "y6 = np.linspace(20, 80, 200)\n",
        "# Calcula la likelihood para cada sample de la posterior y para cada valor de y6\n",
        "A = cauchy(loc=theta_samples[np.newaxis, :]).pdf(y6[:, np.newaxis])\n",
        "# Promedia a lo largo del eje correspondiente.\n",
        "plt.plot(y6, A.mean(axis=1))"
      ],
      "execution_count": 20,
      "outputs": [
        {
          "output_type": "execute_result",
          "data": {
            "text/plain": [
              "[<matplotlib.lines.Line2D at 0x7f4d21705190>]"
            ]
          },
          "metadata": {
            "tags": []
          },
          "execution_count": 20
        },
        {
          "output_type": "display_data",
          "data": {
            "image/png": "[encoded data removed]",
            "text/plain": [
              "<Figure size 432x288 with 1 Axes>"
            ]
          },
          "metadata": {
            "tags": [],
            "needs_background": "light"
          }
        }
      ]
    },
    {
      "cell_type": "markdown",
      "metadata": {
        "id": "TwUfIKz6I-2z"
      },
      "source": [
        "Y sampleamos, tal como hicimos antes"
      ]
    },
    {
      "cell_type": "code",
      "metadata": {
        "id": "CHNVlwc2JD1_"
      },
      "source": [
        "y_samples=np.random.choice(y6, p=A.mean(axis=1)/np.sum(A.mean(axis=1)), size=1000)"
      ],
      "execution_count": 24,
      "outputs": []
    },
    {
      "cell_type": "code",
      "metadata": {
        "colab": {
          "base_uri": "https://localhost:8080/",
          "height": 298
        },
        "id": "J0M_fgXZJMZX",
        "outputId": "9f5b8cf8-f5a5-4306-bec9-73d7afa79de5"
      },
      "source": [
        "plt.hist(y_samples,bins=bins,histtype='step')\n",
        "#plt.plot(y6, A.mean(axis=1))\n",
        "plt.xlabel(r'$y_{6}$')"
      ],
      "execution_count": 25,
      "outputs": [
        {
          "output_type": "execute_result",
          "data": {
            "text/plain": [
              "Text(0.5, 0, '$y_{6}$')"
            ]
          },
          "metadata": {
            "tags": []
          },
          "execution_count": 25
        },
        {
          "output_type": "display_data",
          "data": {
            "image/png": "[encoded data removed]",
            "text/plain": [
              "<Figure size 432x288 with 1 Axes>"
            ]
          },
          "metadata": {
            "tags": [],
            "needs_background": "light"
          }
        }
      ]
    },
    {
      "cell_type": "markdown",
      "metadata": {
        "id": "CGe7kadUEkvs"
      },
      "source": [
        "Sin embargo, Gelman nos sugiere que aprovechemos todavia mas el sampleo de la posterior. Dado los N $\\theta_{n} \\sim p(\\theta|y)$, podemos hacer lo siguiente: \n",
        "Si sampleamos $y_{n} \\sim p(y|\\theta_{n})$, tenemos N sampleos de la conjunta $p(y_{6}, \\theta|y_{1},...,y_{5})$.  Si despues marginalizamos sobre $\\theta$, vamos a tener datos que siguen $p(y_{6}|y_{1},...,y_{5})$. Como marginalizamos? Una manera es haciendo histogramas en $y$ sin importar los valores de $\\theta$."
      ]
    },
    {
      "cell_type": "code",
      "metadata": {
        "id": "qIz6BO_yjhKd"
      },
      "source": [
        "y_samples_bis=np.asarray([cauchy(loc=theta).rvs() for theta in theta_samples])"
      ],
      "execution_count": 26,
      "outputs": []
    },
    {
      "cell_type": "code",
      "metadata": {
        "colab": {
          "base_uri": "https://localhost:8080/",
          "height": 298
        },
        "id": "E6tXWbJDmmKl",
        "outputId": "54decca0-ccb0-4166-8106-1471f2fcc92d"
      },
      "source": [
        "#bins=100\n",
        "bins=np.linspace(20, 80, 50)\n",
        "plt.hist(y_samples,bins=bins,histtype='step',label='Importance Sampling')\n",
        "plt.hist(y_samples_bis,bins=bins,histtype='step',label='MCMC Sampling')\n",
        "#plt.plot(y6, A.mean(axis=1))\n",
        "plt.legend(loc='upper right')\n",
        "plt.xlabel(r'$y_{6}$')"
      ],
      "execution_count": 31,
      "outputs": [
        {
          "output_type": "execute_result",
          "data": {
            "text/plain": [
              "Text(0.5, 0, '$y_{6}$')"
            ]
          },
          "metadata": {
            "tags": []
          },
          "execution_count": 31
        },
        {
          "output_type": "display_data",
          "data": {
            "image/png": "[encoded data removed]",
            "text/plain": [
              "<Figure size 432x288 with 1 Axes>"
            ]
          },
          "metadata": {
            "tags": [],
            "needs_background": "light"
          }
        }
      ]
    },
    {
      "cell_type": "markdown",
      "metadata": {
        "id": "2_5xECNSJhNi"
      },
      "source": [
        "En lo importante, dan muy parecidos los metodos. Sin embargo..."
      ]
    },
    {
      "cell_type": "code",
      "metadata": {
        "id": "vTUM6R8tmr--",
        "colab": {
          "base_uri": "https://localhost:8080/"
        },
        "outputId": "473f9c21-ab30-4df6-84b5-1830a17866a7"
      },
      "source": [
        "print(min(y_samples),max(y_samples))\n",
        "print(min(y_samples_bis),max(y_samples_bis))"
      ],
      "execution_count": 33,
      "outputs": [
        {
          "output_type": "stream",
          "text": [
            "23.91959798994975 78.19095477386935\n",
            "-53.926075323801435 351.63827900223725\n"
          ],
          "name": "stdout"
        }
      ]
    },
    {
      "cell_type": "markdown",
      "metadata": {
        "id": "cuUS4xEYGO0R"
      },
      "source": [
        "## Item extra"
      ]
    },
    {
      "cell_type": "markdown",
      "metadata": {
        "id": "BVX-5zq-GUaW"
      },
      "source": [
        "Jueguen con otros priors. Que pasa si tenemos un prior uniforme entre [0, 20]? Y si nuestro prior es $\\mathcal{N}(50,1^{2})$?"
      ]
    },
    {
      "cell_type": "code",
      "metadata": {
        "id": "RDTdUjifESuE"
      },
      "source": [
        ""
      ],
      "execution_count": 23,
      "outputs": []
    }
  ]
}