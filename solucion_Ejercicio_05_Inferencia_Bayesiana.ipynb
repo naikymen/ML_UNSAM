{
 "cells": [
  {
   "cell_type": "code",
   "execution_count": null,
   "metadata": {
    "id": "zaZttvgD-cPi"
   },
   "outputs": [],
   "source": [
    "# Por si alguien corre en python2\n",
    "from __future__ import division\n",
    "\n",
    "import math\n",
    "import numpy as np\n",
    "import pandas as pd\n",
    "from scipy.stats import binom, beta, uniform, norm, bernoulli, dirichlet\n",
    "\n",
    "from matplotlib import pyplot as plt\n",
    "%matplotlib inline"
   ]
  },
  {
   "cell_type": "markdown",
   "metadata": {
    "id": "kSEQVifZ-cQ5"
   },
   "source": [
    "# Ejercicio 5: A/B Testing"
   ]
  },
  {
   "cell_type": "markdown",
   "metadata": {
    "id": "3IONPR8s-cQ6"
   },
   "source": [
    "Te contratan como diseñador de sitios web para una prestigiosa revista amarillista. Tu principal tarea es rediseñar el sitio para obtener más suscriptores. Luego de retoques y maquillajes, crees que esta lista, pero antes de hacerla oficial tu jefe quiere que realices un experimento para estimar qué tanto mejor (si es que lo es en absoluto) es tu diseño, respecto al anterior. \n",
    "\n",
    "Se realiza el siguiente experimento: Al 20% de los visitantes se les muestra tu novedoso diseño (diseño A) mientras que al resto se les muestra el diseño original (diseño B). Luego de un mes, cuentas con los siguientes datos:\n",
    "\n",
    "|Sitio:|A|B|\n",
    "|---|---|---|\n",
    "|Cantidad de visitantes  | 14 400  | 57 600  |\n",
    "|Cantidad de suscriptores| 20  |  68 |\n",
    "\n",
    "***"
   ]
  },
  {
   "cell_type": "markdown",
   "metadata": {
    "id": "yB7sX42k-cQ9"
   },
   "source": [
    "##  a)\n",
    "\n",
    "**Modele la probabilidad $p$ de que un visitante al sitio web se suscriba a la revista (i.e. la _Verosimilitud_ o _Likelihood_). ¿Qué distribución utilizaría y porqué?**\n"
   ]
  },
  {
   "cell_type": "markdown",
   "metadata": {
    "id": "s6HDNj0Z9Kpw"
   },
   "source": [
    "Mi experimento es entran $N_{A,B}$ personas y se suscriben $k_{A,B}$. Estas $N_{A,B}$ personas se comportan independientemente las unas de las otras y todas tienen la misma probabilidad de suscribirse.  Estas hipotesis sumadas al hecho de que la suscripcion es un resultado binario, utilizamos la binomial:\n",
    "\n",
    "$p_{A,B} = p(k_{A,B}\\text{ suscriptores} |N_{A,B} \\text{ visitantes}, \\mu_{A,B})=\\text{Bin}(k_{A,B}|N_{A,B},\\mu_{A,B})$"
   ]
  },
  {
   "cell_type": "markdown",
   "metadata": {
    "id": "WxtjdvOL-cQ9"
   },
   "source": [
    "## b)\n",
    "**Si llamamos $\\mu_A$ y $\\mu_B$ a dichas probabilidades cuando el visitante es mostrado el diseño A o el diseño B, modele la confianza que tiene en los valores de $\\mu_A$ y $\\mu_B$ antes de realizar el experimento (i.e. el _prior_). ¿Qué distribución usa?**\n"
   ]
  },
  {
   "cell_type": "markdown",
   "metadata": {
    "id": "OOrFbbHK4jR7"
   },
   "source": [
    "Tanto $\\mu_{A}$ como $\\mu_{B}$ pueden tomar cualquier valor en [0,1]. Como no conozco nada, tomo\n",
    "$p(\\mu_{A,B}) = \\text{Uniforme}=\\text{Beta}(\\mu_{A,B}|\\alpha_{1}=1,\\alpha_{2}=1)$"
   ]
  },
  {
   "cell_type": "markdown",
   "metadata": {
    "id": "dkMh6pmO-cQ-"
   },
   "source": [
    "## c)\n",
    "**Utilice el Teorema de Bayes para estimar la confianza que tiene en los parámetros $\\mu_A$ y $\\mu_B$ luego de realizar el experimento (i.e. el _posterior_). Grafíquelas en función del valor de $\\mu$.**\n",
    "\n",
    "_Ayuda: Esto se puede hacer analiticamente si su verosimilitud y su prior son conjugados, por ejemplo Beta$(1,1)\\times$Binomial(X positivos de N intentos) ~ Beta(1+X, 1+N-X)._\n"
   ]
  },
  {
   "cell_type": "markdown",
   "metadata": {
    "id": "M2YxhG127FBp"
   },
   "source": [
    "__Cargo mis datos:__"
   ]
  },
  {
   "cell_type": "code",
   "execution_count": null,
   "metadata": {
    "id": "Nl2vMioy-cRA"
   },
   "outputs": [],
   "source": [
    "NA=14400\n",
    "kA=20\n",
    "NB=57600\n",
    "kB=68"
   ]
  },
  {
   "cell_type": "code",
   "execution_count": null,
   "metadata": {
    "colab": {
     "base_uri": "https://localhost:8080/",
     "height": 50
    },
    "id": "xBLbRNHtMubK",
    "outputId": "dbeccfbd-167e-4200-e059-4acca2545075"
   },
   "outputs": [
    {
     "name": "stdout",
     "output_type": "stream",
     "text": [
      "0.001388888888888889\n",
      "0.0011805555555555556\n"
     ]
    }
   ],
   "source": [
    "MLA=print(kA/NA)\n",
    "MLB=print(kB/NB)"
   ]
  },
  {
   "cell_type": "markdown",
   "metadata": {
    "id": "_-b78Yj67KPS"
   },
   "source": [
    "__Los incorporo junto a mi prior y obtengo el posterior:__\n",
    "\n",
    "$p(\\mu_{A,B}|k_{A,B},N_{A,B})=\\frac{p(k_{A,B}|N_{A,B},\\mu_{A,B})p(\\mu_{A,B})}{p(k_{A,B}|N_{A,B})}$\n",
    "\n",
    "Gracias a las propiedades del prior conjugado _para mi eleccion de prior_\n",
    "\n",
    "$p(\\mu_{A,B}|k_{A,B},N_{A,B})=\\text{Beta}(\\mu_{A,B}|1+k_{A,B},1+N_{A,B}-k_{A,B})$"
   ]
  },
  {
   "cell_type": "code",
   "execution_count": null,
   "metadata": {
    "colab": {
     "base_uri": "https://localhost:8080/",
     "height": 298
    },
    "id": "r1hDguIK6zHO",
    "outputId": "3abfe700-60fb-4db0-8a17-8c6c38181179"
   },
   "outputs": [
    {
     "data": {
      "text/plain": [
       "Text(0.5, 0, '$\\\\mu$')"
      ]
     },
     "execution_count": 13,
     "metadata": {
      "tags": []
     },
     "output_type": "execute_result"
    },
    {
     "data": {
      "image/png": "[encoded data removed]",
      "text/plain": [
       "<Figure size 432x288 with 1 Axes>"
      ]
     },
     "metadata": {
      "needs_background": "light",
      "tags": []
     },
     "output_type": "display_data"
    }
   ],
   "source": [
    "mu=np.linspace(0,0.006,100)\n",
    "posteriorA=beta(1+kA,1+NA-kA)\n",
    "plt.plot(mu,posteriorA.pdf(mu),color='blue',label='A')\n",
    "posteriorB=beta(1+kB,1+NB-kB)\n",
    "plt.plot(mu,posteriorB.pdf(mu),color='red',label='B')\n",
    "plt.legend(loc='upper right')\n",
    "plt.xlabel('$\\mu$')"
   ]
  },
  {
   "cell_type": "markdown",
   "metadata": {
    "id": "Gmyu6w_B-cRl"
   },
   "source": [
    "## d)\n",
    "**¿Cual es la probabilidad de que el diseño A sea mejor que el B? (Recuerde que un 50% quiere decir que son estadisticamente iguales)**\n"
   ]
  },
  {
   "cell_type": "markdown",
   "metadata": {
    "id": "49kc3JCG-RXi"
   },
   "source": [
    "Opcion a) __Estimadores__\n",
    "\n",
    "Calculo algun estimador para cada distribucion y comparo."
   ]
  },
  {
   "cell_type": "markdown",
   "metadata": {
    "id": "ethZI75U_QaD"
   },
   "source": [
    "__Media:__\n",
    "\n",
    "$E[x]=\\int x f(x)dx \\approx \\frac{1}{M} \\sum_{i=1}^{M}x_{i}$\n",
    "\n",
    "Si sampleo $x$ de manera uniforme\n",
    "\n",
    "$E[x] \\approx \\frac{\\sum_{i=1}^{M'}x_{i}f(x_{i})}{\\sum_{j=1}^{M'}f(x_{j})}$\n",
    "\n",
    "En general $M' \\gg M$ para igualar precision."
   ]
  },
  {
   "cell_type": "code",
   "execution_count": null,
   "metadata": {
    "colab": {
     "base_uri": "https://localhost:8080/",
     "height": 84
    },
    "id": "XerCMqVaEWcL",
    "outputId": "8691dfb3-b30d-4009-e3e2-be77d7d5a07a"
   },
   "outputs": [
    {
     "name": "stdout",
     "output_type": "stream",
     "text": [
      "La media es: 0.001458\n",
      "0.0014581308151645604\n",
      "Sampleando:\n",
      "0.0014556302163555455\n"
     ]
    }
   ],
   "source": [
    "print(\"La media es: %.6f\" % (posteriorA.mean()))\n",
    "print((kA+1)/(NA+2))\n",
    "print(\"Sampleando:\")\n",
    "sample_size = 1000 #Muchas, para que no tengamos errores de binneo numerico\n",
    "sample_A = posteriorA.rvs(size=sample_size)\n",
    "print(np.mean(sample_A))"
   ]
  },
  {
   "cell_type": "code",
   "execution_count": null,
   "metadata": {
    "colab": {
     "base_uri": "https://localhost:8080/",
     "height": 67
    },
    "id": "IAnpBNPXB-gL",
    "outputId": "8970611b-d82c-4694-e9d1-a19e8ef92e90"
   },
   "outputs": [
    {
     "name": "stdout",
     "output_type": "stream",
     "text": [
      "La media es: 0.001198\n",
      "Sampleando:\n",
      "0.0012082888728466338\n"
     ]
    }
   ],
   "source": [
    "print(\"La media es: %.6f\" % (posteriorB.mean()))\n",
    "print(\"Sampleando:\")\n",
    "sample_size = 1000 #Muchas, para que no tengamos errores de binneo numerico\n",
    "sample_B = posteriorB.rvs(size=sample_size)\n",
    "print(np.mean(sample_B))"
   ]
  },
  {
   "cell_type": "markdown",
   "metadata": {
    "id": "0sWDbrLRCUKR"
   },
   "source": [
    "La diferencia entre ambas:"
   ]
  },
  {
   "cell_type": "code",
   "execution_count": null,
   "metadata": {
    "colab": {
     "base_uri": "https://localhost:8080/",
     "height": 34
    },
    "id": "5aIGPhm1BmXv",
    "outputId": "fe1bf817-9183-4947-8aab-9e2a9027cc84"
   },
   "outputs": [
    {
     "data": {
      "text/plain": [
       "0.21726451036389857"
      ]
     },
     "execution_count": 40,
     "metadata": {
      "tags": []
     },
     "output_type": "execute_result"
    }
   ],
   "source": [
    "(posteriorA.mean()-posteriorB.mean())/(posteriorB.mean())"
   ]
  },
  {
   "cell_type": "markdown",
   "metadata": {
    "id": "8JYiGu7DD3jT"
   },
   "source": [
    "Hagan lo mismo para la mediana y para el maximo."
   ]
  },
  {
   "cell_type": "markdown",
   "metadata": {
    "id": "S_N8FGSrC99k"
   },
   "source": [
    "Opcion b): __Es utilizar todo el posterior.__\n",
    "\n",
    "Sampleo $M$ experimentos y comparo en cuantos tengo mas probabilidad de exito en A que en B.\n",
    "\n",
    "Si yo tengo $M_{1}$ experimentos donde $\\mu_{A} > \\mu_{B}$ entonces\n",
    "\n",
    "$p(\\mu_A>\\mu_B)=\\frac{M_{1}}{M}$"
   ]
  },
  {
   "cell_type": "code",
   "execution_count": null,
   "metadata": {
    "colab": {
     "base_uri": "https://localhost:8080/",
     "height": 34
    },
    "id": "8yGDw6ijESoP",
    "outputId": "d662ef42-9db1-41e9-8fee-c0700c600a1d"
   },
   "outputs": [
    {
     "name": "stdout",
     "output_type": "stream",
     "text": [
      "0.7683\n"
     ]
    }
   ],
   "source": [
    "sample_size=10000\n",
    "sample_A=posteriorA.rvs(sample_size)\n",
    "sample_B=posteriorB.rvs(sample_size)\n",
    "\n",
    "print((sample_A>sample_B).mean())"
   ]
  },
  {
   "cell_type": "markdown",
   "metadata": {
    "id": "TEue9u2v-cSQ"
   },
   "source": [
    "## e)\n",
    "**Si el sitio cuenta con un promedio de 5 millones de visitas anuales, ¿cuánto estima que será el incremento en los suscriptores el proximo año debido a usar el diseño nuevo en vez del original?**\n",
    "\n"
   ]
  },
  {
   "cell_type": "markdown",
   "metadata": {
    "id": "FZv3cKWMGqJB"
   },
   "source": [
    "El incremento en suscriptores va a venir de  considerar $p(k \\text{ subscriptores}|5\\cdot10^6 \\text{ visitantes},\\text{sitio web}_{A,B})$\n",
    "\n",
    "$p(k|N,\\text{web}_{A,B})=\\int p(k|N,\\mu)p(\\mu|\\text{web}_{A,B}) d\\mu$\n",
    "\n",
    "$p(\\mu|\\text{web}_{A,B})$ son los posteriors que obtuvimos antes."
   ]
  },
  {
   "cell_type": "markdown",
   "metadata": {
    "id": "4PP-8clqH_s4"
   },
   "source": [
    "__Primer aproximacion:__\n",
    "\n",
    "Aproximo $p(\\mu|web_{A,B})$ por $\\delta(\\mu_{A,B}-\\hat{\\mu}_{A,B})$\n",
    "\n",
    "$p(k|N,\\text{web}_{A,B})= p(k|N,\\hat{\\mu}_{A,B})$\n"
   ]
  },
  {
   "cell_type": "code",
   "execution_count": null,
   "metadata": {
    "colab": {
     "base_uri": "https://localhost:8080/",
     "height": 34
    },
    "id": "5VFOujQHDDy8",
    "outputId": "0712d58f-6542-40da-97c2-8b18da35eaa2"
   },
   "outputs": [
    {
     "name": "stdout",
     "output_type": "stream",
     "text": [
      "(7290.654075822802, 5989.3753689108025)\n"
     ]
    }
   ],
   "source": [
    "estimador_A=posteriorA.mean()\n",
    "estimador_B=posteriorB.mean()\n",
    "N=5000000\n",
    "probA=binom(N,p=estimador_A)\n",
    "probB=binom(N,p=estimador_B)\n",
    "print((probA.mean(),probB.mean()))"
   ]
  },
  {
   "cell_type": "markdown",
   "metadata": {
    "id": "2RsJ9NBtJMYE"
   },
   "source": [
    "__Segunda aproximacion:__\n",
    "\n",
    "Sampleo adecuadamente y tengo\n",
    "\n",
    "$p(k|N,\\text{web}_{A,B})=\\frac{1}{M}\\sum_{i=1}^{M}p(k|N,\\mu_{i})$\n",
    "\n",
    "Se que $E[k]=N\\mu$ para un $\\mu$ fijo\n",
    "\n",
    "$E[k]=\\frac{1}{M}\\sum_{i=1}^{M}\\sum_{k=0}^{N}p(k|N,\\mu_{i})=\\frac{1}{M}\\sum_{i=1}^{M}N\\mu_{i}$"
   ]
  },
  {
   "cell_type": "code",
   "execution_count": null,
   "metadata": {
    "colab": {
     "base_uri": "https://localhost:8080/",
     "height": 84
    },
    "id": "SZce8VXNEW8D",
    "outputId": "df8cbd26-246c-41c4-e684-998550c283fa"
   },
   "outputs": [
    {
     "name": "stdout",
     "output_type": "stream",
     "text": [
      "7316.151521669909\n",
      "5983.218784641789\n",
      "7316.151521669909\n",
      "5983.218784641789\n"
     ]
    }
   ],
   "source": [
    "sample_size=10000\n",
    "sample_A=posteriorA.rvs(sample_size)\n",
    "sample_B=posteriorB.rvs(sample_size)\n",
    "print((binom(N,sample_A).mean()).mean())\n",
    "print((binom(N,sample_B).mean()).mean())\n",
    "print((N*sample_A).mean())\n",
    "print((N*sample_B).mean())"
   ]
  }
 ],
 "metadata": {
  "colab": {
   "collapsed_sections": [
    "kSEQVifZ-cQ5"
   ],
   "name": "solucion_Ejercicio_05_Inferencia_Bayesiana.ipynb",
   "provenance": []
  },
  "kernelspec": {
   "display_name": "Python 3",
   "language": "python",
   "name": "python3"
  },
  "language_info": {
   "codemirror_mode": {
    "name": "ipython",
    "version": 3
   },
   "file_extension": ".py",
   "mimetype": "text/x-python",
   "name": "python",
   "nbconvert_exporter": "python",
   "pygments_lexer": "ipython3",
   "version": "3.9.2"
  }
 },
 "nbformat": 4,
 "nbformat_minor": 4
}
