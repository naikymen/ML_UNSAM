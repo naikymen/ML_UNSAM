{
 "cells": [
  {
   "cell_type": "markdown",
   "metadata": {
    "colab_type": "text",
    "id": "4CeTeL4Buasf"
   },
   "source": [
    "# Guía de inferencia bayesiana"
   ]
  },
  {
   "cell_type": "markdown",
   "metadata": {},
   "source": [
    "Los * indican ejercicios o preguntas particularmente desafiantes (¡pero no opcionales!)."
   ]
  },
  {
   "cell_type": "code",
   "execution_count": 2,
   "metadata": {
    "colab": {},
    "colab_type": "code",
    "id": "61Bc4Tjduasn"
   },
   "outputs": [],
   "source": [
    "# Por si alguien corre en python2\n",
    "from __future__ import division\n",
    "\n",
    "# Preparamos todo para correr\n",
    "import sys\n",
    "import numpy as np\n",
    "from math import *\n",
    "from matplotlib import pylab as plt"
   ]
  },
  {
   "cell_type": "markdown",
   "metadata": {
    "colab_type": "text",
    "id": "FK1qoPwTuasw"
   },
   "source": [
    "## Ejercicio 1\n",
    "\n",
    "a. Explicar este chiste\n",
    "\n",
    "<img src=\"https://imgs.xkcd.com/comics/frequentists_vs_bayesians.png\"\n",
    "     alt=\"Chiste XKCD\"\n",
    "     style=\"float: left; margin-right: 10px;\" />\n",
    "\n",
    "\n",
    "b. Escribir el teorema de Bayes para este problema y hacer un dibujo **esquemático** del prior y de la verosimilitud.\n",
    "\n",
    "c. ¿Cómo cambiaría el remate del chiste si el detector tuviera 1000 dados en lugar de dos, y si solo mintiera en el caso en el que saliera seis en todos ellos? (<b>opcional</b>: modificar el archivo de la imagen con el nuevo final, y postearlo con el hashtag #frec_bayes)"
   ]
  },
  {
   "cell_type": "markdown",
   "metadata": {
    "colab_type": "text",
    "id": "vK4PIjnJuas8"
   },
   "source": [
    "## Ejecicio 2\n",
    "\n",
    "<b>Bayesian updating.</b> Considerar el ejemplo de los tests de una enfermedad que se presentó en el notebook de probabilidad. Suponiendo que se realiza un segundo test que también da positivo, calcular la probabilidad condicional de que el paciente esté enfermo dados los resultados de los tests. \n",
    "\n",
    "Plantear el cálculo de la probabilidad frente a un segundo test considerando al resultado del primer test como prior. ¿Se obtiene el mismo resultado?"
   ]
  },
  {
   "cell_type": "code",
   "execution_count": null,
   "metadata": {
    "colab": {},
    "colab_type": "code",
    "id": "5F4_w43Zuas-"
   },
   "outputs": [],
   "source": []
  },
  {
   "cell_type": "markdown",
   "metadata": {
    "colab_type": "text",
    "id": "0XneujcKuatG"
   },
   "source": [
    "## Ejercicio 3\n",
    "\n",
    "Considerar una moneda de la que no se tiene ninguna información. Es decir, no se sabe si la moneda está trucada, si cae preferentemente de un lado o del otro. Se quiere determinar la probabilidad, $\\mu$, de que la moneda caiga de uno de los lados (digamos cara).\n",
    "\n",
    "a. ¿Cuál sería un prior razonable para el parámetro $\\mu$ dada esta información?\n",
    "\n",
    "b. Se lanza la moneda N veces, y cae $c$ veces cara (C) y $e = N - c$ veces ceca (escudo, E). Escribir la función de verosimilitud para estos datos. ¿Qué función de distribución es la apropiada para modelar este proceso? ¿Cuál es el estimador de máxima verosimilitud, $\\mu_{ML}$?\n",
    "\n",
    "c. Si tomamos como prior una función uniforme, $Beta(1, 1)$, y dada la secuencia [E, E, C, E, C], calcular la posterior de $\\mu$ y graficarla.\n",
    "\n",
    "*d. Suponer ahora que en lugar de tratarse de una moneda completamente desconocida, supiéramos de alguna manera que el prior para $\\mu$ es $P(\\mu) = \\mathcal{N}(0.5, 0.02)$, donde $\\mathcal{N}$ es la distribución normal:\n",
    "<ol>\n",
    "    <li>Calcular y graficar la distribución posterior para el mismo set de datos del punto <em>c</em>.</li>\n",
    "    <li>Inventar un set de resultados del experimento de lanzar la moneda que conduzcan a una posterior que permita refutar el prior.</li>\n",
    "    </ol>"
   ]
  },
  {
   "cell_type": "code",
   "execution_count": null,
   "metadata": {},
   "outputs": [],
   "source": []
  },
  {
   "cell_type": "markdown",
   "metadata": {},
   "source": [
    "## *Ejercicio 4\n",
    "\n",
    "Suponga que tiene una distribución prior Beta(4, 4) para la probabilidad $\\mu$ de que una moneda lazada de alguna manera caerá Cara. Se tira la moneda *diez* veces y aparecen menos de 3 caras. No se sabe el número exacto de caras, sino solo que son menos de tres.\n",
    "\n",
    "Calcule la distribución posterior exacta para $\\mu$ (a menos de una constante de proporcionalidada) y dibújela."
   ]
  },
  {
   "cell_type": "code",
   "execution_count": null,
   "metadata": {
    "colab": {},
    "colab_type": "code",
    "id": "MWZo7qGK7sQv"
   },
   "outputs": [],
   "source": []
  },
  {
   "cell_type": "markdown",
   "metadata": {
    "colab_type": "text",
    "id": "br8t8EV2uata"
   },
   "source": [
    "## Ejercicio 5:\n",
    "Te contratan como diseñador de sitios web para una prestigiosa revista amarillista. Tu principal tarea es rediseñar el sitio para obtener más suscriptores. Luego de retoques y maquillajes, crees que esta lista, pero antes de hacerla oficial tu jefe quiere que realices un experimento para estimar qué tanto mejor (si es que lo es en absoluto) es tu diseño, respecto al anterior. \n",
    "\n",
    "Se realiza el siguiente experimento: Al 20% de los visitantes se les muestra tu novedoso diseño (diseño A) mientras que al resto se les muestra el diseño original (diseño B). Luego de un mes, cuentas con los siguientes datos:\n",
    "\n",
    "|Sitio:|A|B|\n",
    "|---|---|---|\n",
    "|Cantidad de visitantes  | 14 400  | 57 600  |\n",
    "|Cantidad de suscriptores| 20  |  68 |\n",
    "\n",
    "a. Modele la probabilidad $p$ de que un visitante al sitio web se suscriba a la revista (i.e. la _Verosimilitud_ o _Likelihood_). ¿Qué distribución utilizaría y porqué?"
   ]
  },
  {
   "cell_type": "code",
   "execution_count": null,
   "metadata": {
    "colab": {},
    "colab_type": "code",
    "id": "ynUh9l8SCS8n"
   },
   "outputs": [],
   "source": []
  },
  {
   "cell_type": "markdown",
   "metadata": {
    "colab_type": "text",
    "id": "2NdDuhLYBqGk"
   },
   "source": [
    "b. Si llamamos $p_A$ y $p_B$ a dichas probabilidades cuando el visitante es mostrado el diseño A o el diseño B, modele la confianza que tiene en los valores de $p_A$ y $p_B$ antes de realizar el experimento (i.e. el _prior_). ¿Qué distribución usa?"
   ]
  },
  {
   "cell_type": "code",
   "execution_count": null,
   "metadata": {
    "colab": {},
    "colab_type": "code",
    "id": "_wAkxKpJCS9B"
   },
   "outputs": [],
   "source": []
  },
  {
   "cell_type": "markdown",
   "metadata": {
    "colab_type": "text",
    "id": "I6eDcGQTBs7Y"
   },
   "source": [
    "c. Utilice el Teorema de Bayes para estimar la confianza que tiene en los parámetros $p_A$ y $p_B$ luego de realizar el experimento (i.e. el _posterior_). Grafíquelas en función del valor de p.\n",
    "\n",
    "Ayuda: Esto se puede hacer analiticamente si su verosimilitud y su prior son conjugados, por ejemplo Beta(1,1)*Binomial(X positivos de N intentos) ~ Beta(1+X, 1+N-X)."
   ]
  },
  {
   "cell_type": "code",
   "execution_count": null,
   "metadata": {
    "colab": {},
    "colab_type": "code",
    "id": "DHKE4c_UBuhm"
   },
   "outputs": [],
   "source": [
    "import numpy as np\n",
    "import matplotlib.pyplot as plt\n",
    "#La mayoría de las distribuciones utiles se pueden importar directamente de SciPy.Stats, por ejemplo\n",
    "from scipy.stats import Beta\n",
    "Beta?"
   ]
  },
  {
   "cell_type": "markdown",
   "metadata": {
    "colab_type": "text",
    "id": "0RuPt3FXCWKd"
   },
   "source": [
    "d. ¿Cual es la probabilidad de que el diseño A sea mejor que el B? (Recuerde que un 50% quiere decir que son estadisticamente iguales)"
   ]
  },
  {
   "cell_type": "code",
   "execution_count": null,
   "metadata": {
    "colab": {},
    "colab_type": "code",
    "id": "SQ5irLmaH8Xk"
   },
   "outputs": [],
   "source": []
  },
  {
   "cell_type": "markdown",
   "metadata": {
    "colab_type": "text",
    "id": "m8V1X9h6DTNP"
   },
   "source": [
    "e. Si el sitio cuenta con un promedio de 5 millones de visitas anuales, ¿cuánto estima que será el incremento en los suscriptores el proximo año debido a usar el diseño nuevo en vez del original?"
   ]
  },
  {
   "cell_type": "code",
   "execution_count": null,
   "metadata": {
    "colab": {},
    "colab_type": "code",
    "id": "k1XsetZsISaz"
   },
   "outputs": [],
   "source": []
  },
  {
   "cell_type": "markdown",
   "metadata": {
    "colab_type": "text",
    "id": "w3dSTAUUuatg"
   },
   "source": [
    "## *Ejercicio 6:\n"
   ]
  },
  {
   "cell_type": "markdown",
   "metadata": {
    "colab_type": "text",
    "id": "5rXb69CaNgpx"
   },
   "source": [
    "Supongamos que has diseñado un nuevo test para una enfermedad. Ahora hay que caracterizarlo. Para esto, se suele subdividir el espacio de posibilidades en 4:\n",
    "\n",
    "*   Verdadero Positivo: El test da positivo en un paciente enfermo.\n",
    "*   Falso Positivo: El test da positivo en un paciente sano.\n",
    "*   Verdadero Negativo: El test da negativo en un paciente sano\n",
    "*   Falso Negativo: El test da negativo en un paciente enfermo.\n",
    "\n",
    "Dado que cualquier paciente puede estar o sano o enfermo, y que el test solo puede dar positivo o negativo, estos cuatro eventos completan el espacio de posibilidades y son excluyentes. De este modo se caracteriza el test con las probabilidades de cada uno de estos eventos.\n",
    "\n",
    "1.  ¿Como modelaría estas probabilidades? ¿Qué distribución de probabilidad le parece apropiada?\n",
    "\n",
    "\n",
    "\n",
    "\n",
    "\n"
   ]
  },
  {
   "cell_type": "markdown",
   "metadata": {
    "colab_type": "text",
    "id": "DMyyUC7HQJXp"
   },
   "source": [
    "**Respuesta:** ..."
   ]
  },
  {
   "cell_type": "markdown",
   "metadata": {
    "colab_type": "text",
    "id": "Bdbcom70RLMG"
   },
   "source": [
    "2.  En el archivo `datasets/clinical_trials.csv` se encuentran los resultados de las pruebas médicas realizadas. A partir de ellos, y asumiendo ningún conocimiento previo (prior uniforme), realice inferencia Bayesiana sobre las probabilidades del modelo. Grafique los posteriors correspondientes, y reporte un valor (estimador) para ellos. Justifique porque eligió dicho estimador. <b>Hint:</b> No hay una única respuesta adecuada."
   ]
  },
  {
   "cell_type": "code",
   "execution_count": 1,
   "metadata": {
    "colab": {},
    "colab_type": "code",
    "id": "pUKlc_4TUWAC"
   },
   "outputs": [
    {
     "ename": "NameError",
     "evalue": "name 'sys' is not defined",
     "output_type": "error",
     "traceback": [
      "\u001b[0;31m---------------------------------------------------------------------------\u001b[0m",
      "\u001b[0;31mNameError\u001b[0m                                 Traceback (most recent call last)",
      "\u001b[0;32m<ipython-input-1-1ec3e20ee9d0>\u001b[0m in \u001b[0;36m<module>\u001b[0;34m\u001b[0m\n\u001b[0;32m----> 1\u001b[0;31m \u001b[0;32mif\u001b[0m \u001b[0;34m'google.colab'\u001b[0m \u001b[0;32min\u001b[0m \u001b[0msys\u001b[0m\u001b[0;34m.\u001b[0m\u001b[0mmodules\u001b[0m\u001b[0;34m:\u001b[0m\u001b[0;34m\u001b[0m\u001b[0;34m\u001b[0m\u001b[0m\n\u001b[0m\u001b[1;32m      2\u001b[0m     \u001b[0;31m#Si estas en Colab, ejecuta esto primero:\u001b[0m\u001b[0;34m\u001b[0m\u001b[0;34m\u001b[0m\u001b[0;34m\u001b[0m\u001b[0m\n\u001b[1;32m      3\u001b[0m     \u001b[0mget_ipython\u001b[0m\u001b[0;34m(\u001b[0m\u001b[0;34m)\u001b[0m\u001b[0;34m.\u001b[0m\u001b[0msystem\u001b[0m\u001b[0;34m(\u001b[0m\u001b[0;34m'mkdir datasets'\u001b[0m\u001b[0;34m)\u001b[0m\u001b[0;34m\u001b[0m\u001b[0;34m\u001b[0m\u001b[0m\n\u001b[1;32m      4\u001b[0m     \u001b[0mget_ipython\u001b[0m\u001b[0;34m(\u001b[0m\u001b[0;34m)\u001b[0m\u001b[0;34m.\u001b[0m\u001b[0msystem\u001b[0m\u001b[0;34m(\u001b[0m\u001b[0;34m'wget https://raw.githubusercontent.com/IAI-UNSAM/ML-UNSAM/master/datasets/clinical_trials.csv'\u001b[0m\u001b[0;34m)\u001b[0m\u001b[0;34m\u001b[0m\u001b[0;34m\u001b[0m\u001b[0m\n\u001b[1;32m      5\u001b[0m     \u001b[0mget_ipython\u001b[0m\u001b[0;34m(\u001b[0m\u001b[0;34m)\u001b[0m\u001b[0;34m.\u001b[0m\u001b[0msystem\u001b[0m\u001b[0;34m(\u001b[0m\u001b[0;34m'mv clinical_trials.csv datasets'\u001b[0m\u001b[0;34m)\u001b[0m\u001b[0;34m\u001b[0m\u001b[0;34m\u001b[0m\u001b[0m\n",
      "\u001b[0;31mNameError\u001b[0m: name 'sys' is not defined"
     ]
    }
   ],
   "source": [
    "if 'google.colab' in sys.modules:\n",
    "    #Si estas en Colab, ejecuta esto primero:\n",
    "    !mkdir datasets\n",
    "    !wget https://raw.githubusercontent.com/IAI-UNSAM/ML-UNSAM/master/datasets/clinical_trials.csv\n",
    "    !mv clinical_trials.csv datasets"
   ]
  },
  {
   "cell_type": "code",
   "execution_count": null,
   "metadata": {
    "colab": {},
    "colab_type": "code",
    "id": "wWK_FAmiTGx6"
   },
   "outputs": [],
   "source": [
    "from scipy.stats import dirichlet"
   ]
  },
  {
   "cell_type": "markdown",
   "metadata": {
    "colab_type": "text",
    "id": "O9IwJf75TFXc"
   },
   "source": [
    "3. Usted se realiza dicho test y da positivo. Utilizando la información anterior ¿Cuál es la probabilidad de que estés enfermo?\n",
    "\n",
    "**DATO:** En la muestra de los resultados anteriores, la población enferma estaba sobrerepresentada para obtener una mejor estimación de falsos negativos y verdaderos positivos. Suponga que la probabilidad real de que alguien en su condición tenga la enfermedad es del 0.1%."
   ]
  },
  {
   "cell_type": "code",
   "execution_count": null,
   "metadata": {
    "colab": {},
    "colab_type": "code",
    "id": "ccMUXmv_UOXe"
   },
   "outputs": [],
   "source": []
  },
  {
   "cell_type": "markdown",
   "metadata": {
    "colab_type": "text",
    "id": "gUAiKG42UEOB"
   },
   "source": [
    "4.  (*) ¿Cambia el resultado anterior si utilizas las distribuciones de posterior en lugar de los estimadores escogidos? ¿Porqué?"
   ]
  },
  {
   "cell_type": "code",
   "execution_count": null,
   "metadata": {
    "colab": {},
    "colab_type": "code",
    "id": "s16QTh5JUOz-"
   },
   "outputs": [],
   "source": []
  },
  {
   "cell_type": "markdown",
   "metadata": {
    "colab_type": "text",
    "id": "RRZOySpPuatr"
   },
   "source": [
    "## *Ejercicio 7:\n",
    "\n",
    "Supongamos que uno entra a un laboratorio de partículas abandonado, buscando material fisible para alimentar su Delorean. Encuentra un bloque de medio kilo pero tiene tres etiquetas que indican tres vidas medias distintas para ese bloque de medio kilo: 1 decaimiento cada 10 minutos, 1 cada media hora y otro cada 45 minutos. Dado que no sabemos nada, podemos pensar que la probabilidad de que cada etiqueta sea la correcta es 1/3. Para cada etiqueta, la probabilidad de observar $N$ decaimientos en un tiempo $T$ esta definido por una distribucion de Poisson $\\frac{(rT)^{N}e^{-rT}}{N!}$, donde $r$ es la tasa de decaimientos por unidad de tiempo (distinta para cada etiqueta).\n",
    "\n",
    "Si ahora coloco un detector frente al material y mido, que puedo decir si observo:\n",
    "\n",
    "a) 1 partícula emitida en un intervalo de 5 minutos.\n",
    "\n",
    "b) 2 partículas emitidas en un intervalo de media hora.\n",
    "\n",
    "c) 1 partícula emitida en un intervalo de 1 hora.\n",
    "\n",
    "d) 25 partículas emitidas durante tres horas.\n",
    "\n",
    "e) 10 partículas emitidas en un intervalo de 2 horas.\n",
    "\n",
    "En base a esto, ¿es mejor medir durante mucho o poco tiempo?"
   ]
  },
  {
   "cell_type": "code",
   "execution_count": null,
   "metadata": {
    "colab": {},
    "colab_type": "code",
    "id": "7bNt6VTruats"
   },
   "outputs": [],
   "source": []
  }
 ],
 "metadata": {
  "colab": {
   "collapsed_sections": [],
   "name": "Ejercicios_02_InferenciaBayesiana.ipynb",
   "provenance": []
  },
  "kernelspec": {
   "display_name": "Python 3",
   "language": "python",
   "name": "python3"
  },
  "language_info": {
   "codemirror_mode": {
    "name": "ipython",
    "version": 3
   },
   "file_extension": ".py",
   "mimetype": "text/x-python",
   "name": "python",
   "nbconvert_exporter": "python",
   "pygments_lexer": "ipython3",
   "version": "3.8.3"
  },
  "toc": {
   "base_numbering": 1,
   "nav_menu": {},
   "number_sections": false,
   "sideBar": true,
   "skip_h1_title": false,
   "title_cell": "Table of Contents",
   "title_sidebar": "Contents",
   "toc_cell": false,
   "toc_position": {
    "height": "calc(100% - 180px)",
    "left": "10px",
    "top": "150px",
    "width": "288px"
   },
   "toc_section_display": true,
   "toc_window_display": true
  }
 },
 "nbformat": 4,
 "nbformat_minor": 1
}
