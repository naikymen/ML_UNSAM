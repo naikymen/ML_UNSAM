{
  "nbformat": 4,
  "nbformat_minor": 0,
  "metadata": {
    "colab": {
      "name": "08p_RegresionLogistica.ipynb",
      "provenance": [],
      "collapsed_sections": [],
      "toc_visible": true
    },
    "kernelspec": {
      "name": "python3",
      "display_name": "Python 3"
    }
  },
  "cells": [
    {
      "cell_type": "code",
      "metadata": {
        "id": "k8uN8SRyGFZ4"
      },
      "source": [
        "import numpy as np\n",
        "import matplotlib.pyplot as plt\n",
        "from sklearn.model_selection import train_test_split\n",
        "from scipy.stats import multivariate_normal"
      ],
      "execution_count": null,
      "outputs": []
    },
    {
      "cell_type": "markdown",
      "metadata": {
        "id": "Tye0tHMcWaIA"
      },
      "source": [
        "# Enfoque discriminativo"
      ]
    },
    {
      "cell_type": "markdown",
      "metadata": {
        "id": "kTQda7GNc59R"
      },
      "source": [
        "Estamos interesandos en problemas de clasificación en el que queremos aprender a asignar una clase $\\mathcal{C}_{k}$ a un dato $x$ teniendo como datos de entrenamiento un conjunto etiquetado $x_{\\text{train}},t_{\\text{train}}$\n",
        "\n",
        "La clase pasada vimos el **Perceptron**. Este clasificador nos provee una **función discriminante** $y(x,w)$ que separa a las clases. Es decir, $y$ tiene incluida una decisión sobre la clase a la que pertenece $x$.\n",
        "\n",
        "Hoy vamos a ver un enfoque **discriminativo**. Nuestro modelo busca aprender\n",
        "\n",
        "$$p(\\mathcal{C}_{k}|x)$$\n",
        "\n",
        "En este enfoque no intentamos modelar priors, verosimilitud y evidencia. Nos concentramos directamente en el **posterior**. Ahora, nuestra función $y(x,w)$ decide automaticamente la clase a la que pertenece $x$. Con el posterior a mano, tenemos que implementar la **teoría de la decisión** para asignar un valor de $t$."
      ]
    },
    {
      "cell_type": "markdown",
      "metadata": {
        "id": "uqvqdlmohMGS"
      },
      "source": [
        "Para el problema binario, sólo necesitamos modelar $p(\\mathcal{C}_{1}|x)$ ya que $p(\\mathcal{C}_{2}|x)=1-p(\\mathcal{C}_{1}|x)$. Para el problema multiclase, si necesitamos modelar las $K$ distribuciones posteriores."
      ]
    },
    {
      "cell_type": "markdown",
      "metadata": {
        "id": "PZAE1cadiwLv"
      },
      "source": [
        "## La función sigmoide"
      ]
    },
    {
      "cell_type": "markdown",
      "metadata": {
        "id": "W8nE-Sufix67"
      },
      "source": [
        "Para el caso binario, podemos hacer la siguiente cuenta\n",
        "\n",
        "$$p(\\mathcal{C}_{1}|x)=\\frac{p(x|\\mathcal{C}_{1})p(\\mathcal{C}_{1})}{p(x|\\mathcal{C}_{1})p(\\mathcal{C}_{1})+p(x|\\mathcal{C}_{2})p(\\mathcal{C}_{2})}=\\frac{1}{1+\\frac{p(x|\\mathcal{C}_{2})p(\\mathcal{C}_{2})}{p(x|\\mathcal{C}_{1})p(\\mathcal{C}_{1})}}$$\n",
        "\n",
        "Si tomamos $a=\\text{Ln }\\frac{p(x|\\mathcal{C}_{1})p(\\mathcal{C}_{1})}{p(x|\\mathcal{C}_{2})p(\\mathcal{C}_{2})}$\n",
        "\n",
        "$$p(\\mathcal{C}_{1}|x)=\\frac{1}{1+\\text{e}^{-a}}=\\sigma(a)$$\n",
        "\n",
        "$\\sigma(a)$ es la **función sigmoide**.\n",
        "\n",
        "Si inspeccionamos $a$ un poco mas, vemos que \n",
        "\n",
        "$$a=\\text{Ln }\\frac{p(x|\\mathcal{C}_{1})p(\\mathcal{C}_{1})}{p(x|\\mathcal{C}_{2})p(\\mathcal{C}_{2})}=\\text{Ln }\\frac{p(\\mathcal{C}_{1}|x)}{p(\\mathcal{C}_{2}|x)}$$\n",
        "\n",
        "es el logaritmo del cociente entre probabilidades. Entonces, utilizando la sigmoide, podemos prescindir de la verosimilitud y del prior, considerando unicamente los posteriores."
      ]
    },
    {
      "cell_type": "code",
      "metadata": {
        "colab": {
          "base_uri": "https://localhost:8080/",
          "height": 335
        },
        "id": "zTGfVIljk24t",
        "outputId": "a2ff1f4b-288d-450d-e870-aa8539cedf7e"
      },
      "source": [
        "prob_vals=np.linspace(0.01,1.0,20)\n",
        "\n",
        "a_vals=list(map(lambda prob: np.log(prob/(1-prob)),prob_vals))\n",
        "\n",
        "plt.plot(prob_vals,a_vals,color='black')\n",
        "plt.scatter(0.5,0.0,color='red')\n",
        "plt.axvline(0.5,linestyle=\"dashed\",color='red')\n",
        "plt.axhline(0.0,linestyle=\"dashed\",color='red')\n",
        "plt.xlabel(r'$p(\\mathcal{C}_{1}|x)$')\n",
        "plt.ylabel('Log odds')"
      ],
      "execution_count": null,
      "outputs": [
        {
          "output_type": "stream",
          "text": [
            "/usr/local/lib/python3.7/dist-packages/ipykernel_launcher.py:3: RuntimeWarning: divide by zero encountered in double_scalars\n",
            "  This is separate from the ipykernel package so we can avoid doing imports until\n"
          ],
          "name": "stderr"
        },
        {
          "output_type": "execute_result",
          "data": {
            "text/plain": [
              "Text(0, 0.5, 'Log odds')"
            ]
          },
          "metadata": {
            "tags": []
          },
          "execution_count": 2
        },
        {
          "output_type": "display_data",
          "data": {
            "image/png": "[encoded data removed]",
            "text/plain": [
              "<Figure size 432x288 with 1 Axes>"
            ]
          },
          "metadata": {
            "tags": [],
            "needs_background": "light"
          }
        }
      ]
    },
    {
      "cell_type": "markdown",
      "metadata": {
        "id": "Kk9-gvTVl_Iu"
      },
      "source": [
        "Vemos que el cociente de probabilidades toma valores entre $-\\infty$ y $\\infty$. Sin embargo, la función sigmoide tiene que dar un valor entre 0 y 1 ya que da el valor de una probabilidad."
      ]
    },
    {
      "cell_type": "code",
      "metadata": {
        "id": "xlosNOESl3xA"
      },
      "source": [
        "from scipy.special import expit\n",
        "plt.plot(a_vals,expit(a_vals))\n",
        "plt.scatter(0.0,expit(0.0),color='red')\n",
        "plt.axvline(x=0.0,linestyle=\"dashed\",color='red')\n",
        "plt.axhline(y=0.5,linestyle=\"dashed\",color='red')\n",
        "plt.xlabel('Log odds')\n",
        "plt.ylabel(r'$\\sigma$')"
      ],
      "execution_count": null,
      "outputs": []
    },
    {
      "cell_type": "markdown",
      "metadata": {
        "id": "9m3nt_kEnLIv"
      },
      "source": [
        "En particular, cuando el cociente de probabilidades da uno, la sigmoide da 0.5 (como tiene que dar!).\n",
        "\n",
        "La sigmoide tiene dos propiedades que nos vienen barbaro:\n",
        "\n",
        "$$\\sigma(-a)=1-\\sigma(a)$$\n",
        "\n",
        "y\n",
        "\n",
        "$$\\frac{d\\sigma}{da}=\\sigma(1-\\sigma)$$"
      ]
    },
    {
      "cell_type": "markdown",
      "metadata": {
        "id": "feQnCNN2nT7s"
      },
      "source": [
        "Para el caso de K clases, consideramos la siguiente generalización\n",
        "\n",
        "$$p(\\mathcal{C}_{k}|x)=\\frac{p(x|\\mathcal{C}_{k})p(\\mathcal{C}_{k})}{\\sum_{l=1}^{K}p(x|\\mathcal{C}_{l})p(\\mathcal{C}_{l})}=\\frac{e^{a_{k}}}{\\sum_{l=1}^{K}e^{a_{l}}}$$\n",
        "\n",
        "con $a_{k}=\\text{Ln }p(x|\\mathcal{C}_{k})p(\\mathcal{C}_{k})$\n",
        "\n",
        "Esta función se conoce como la exponencial normalizada o **softmax**."
      ]
    },
    {
      "cell_type": "markdown",
      "metadata": {
        "id": "3toSvMSvphOu"
      },
      "source": [
        "## Regresión Logística"
      ]
    },
    {
      "cell_type": "markdown",
      "metadata": {
        "id": "j9mZ1-bfgbYF"
      },
      "source": [
        "Vamos a considerar ahora la **Regresión Logística**. Para dos clases, modelamos el posterior como\n",
        "\n",
        "$$p(\\mathcal{C}_{1}|\\vec{x})=y(\\vec{x},\\vec{w})=\\sigma(\\vec{w}^{T}\\vec{\\phi}(\\vec{x}))$$\n",
        "\n",
        "Fijense como, al igual que para el Perceptron, introducimos una función de activación no lineal. Sin embargo, esta función de activación es distinta y garantiza que obtengamos un número entre 0 y 1, tal como debe ser una probabilidad. Que utilicemos la sigmoide para lograrlo esta motivado en el truco que vimos en la sección anterior pero es ahora una elección de modelado, no un resultado de hacer inferencia.\n",
        "\n",
        "Acá $\\vec{\\phi}$ vuelve a incluir $\\phi_{0}(\\vec{x})=1$."
      ]
    },
    {
      "cell_type": "markdown",
      "metadata": {
        "id": "sHe_NJ2DrBGS"
      },
      "source": [
        "## ¿Que falta especificar?"
      ]
    },
    {
      "cell_type": "markdown",
      "metadata": {
        "id": "AuCLBLecH8bx"
      },
      "source": [
        "Necesitamos decidir la función de error adecuada para el problema y definir un algoritmo para minimizar dicha función.\n",
        "\n",
        "Podemos encontrarla como hicimos para fundamentar cuadrados mínimos: escribiendo la verosimilitud.\n",
        "\n",
        "$t$ es una variable binaria, con valores exito o fracaso. \n",
        "Para una única medición, la verosimilitud $p(\\text{t}|\\vec{x},\\vec{w})$ es entonces una Bernoulli $p(t|\\mu)=\\mu^{t}(1-\\mu)^{1-t}$ con $\\mu$ la probabilidad de éxito. ¿Cuál es dicha probabilidad de éxito? Justamente es lo que queremos obtener, $p(\\mathcal{C}_{1}|\\vec{x})=y(\\vec{x},\\vec{w})$.\n",
        "\n",
        "Entonces para un dataset $\\vec{x}_{n}$, con $n=1,..,N$ la verosimilitud es\n",
        "\n",
        "$p(\\text{T}|X,\\vec{w})=\\prod_{n=1}^{N}y^{t_n}_{n}(1-y_{n})^{1-t_n}$\n",
        "\n",
        "donde $y_{n}=y(x_{n},\\vec{w})$. Tomando el el logaritmo\n",
        "\n",
        "$\\text{Ln }p(\\text{T}|\\vec{w})=\\sum_{n=1}^{N}(t_{n}\\text{Ln }y_{n}+(1-t_{n})\\text{Ln }(1-y_{n})$\n",
        "\n",
        "Aplicando un signo menos, llegamos a la función de error que nos interesa, y que vamos a usar muchisimo: la entropía cruzada o **cross-entropy**\n",
        "\n",
        "$$E(\\vec{w})=-\\sum_{n=1}^{N}(t_{n}\\text{ln}y_{n}+(1-t_{n})\\text{ln}(1-y_{n}))$$\n",
        "\n"
      ]
    },
    {
      "cell_type": "markdown",
      "metadata": {
        "id": "XJREOBbTuC_W"
      },
      "source": [
        "Dado que $t_{n}=\\{0,1\\}$, la función de error hace lo siguiente\n",
        "\n",
        "Si $t_{n}=1$, tiene en cuenta $\\text{Ln }y_{n}$. Entonces, $y_{n}$ tiene que ser cercano a 1 para minimizar el error.\n",
        "\n",
        "Si $t_{n}=0$, tiene en cuenta $\\text{Ln }1-y_{n}$. Entonces, $y_{n}$ tiene que ser cercano a 0 para minimizar el error.\n",
        "\n",
        "Es decir, hace lo que tiene que hacer. Recordemos que $y_{n}$ no es $t_{n}$ sino que es $p(t_{n}|\\vec{x}_{n},\\vec{w})$."
      ]
    },
    {
      "cell_type": "markdown",
      "metadata": {
        "id": "87z29g1Rt64w"
      },
      "source": [
        "Minimizar esta función de error es más díficil que minimizar la de cuadrados mínimos debido a la presencia de los logaritmos. Sin embargo, podemos definir un algoritmo iterativo para encontrar los $\\vec{w}$, el Iterative Reweighted Least Squares o IRLS. Este algoritmo utiliza una actualización de Newton-Ralphson:\n",
        "\n",
        "$\\vec{w}^{\\text{nuevo}}=\\vec{w}^{\\text{viejo}}-\\text{H}^{-1}\\nabla E(\\vec{w})$\n",
        "\n",
        "Donde $\\nabla E(\\vec{w})$ es el gradiente del error y $\\text{H}$ es la matriz Hessiana. Para la regresión logística, uno puede llegar a sus propias ecuaciones normales _iterativas_ aprovechando las propiedades de la sigmoide\n",
        "\n",
        "$\\vec{w}^{\\text{nuevo}}=(\\text{$\\Phi$}^{T}\\text{R}\\text{$\\Phi$})^{-1}\\text{$\\Phi$}^{T}\\text{R}\\text{z}$\n",
        "\n",
        "Con $\\Phi$ la matriz de diseño, $\\text{R}$ la matriz diagonal cuyos elementos son $y_{n}(1-y_{n})$ y $\\text{z}$ es un vector que se calcula como:\n",
        "\n",
        "$\\text{z}=\\text{$\\Phi$}\\vec{w}^{\\text{viejo}}-\\text{R}^{-1}(\\text{Y}-\\text{T})$\n",
        "\n",
        "Con $\\text{Y}$ e $\\text{T}$ los vectores de predicciones y respuestas respectivamente. Noten que los pesos entran varias veces: en la matriz $\\text{R}$, en el vector $\\text{Y}$ y explicitamente en $\\text{z}$. Es por esto que es iterativo.\n",
        "\n",
        "\n",
        "Este algoritmo también puede aplicarse al caso de regresión lineal, viendo que el algoritmo de Newton-Raphson converge a la solución cerrada en 1 paso. La diferencia acá es la función de activación sigmoide. Además, quiero enfatizar que este algoritmo es iterativo pero no es secuencial, ya que utiliza todos los datos del dataset."
      ]
    },
    {
      "cell_type": "markdown",
      "metadata": {
        "id": "bCzV616x97p6"
      },
      "source": [
        "## Asignando clases"
      ]
    },
    {
      "cell_type": "markdown",
      "metadata": {
        "id": "NHjXmwlu9918"
      },
      "source": [
        "Como mencionamos la clase pasada, y vamos a ver en detalle la clase que viene, necesitamos decidir cuando asignar una medición a una clase.\n",
        "\n",
        "Para el caso binario, podemos tomar el criterio que $x\\in\\mathcal{C}_1$ si\n",
        "\n",
        "$$p(\\mathcal{C}_{1}|x)\\geq p(\\mathcal{C}_{2}|x)$$\n",
        "\n",
        "Dado que tenemos probabilidades que suman uno, este criterio pone la **frontera de decisión** en\n",
        "\n",
        "$$p(\\mathcal{C}_{1}|x)=0.5$$\n",
        "\n",
        "Puede mostrarse que esta elección de frontera de decisión maximiza la **exactitud** o **accuracy**\n",
        "\n",
        "$$\\text{Exactitud = }\\frac{\\text{VP}+\\text{VN}}{\\text{TP}+\\text{FP}+\\text{TN}+\\text{FN}}$$\n",
        "\n",
        "Es decir, minimizamos la cantidad de **errores totales** (que no es lo mismo que minimizar la entropía cruzada).\n",
        "\n"
      ]
    },
    {
      "cell_type": "markdown",
      "metadata": {
        "id": "erweFK2OvUYB"
      },
      "source": [
        "## Ejercicio:"
      ]
    },
    {
      "cell_type": "markdown",
      "metadata": {
        "id": "jMjx9DcvviHH"
      },
      "source": [
        "Para los datos de la clase pasada:"
      ]
    },
    {
      "cell_type": "code",
      "metadata": {
        "colab": {
          "base_uri": "https://localhost:8080/"
        },
        "id": "y-j0A0Wyvkm_",
        "outputId": "8ec482be-f362-4304-c906-cd4af5b6b23a"
      },
      "source": [
        "size1 = 250\n",
        "mu1 = [0, 0]\n",
        "cov1 = [[1, 0.95],[0.95, 1]]\n",
        "\n",
        "size2 = 200\n",
        "mu2 = [-3, 0.5]\n",
        "cov2 = [[1, 0.8],[0.8, 1]]\n",
        "\n",
        "np.random.seed(20200922)\n",
        "# Sample classes\n",
        "xc1 = multivariate_normal(mean=mu1, cov=cov1).rvs(size=size1).T\n",
        "xc2 = multivariate_normal(mean=mu2, cov=cov2).rvs(size=size2).T\n",
        "\n",
        "print(xc1.shape, xc2.shape)"
      ],
      "execution_count": null,
      "outputs": [
        {
          "output_type": "stream",
          "text": [
            "(2, 250) (2, 200)\n"
          ],
          "name": "stdout"
        }
      ]
    },
    {
      "cell_type": "code",
      "metadata": {
        "colab": {
          "base_uri": "https://localhost:8080/",
          "height": 492
        },
        "id": "ydVxOLjG54cV",
        "outputId": "8c4db73f-ff64-4d03-bd2d-2fd68cf33533"
      },
      "source": [
        "fig = plt.figure(figsize=(10, 10))\n",
        "ax = fig.add_subplot(111)\n",
        "\n",
        "ax.plot(*xc1, 'ob', mfc='None', label='C1')\n",
        "ax.plot(*xc2, 'or', mfc='None', label='C2')\n",
        "\n",
        "ax.set_xlabel('$x_1$')\n",
        "ax.set_ylabel('$x_2$')\n",
        "ax.legend(loc='lower right', fontsize=16)\n",
        "ax.set_aspect('equal')"
      ],
      "execution_count": null,
      "outputs": [
        {
          "output_type": "display_data",
          "data": {
            "image/png": "[encoded data removed]",
            "text/plain": [
              "<Figure size 720x720 with 1 Axes>"
            ]
          },
          "metadata": {
            "tags": [],
            "needs_background": "light"
          }
        }
      ]
    },
    {
      "cell_type": "code",
      "metadata": {
        "id": "WjGOCK286WkK"
      },
      "source": [
        "X = np.hstack([xc1, xc2]).T\n",
        "\n",
        "tc1 = np.ones(xc1.shape[1])\n",
        "tc2 = np.zeros(xc2.shape[1])\n",
        "\n",
        "t = np.concatenate([tc1, tc2]).reshape(-1,1)"
      ],
      "execution_count": null,
      "outputs": []
    },
    {
      "cell_type": "markdown",
      "metadata": {
        "id": "2LYeqLUevpi7"
      },
      "source": [
        "Utilizemos las funciones de base $\\{1,x_1,x_2\\}$ y obtengamos los coeficientes del Regresor Logístico complentando el siguiente código:"
      ]
    },
    {
      "cell_type": "code",
      "metadata": {
        "colab": {
          "base_uri": "https://localhost:8080/"
        },
        "id": "gQA5DE7Nv5mm",
        "outputId": "0db59675-5568-4e38-890e-a9fe77739dbc"
      },
      "source": [
        "Phi=np.hstack([np.ones(len(X)).reshape(-1,1),X])# matriz de diseño\n",
        "print(Phi.shape)\n",
        "w=[np.ones(3).reshape(-1,1)]#inicializo los pesos\n",
        "n_iter = 13 #defino el numero de iteraciones con el que voy a jugar\n",
        "for i in range(n_iter):\n",
        "  y = # obtengo los ys iniciales utilizando mis pesos, la matriz de diseño y la funcion de activacion\n",
        "  #print(y.shape)\n",
        "  R=np.diag(list(map(lambda yy: yy*(1-yy), y[:,0])))#matriz R\n",
        "  #print(R.shape)\n",
        "  aux_matrix=np.linalg.solve(R,(y-t)) #paso auxiliar necesario\n",
        "  z = np.dot(Phi,w[-1])-aux_matrix #matriz z\n",
        "  aux_matrix_2 = np.dot(np.dot(Phi.T,R),Phi)\n",
        "  aux_matrix_3 = np.dot(np.dot(Phi.T,R),z)\n",
        "  w_aux=np.linalg.solve(aux_matrix_2,aux_matrix_3)\n",
        "  w.append(w_aux)"
      ],
      "execution_count": null,
      "outputs": [
        {
          "output_type": "stream",
          "text": [
            "(450, 3)\n"
          ],
          "name": "stdout"
        }
      ]
    },
    {
      "cell_type": "markdown",
      "metadata": {
        "id": "XOu1wlby9YWu"
      },
      "source": [
        "Veamos como evolucionan los coeficientes"
      ]
    },
    {
      "cell_type": "code",
      "metadata": {
        "colab": {
          "base_uri": "https://localhost:8080/"
        },
        "id": "50Uq5f8P9azr",
        "outputId": "3ce92a8e-e880-4f4f-f700-9fbf14c15290"
      },
      "source": [
        "for w_val in w:\n",
        "  print(w_val[:,0])"
      ],
      "execution_count": null,
      "outputs": [
        {
          "output_type": "stream",
          "text": [
            "[1. 1. 1.]\n",
            "[ 2.4404682   1.26402509 -1.91375055]\n",
            "[ 3.45644332  1.96420953 -2.39061501]\n",
            "[ 4.46892371  2.6750064  -3.00473299]\n",
            "[ 5.50669428  3.44641528 -3.73743344]\n",
            "[ 6.61784433  4.32475323 -4.6323189 ]\n",
            "[ 7.88477088  5.36036928 -5.7345491 ]\n",
            "[ 9.37809813  6.57649456 -7.04746665]\n",
            "[11.11205601  7.95937618 -8.54144841]\n",
            "[ 13.0623738    9.48246387 -10.18259107]\n",
            "[ 15.18849171  11.11782682 -11.93793296]\n",
            "[ 17.44722581  12.83904863 -13.7777448 ]\n",
            "[ 19.80222713  14.62424842 -15.67896909]\n",
            "[ 22.22681816  16.4571953  -17.6254591 ]\n"
          ],
          "name": "stdout"
        }
      ]
    },
    {
      "cell_type": "markdown",
      "metadata": {
        "id": "dzFD9N6UCTBw"
      },
      "source": [
        "Utilizando los coeficientes finales, calculemos la exactitud"
      ]
    },
    {
      "cell_type": "code",
      "metadata": {
        "id": "NujQHhsfMJHt"
      },
      "source": [
        "W=w[-1]\n",
        "y = expit(np.dot(Phi,W))\n",
        "y_pred=np.where(y>=0.5,1,0)"
      ],
      "execution_count": null,
      "outputs": []
    },
    {
      "cell_type": "code",
      "metadata": {
        "colab": {
          "base_uri": "https://localhost:8080/"
        },
        "id": "-9mmPuQOCX_I",
        "outputId": "db1232ec-3671-4670-8484-da28ae2a4e96"
      },
      "source": [
        "VP=np.sum(t[np.where(y_pred[:,0]==1),0])\n",
        "FP=np.sum(1-t[np.where(y_pred[:,0]==1),0])\n",
        "VN=np.sum(1-t[np.where(y_pred[:,0]==0),0])\n",
        "FN=np.sum(t[np.where(y_pred[:,0]==0),0])\n",
        "print(VP,FP,VN,FN)\n",
        "print((VP+VN)/(VP+FP+VN+FN))"
      ],
      "execution_count": null,
      "outputs": [
        {
          "output_type": "stream",
          "text": [
            "250.0 0.0 200.0 0.0\n",
            "1.0\n"
          ],
          "name": "stdout"
        }
      ]
    },
    {
      "cell_type": "markdown",
      "metadata": {
        "id": "ayzNqBOND6Kl"
      },
      "source": [
        "Por supuesto, `sklearn` nos hace la vida ligeramente más fácil..."
      ]
    },
    {
      "cell_type": "code",
      "metadata": {
        "id": "tmo_PPgwAGRJ"
      },
      "source": [
        "from sklearn.metrics import accuracy_score\n",
        "accuracy_score?"
      ],
      "execution_count": null,
      "outputs": []
    },
    {
      "cell_type": "code",
      "metadata": {
        "colab": {
          "base_uri": "https://localhost:8080/"
        },
        "id": "pnHyg3CzAL8Q",
        "outputId": "3dd6c80b-c7c8-498d-ba8a-0f38ecba26fd"
      },
      "source": [
        "print(accuracy_score(t,y_pred))"
      ],
      "execution_count": null,
      "outputs": [
        {
          "output_type": "stream",
          "text": [
            "1.0\n"
          ],
          "name": "stdout"
        }
      ]
    },
    {
      "cell_type": "markdown",
      "metadata": {
        "id": "Y8U5JTgQJsms"
      },
      "source": [
        "Otra herramienta invaluable, y que vamos a explorar la clase que viene, es la matriz de confusión. Esta matriz tiene como elemento i-j la cantidad de elementos de la clase i asignados al grupo j."
      ]
    },
    {
      "cell_type": "code",
      "metadata": {
        "id": "ntcKaN_KJ1Wk"
      },
      "source": [
        "from sklearn.metrics import confusion_matrix\n",
        "confusion_matrix?"
      ],
      "execution_count": null,
      "outputs": []
    },
    {
      "cell_type": "code",
      "metadata": {
        "colab": {
          "base_uri": "https://localhost:8080/"
        },
        "id": "r0SgLidKKF2w",
        "outputId": "f1587790-7ceb-47fe-b263-cc1d970862a4"
      },
      "source": [
        "cf=confusion_matrix(t,y_pred)\n",
        "print(cf)"
      ],
      "execution_count": null,
      "outputs": [
        {
          "output_type": "stream",
          "text": [
            "[[200   0]\n",
            " [  0 250]]\n"
          ],
          "name": "stdout"
        }
      ]
    },
    {
      "cell_type": "markdown",
      "metadata": {
        "id": "rGFqrw9RKSGO"
      },
      "source": [
        "Podemos sacar los elementos como:\n"
      ]
    },
    {
      "cell_type": "code",
      "metadata": {
        "colab": {
          "base_uri": "https://localhost:8080/"
        },
        "id": "Ig42Mg0TKajT",
        "outputId": "4af49d47-56f8-405f-de15-b7a2d82196c8"
      },
      "source": [
        "VN,FN,FP,VP = cf.ravel() \n",
        "print(VP,FP,VN,FN)"
      ],
      "execution_count": null,
      "outputs": [
        {
          "output_type": "stream",
          "text": [
            "250 0 200 0\n"
          ],
          "name": "stdout"
        }
      ]
    },
    {
      "cell_type": "markdown",
      "metadata": {
        "id": "TxAHfv7P9uAv"
      },
      "source": [
        "Y grafiquemos el resultado junto con la frontera de decisión que maximiza la exactitud"
      ]
    },
    {
      "cell_type": "code",
      "metadata": {
        "id": "SRjrWbJJd39_",
        "colab": {
          "base_uri": "https://localhost:8080/",
          "height": 584
        },
        "outputId": "b93747ac-eaf4-48d4-f3f1-97c8d5f96a75"
      },
      "source": [
        "x1=np.linspace(-6.0,3.0,100)\n",
        "x2=np.linspace(-3.0,4.0,100)\n",
        "X1toplot,X2toplot=np.meshgrid(x1,x2)\n",
        "#plt.xlim(0.0,0.2)\n",
        "#plt.ylim(0.0,0.2)\n",
        "Z=(np.asarray([expit(np.dot(W.T,[1.0,el[0],el[1]])) for el in np.c_[X1toplot.ravel(), X2toplot.ravel()]])).reshape(X1toplot.shape)\n",
        "\n",
        "fig = plt.figure(figsize=(10, 10))\n",
        "ax = fig.add_subplot(111)\n",
        "\n",
        "ax.plot(*xc1, 'ob', mfc='None', label='C1')\n",
        "ax.plot(*xc2, 'or', mfc='None', label='C2')\n",
        "contour = ax.contourf(X1toplot,X2toplot,Z,levels=[0.0,0.5,1.0],alpha=0.6)\n",
        "plt.colorbar(contour,ax=ax)\n",
        "\n",
        "ax.set_xlabel('$x_1$')\n",
        "ax.set_ylabel('$x_2$')\n",
        "ax.legend(loc='lower right', fontsize=16)\n",
        "ax.set_aspect('equal')"
      ],
      "execution_count": null,
      "outputs": [
        {
          "output_type": "display_data",
          "data": {
            "image/png": "[encoded data removed]",
            "text/plain": [
              "<Figure size 720x720 with 2 Axes>"
            ]
          },
          "metadata": {
            "tags": [],
            "needs_background": "light"
          }
        }
      ]
    },
    {
      "cell_type": "markdown",
      "metadata": {
        "id": "XPY7khRDzYno"
      },
      "source": [
        "En este codigo, podemos agregar más valores a los níveles del gráfico para tener una idea de la forma del posterior."
      ]
    },
    {
      "cell_type": "code",
      "metadata": {
        "colab": {
          "base_uri": "https://localhost:8080/",
          "height": 584
        },
        "id": "C44iWA6QzdIC",
        "outputId": "6996f098-ec84-4711-ff8f-24deb1ddfa62"
      },
      "source": [
        "x1=np.linspace(-6.0,3.0,100)\n",
        "x2=np.linspace(-3.0,4.0,100)\n",
        "X1toplot,X2toplot=np.meshgrid(x1,x2)\n",
        "#plt.xlim(0.0,0.2)\n",
        "#plt.ylim(0.0,0.2)\n",
        "Z=(np.asarray([expit(np.dot(W.T,[1.0,el[0],el[1]])) for el in np.c_[X1toplot.ravel(), X2toplot.ravel()]])).reshape(X1toplot.shape)\n",
        "\n",
        "fig = plt.figure(figsize=(10, 10))\n",
        "ax = fig.add_subplot(111)\n",
        "\n",
        "ax.plot(*xc1, 'ob', mfc='None', label='C1')\n",
        "ax.plot(*xc2, 'or', mfc='None', label='C2')\n",
        "contour = ax.contourf(X1toplot,X2toplot,Z,levels=[0.0,0.001,0.1,0.5,0.9,0.999,1.0],alpha=0.6)\n",
        "plt.colorbar(contour,ax=ax)\n",
        "\n",
        "ax.set_xlabel('$x_1$')\n",
        "ax.set_ylabel('$x_2$')\n",
        "ax.legend(loc='lower right', fontsize=16)\n",
        "ax.set_aspect('equal')"
      ],
      "execution_count": null,
      "outputs": [
        {
          "output_type": "display_data",
          "data": {
            "image/png": "[encoded data removed]",
            "text/plain": [
              "<Figure size 720x720 with 2 Axes>"
            ]
          },
          "metadata": {
            "tags": [],
            "needs_background": "light"
          }
        }
      ]
    },
    {
      "cell_type": "code",
      "metadata": {
        "colab": {
          "base_uri": "https://localhost:8080/"
        },
        "id": "11oM-9qhz9o2",
        "outputId": "3490bd1d-1f2b-47b7-ad47-e4fdd1f02cd1"
      },
      "source": [
        "np.max(Z)"
      ],
      "execution_count": null,
      "outputs": [
        {
          "output_type": "execute_result",
          "data": {
            "text/plain": [
              "1.0"
            ]
          },
          "metadata": {
            "tags": []
          },
          "execution_count": 27
        }
      ]
    },
    {
      "cell_type": "code",
      "metadata": {
        "id": "vdCWMVz60Tsv"
      },
      "source": [
        "x()"
      ],
      "execution_count": null,
      "outputs": []
    },
    {
      "cell_type": "markdown",
      "metadata": {
        "id": "xSXPj8WbCKjd"
      },
      "source": [
        "Funciona perfecto! Veamos la implementación en `sklearn`:"
      ]
    },
    {
      "cell_type": "code",
      "metadata": {
        "colab": {
          "base_uri": "https://localhost:8080/"
        },
        "id": "0zAXyXftEu80",
        "outputId": "612f79a3-2f54-4528-e4a2-99323399ba26"
      },
      "source": [
        "from sklearn.linear_model import LogisticRegression\n",
        "lr=LogisticRegression(penalty='none',fit_intercept=False)\n",
        "lr.fit(Phi,t.ravel())"
      ],
      "execution_count": null,
      "outputs": [
        {
          "output_type": "execute_result",
          "data": {
            "text/plain": [
              "LogisticRegression(C=1.0, class_weight=None, dual=False, fit_intercept=False,\n",
              "                   intercept_scaling=1, l1_ratio=None, max_iter=100,\n",
              "                   multi_class='auto', n_jobs=None, penalty='none',\n",
              "                   random_state=None, solver='lbfgs', tol=0.0001, verbose=0,\n",
              "                   warm_start=False)"
            ]
          },
          "metadata": {
            "tags": []
          },
          "execution_count": 33
        }
      ]
    },
    {
      "cell_type": "code",
      "metadata": {
        "colab": {
          "base_uri": "https://localhost:8080/"
        },
        "id": "YuiBOcfZFIrK",
        "outputId": "accd685d-e1a4-4981-ee78-2a3c3af0081b"
      },
      "source": [
        "lr.coef_"
      ],
      "execution_count": null,
      "outputs": [
        {
          "output_type": "execute_result",
          "data": {
            "text/plain": [
              "array([[ 30.52862358,  22.17520548, -24.14136318]])"
            ]
          },
          "metadata": {
            "tags": []
          },
          "execution_count": 34
        }
      ]
    },
    {
      "cell_type": "markdown",
      "metadata": {
        "id": "9Gl2vDI1Fy6l"
      },
      "source": [
        "Dado que podemos, de ahora en mas vamos a usar por defecto la penalización `l2`"
      ]
    },
    {
      "cell_type": "code",
      "metadata": {
        "colab": {
          "base_uri": "https://localhost:8080/"
        },
        "id": "4LvBwCllF4l7",
        "outputId": "0ba5cba1-534f-4c9e-ba1f-9460738f61c0"
      },
      "source": [
        "lr=LogisticRegression(penalty='l2',fit_intercept=False)\n",
        "lr.fit(Phi,t.ravel())\n",
        "print(lr.coef_)"
      ],
      "execution_count": null,
      "outputs": [
        {
          "output_type": "stream",
          "text": [
            "[[ 3.94212356  2.77424688 -2.50078979]]\n"
          ],
          "name": "stdout"
        }
      ]
    },
    {
      "cell_type": "markdown",
      "metadata": {
        "id": "sE_t7AtS0wiD"
      },
      "source": [
        "Este algoritmo viene con dos funciones muy útiles: ´predict_proba´ y `predict`. El primero devuelve el valor de la posterior para la clase éxito mientras que el segundo devuelve la asignación a una clase de acuerdo a cual probabilidad es mayor."
      ]
    },
    {
      "cell_type": "code",
      "metadata": {
        "colab": {
          "base_uri": "https://localhost:8080/"
        },
        "id": "Z38B4e8h2z9v",
        "outputId": "67281aa4-4873-4954-de9f-32382d73f9e7"
      },
      "source": [
        "print(lr.predict_proba(Phi[0].reshape(1,-1)))\n",
        "print(lr.predict(Phi[0].reshape(1,-1)))"
      ],
      "execution_count": null,
      "outputs": [
        {
          "output_type": "stream",
          "text": [
            "[[0.00330056 0.99669944]]\n",
            "[1.]\n"
          ],
          "name": "stdout"
        }
      ]
    },
    {
      "cell_type": "code",
      "metadata": {
        "colab": {
          "base_uri": "https://localhost:8080/",
          "height": 584
        },
        "id": "OPR8VX7a1IQ2",
        "outputId": "d7fbd2c1-20ed-4fb1-bdad-2cd01f94bfd3"
      },
      "source": [
        "x1=np.linspace(-6.0,3.0,100)\n",
        "x2=np.linspace(-3.0,4.0,100)\n",
        "X1toplot,X2toplot=np.meshgrid(x1,x2)\n",
        "#plt.xlim(0.0,0.2)\n",
        "#plt.ylim(0.0,0.2)\n",
        "Z=(np.asarray([lr.predict_proba(np.asarray([1.0,el[0],el[1]]).reshape(1,-1))[0,1] for el in np.c_[X1toplot.ravel(), X2toplot.ravel()]])).reshape(X1toplot.shape)\n",
        "0\n",
        "fig = plt.figure(figsize=(10, 10))\n",
        "ax = fig.add_subplot(111)\n",
        "\n",
        "ax.plot(*xc1, 'ob', mfc='None', label='C1')\n",
        "ax.plot(*xc2, 'or', mfc='None', label='C2')\n",
        "contour = ax.contourf(X1toplot,X2toplot,Z,levels=[0.0,0.001,0.1,0.3,0.5,0.7,0.9,0.999,1.0],alpha=0.6)\n",
        "plt.colorbar(contour,ax=ax)\n",
        "\n",
        "ax.set_xlabel('$x_1$')\n",
        "ax.set_ylabel('$x_2$')\n",
        "ax.legend(loc='lower right', fontsize=16)\n",
        "ax.set_aspect('equal')"
      ],
      "execution_count": null,
      "outputs": [
        {
          "output_type": "display_data",
          "data": {
            "image/png": "[encoded data removed]",
            "text/plain": [
              "<Figure size 720x720 with 2 Axes>"
            ]
          },
          "metadata": {
            "tags": [],
            "needs_background": "light"
          }
        }
      ]
    },
    {
      "cell_type": "code",
      "metadata": {
        "colab": {
          "base_uri": "https://localhost:8080/",
          "height": 584
        },
        "id": "yoETlVn_2wLR",
        "outputId": "4ad584c4-366a-4eb4-8c7b-4147b257e03f"
      },
      "source": [
        "x1=np.linspace(-6.0,3.0,100)\n",
        "x2=np.linspace(-3.0,4.0,100)\n",
        "X1toplot,X2toplot=np.meshgrid(x1,x2)\n",
        "#plt.xlim(0.0,0.2)\n",
        "#plt.ylim(0.0,0.2)\n",
        "Z=(np.asarray([lr.predict(np.asarray([1.0,el[0],el[1]]).reshape(1,-1)) for el in np.c_[X1toplot.ravel(), X2toplot.ravel()]])).reshape(X1toplot.shape)\n",
        "0\n",
        "fig = plt.figure(figsize=(10, 10))\n",
        "ax = fig.add_subplot(111)\n",
        "\n",
        "ax.plot(*xc1, 'ob', mfc='None', label='C1')\n",
        "ax.plot(*xc2, 'or', mfc='None', label='C2')\n",
        "contour = ax.contourf(X1toplot,X2toplot,Z,levels=[0.0,0.5,1.0],alpha=0.6)\n",
        "plt.colorbar(contour,ax=ax)\n",
        "\n",
        "ax.set_xlabel('$x_1$')\n",
        "ax.set_ylabel('$x_2$')\n",
        "ax.legend(loc='lower right', fontsize=16)\n",
        "ax.set_aspect('equal')"
      ],
      "execution_count": null,
      "outputs": [
        {
          "output_type": "display_data",
          "data": {
            "image/png": "[encoded data removed]",
            "text/plain": [
              "<Figure size 720x720 with 2 Axes>"
            ]
          },
          "metadata": {
            "tags": [],
            "needs_background": "light"
          }
        }
      ]
    },
    {
      "cell_type": "markdown",
      "metadata": {
        "id": "vNXZ9nGgRRcO"
      },
      "source": [
        "## Sensibilidad a outliers"
      ]
    },
    {
      "cell_type": "markdown",
      "metadata": {
        "id": "FVrq9pooPIdK"
      },
      "source": [
        "Al ser un modelo discriminativo, los outliers o anomalias son menos problematicas."
      ]
    },
    {
      "cell_type": "code",
      "metadata": {
        "id": "kgtDq49ShNol"
      },
      "source": [
        "from sklearn.linear_model import Perceptron"
      ],
      "execution_count": null,
      "outputs": []
    },
    {
      "cell_type": "markdown",
      "metadata": {
        "id": "R0h6zJmaGrkm"
      },
      "source": [
        "Si no hay anomalias"
      ]
    },
    {
      "cell_type": "code",
      "metadata": {
        "id": "KA64Ud3ORxaY",
        "colab": {
          "base_uri": "https://localhost:8080/",
          "height": 284
        },
        "outputId": "3c95f343-7193-4856-8ea3-bab1c176bb5b"
      },
      "source": [
        "np.random.seed(42)\n",
        "X1=multivariate_normal.rvs(size=100,mean=[-1.0,1.0],cov=[[0.1,0.0],[0.0, .1]])\n",
        "X2=multivariate_normal.rvs(size=100,mean=[1.0,-1.0],cov=[[0.2,0.0],[0.0, .1]])\n",
        "plt.scatter(X1[:,0],X1[:,1],color='blue')\n",
        "plt.scatter(X2[:,0],X2[:,1],color='red')\n",
        "X=np.vstack((X1,X2))\n",
        "t=np.vstack((np.ones(X1.shape[0]).reshape(-1,1),np.zeros(X2.shape[0]).reshape(-1,1))).ravel()\n",
        "perceptron=Perceptron(max_iter=100000000)\n",
        "lr=LogisticRegression()\n",
        "perceptron.fit(X,t)\n",
        "lr.fit(X,t)\n",
        "\n",
        "intercept_perceptron=perceptron.intercept_\n",
        "coeffs_perceptron=perceptron.coef_[0]\n",
        "\n",
        "intercept_lr=lr.intercept_\n",
        "coeffs_lr=lr.coef_[0]\n",
        "\n",
        "x=np.linspace(-1.5,1.5,100)\n",
        "y=np.linspace(-1.5,1.5,100)\n",
        "lda_boundary=-(intercept_perceptron+coeffs_perceptron[0]*x)/coeffs_perceptron[1]\n",
        "lr_boundary=-(intercept_lr+coeffs_lr[0]*x)/coeffs_lr[1]\n",
        "\n",
        "plt.plot(x,lda_boundary,color='magenta',label='Perceptron')\n",
        "plt.plot(x,lr_boundary,color='green',label='Regresion Logistica')\n",
        "plt.legend(loc='lower left',framealpha=0.2)"
      ],
      "execution_count": null,
      "outputs": [
        {
          "output_type": "execute_result",
          "data": {
            "text/plain": [
              "<matplotlib.legend.Legend at 0x7f40e8a38110>"
            ]
          },
          "metadata": {
            "tags": []
          },
          "execution_count": 131
        },
        {
          "output_type": "display_data",
          "data": {
            "image/png": "[encoded data removed]",
            "text/plain": [
              "<Figure size 432x288 with 1 Axes>"
            ]
          },
          "metadata": {
            "tags": [],
            "needs_background": "light"
          }
        }
      ]
    },
    {
      "cell_type": "markdown",
      "metadata": {
        "id": "MkVjn75UVrNw"
      },
      "source": [
        "Con anomalias:"
      ]
    },
    {
      "cell_type": "code",
      "metadata": {
        "id": "M7pDksknVoSL",
        "colab": {
          "base_uri": "https://localhost:8080/",
          "height": 284
        },
        "outputId": "ca9bf55f-5bb3-4283-944e-7c92d5fec159"
      },
      "source": [
        "np.random.seed(42)\n",
        "X1=multivariate_normal.rvs(size=100,mean=[-1.0,1.0],cov=[[0.1,0.0],[0.0, .1]])\n",
        "aux1=multivariate_normal.rvs(size=95,mean=[1.0,-1.0],cov=[[0.2,0.0],[0.0, .1]])\n",
        "aux2=multivariate_normal.rvs(size=5,mean=[-0.5,-0.5],cov=[[0.2,0.0],[0.0, 0.1]])\n",
        "X2=np.zeros(X1.shape)\n",
        "X2[:,0]=np.append(aux1[:,0],aux2[:,0])\n",
        "X2[:,1]=np.append(aux1[:,1],aux2[:,1])\n",
        "plt.scatter(X1[:,0],X1[:,1],color='blue')\n",
        "plt.scatter(X2[:,0],X2[:,1],color='red')\n",
        "X=np.vstack((X1,X2))\n",
        "t=np.vstack((np.ones(X1.shape[0]).reshape(-1,1),np.zeros(X2.shape[0]).reshape(-1,1))).ravel()\n",
        "perceptron=Perceptron(max_iter=100000000)\n",
        "lr=LogisticRegression()\n",
        "perceptron.fit(X,t)\n",
        "lr.fit(X,t)\n",
        "\n",
        "intercept_perceptron=perceptron.intercept_\n",
        "coeffs_perceptron=perceptron.coef_[0]\n",
        "\n",
        "intercept_lr=lr.intercept_\n",
        "coeffs_lr=lr.coef_[0]\n",
        "\n",
        "x=np.linspace(-1.5,1.5,100)\n",
        "y=np.linspace(-1.5,1.5,100)\n",
        "lda_boundary=-(intercept_perceptron+coeffs_perceptron[0]*x)/coeffs_perceptron[1]\n",
        "lr_boundary=-(intercept_lr+coeffs_lr[0]*x)/coeffs_lr[1]\n",
        "\n",
        "plt.plot(x,lda_boundary,color='magenta',label='Perceptron')\n",
        "plt.plot(x,lr_boundary,color='green',label='Regresion Logistica')\n",
        "plt.legend(loc='lower left',framealpha=0.2)"
      ],
      "execution_count": null,
      "outputs": [
        {
          "output_type": "execute_result",
          "data": {
            "text/plain": [
              "<matplotlib.legend.Legend at 0x7f40e8300190>"
            ]
          },
          "metadata": {
            "tags": []
          },
          "execution_count": 141
        },
        {
          "output_type": "display_data",
          "data": {
            "image/png": "[encoded data removed]",
            "text/plain": [
              "<Figure size 432x288 with 1 Axes>"
            ]
          },
          "metadata": {
            "tags": [],
            "needs_background": "light"
          }
        }
      ]
    },
    {
      "cell_type": "markdown",
      "metadata": {
        "id": "pK_3v1qNJi37"
      },
      "source": [
        "Para aplicar estos conceptos e integrarlos a lo que venimos viendo desde el principio de la materia, consideremos el siguiente problema:"
      ]
    },
    {
      "cell_type": "markdown",
      "metadata": {
        "id": "iQIjojJqJeqF"
      },
      "source": [
        "# Ejercicio largo"
      ]
    },
    {
      "cell_type": "code",
      "metadata": {
        "id": "N0y9KQN6JiDt"
      },
      "source": [
        "import matplotlib\n",
        "import matplotlib.pyplot as plt\n",
        "from matplotlib.colors import ListedColormap\n",
        "cmap = matplotlib.cm.get_cmap('Spectral')\n",
        "import pandas as pd\n",
        "import numpy as np\n",
        "\n",
        "from sklearn.pipeline import Pipeline\n",
        "from sklearn.preprocessing import StandardScaler\n",
        "\n",
        "from sklearn.linear_model import Perceptron, LogisticRegression\n",
        "from sklearn.metrics import confusion_matrix"
      ],
      "execution_count": null,
      "outputs": []
    },
    {
      "cell_type": "markdown",
      "metadata": {
        "id": "nFDJpFhgLF92"
      },
      "source": [
        "Supongamos que estamos obsesionados con la NBA y queremos aplicar lo que venimos bien a las estadisticas de este noble deporte. Para eso, podemos obtener los datos de una página conocida como BasketballReference utilizando algunos paquetes útiles de Python"
      ]
    },
    {
      "cell_type": "code",
      "metadata": {
        "id": "5OrIgz39K-0S"
      },
      "source": [
        "from urllib.request import urlopen\n",
        "from bs4 import BeautifulSoup"
      ],
      "execution_count": null,
      "outputs": []
    },
    {
      "cell_type": "code",
      "metadata": {
        "id": "Ba5r0ii2LZIf"
      },
      "source": [
        "url = \"https://www.basketball-reference.com/leagues/NBA_{}_advanced.html\".format(2016)# this is the HTML from the given URL\n",
        "html = urlopen(url)\n",
        "soup = BeautifulSoup(html)"
      ],
      "execution_count": null,
      "outputs": []
    },
    {
      "cell_type": "code",
      "metadata": {
        "id": "pu2uj2HNLbqg"
      },
      "source": [
        "soup.findAll('tr', limit=2)# use getText()to extract the text we need into a list\n",
        "headers = [th.getText() for th in soup.findAll('tr', limit=2)[0].findAll('th')]# exclude the first column as we will not need the ranking order from Basketball Reference for the analysis"
      ],
      "execution_count": null,
      "outputs": []
    },
    {
      "cell_type": "code",
      "metadata": {
        "id": "1cdE4LDjLfX1"
      },
      "source": [
        "headers = headers[1:]\n",
        "rows = soup.findAll('tr')[1:]\n",
        "player_stats = [[td.getText() for td in rows[i].findAll('td')] for i in range(len(rows))]\n",
        "stats = pd.DataFrame(player_stats, columns = headers)\n",
        "stats=stats.drop('\\xa0',axis=1)"
      ],
      "execution_count": null,
      "outputs": []
    },
    {
      "cell_type": "code",
      "metadata": {
        "colab": {
          "base_uri": "https://localhost:8080/"
        },
        "id": "ez6s7ZIALk_t",
        "outputId": "c7af6b39-39d7-43ff-bb74-9667ae0a9c8f"
      },
      "source": [
        "stats.info()"
      ],
      "execution_count": null,
      "outputs": [
        {
          "output_type": "stream",
          "text": [
            "<class 'pandas.core.frame.DataFrame'>\n",
            "RangeIndex: 601 entries, 0 to 600\n",
            "Data columns (total 26 columns):\n",
            " #   Column  Non-Null Count  Dtype \n",
            "---  ------  --------------  ----- \n",
            " 0   Player  578 non-null    object\n",
            " 1   Pos     578 non-null    object\n",
            " 2   Age     578 non-null    object\n",
            " 3   Tm      578 non-null    object\n",
            " 4   G       578 non-null    object\n",
            " 5   MP      578 non-null    object\n",
            " 6   PER     578 non-null    object\n",
            " 7   TS%     578 non-null    object\n",
            " 8   3PAr    578 non-null    object\n",
            " 9   FTr     578 non-null    object\n",
            " 10  ORB%    578 non-null    object\n",
            " 11  DRB%    578 non-null    object\n",
            " 12  TRB%    578 non-null    object\n",
            " 13  AST%    578 non-null    object\n",
            " 14  STL%    578 non-null    object\n",
            " 15  BLK%    578 non-null    object\n",
            " 16  TOV%    578 non-null    object\n",
            " 17  USG%    578 non-null    object\n",
            " 18  OWS     578 non-null    object\n",
            " 19  DWS     578 non-null    object\n",
            " 20  WS      578 non-null    object\n",
            " 21  WS/48   578 non-null    object\n",
            " 22  OBPM    578 non-null    object\n",
            " 23  DBPM    578 non-null    object\n",
            " 24  BPM     578 non-null    object\n",
            " 25  VORP    578 non-null    object\n",
            "dtypes: object(26)\n",
            "memory usage: 122.2+ KB\n"
          ],
          "name": "stdout"
        }
      ]
    },
    {
      "cell_type": "code",
      "metadata": {
        "colab": {
          "base_uri": "https://localhost:8080/",
          "height": 206
        },
        "id": "hPm5PCbbLn_A",
        "outputId": "09c9bdb0-1d0d-462f-c0b5-32a6e04b7218"
      },
      "source": [
        "stats.head()"
      ],
      "execution_count": null,
      "outputs": [
        {
          "output_type": "execute_result",
          "data": {
            "text/html": [
              "<div>\n",
              "<style scoped>\n",
              "    .dataframe tbody tr th:only-of-type {\n",
              "        vertical-align: middle;\n",
              "    }\n",
              "\n",
              "    .dataframe tbody tr th {\n",
              "        vertical-align: top;\n",
              "    }\n",
              "\n",
              "    .dataframe thead th {\n",
              "        text-align: right;\n",
              "    }\n",
              "</style>\n",
              "<table border=\"1\" class=\"dataframe\">\n",
              "  <thead>\n",
              "    <tr style=\"text-align: right;\">\n",
              "      <th></th>\n",
              "      <th>Player</th>\n",
              "      <th>Pos</th>\n",
              "      <th>Age</th>\n",
              "      <th>Tm</th>\n",
              "      <th>G</th>\n",
              "      <th>MP</th>\n",
              "      <th>PER</th>\n",
              "      <th>TS%</th>\n",
              "      <th>3PAr</th>\n",
              "      <th>FTr</th>\n",
              "      <th>ORB%</th>\n",
              "      <th>DRB%</th>\n",
              "      <th>TRB%</th>\n",
              "      <th>AST%</th>\n",
              "      <th>STL%</th>\n",
              "      <th>BLK%</th>\n",
              "      <th>TOV%</th>\n",
              "      <th>USG%</th>\n",
              "      <th>OWS</th>\n",
              "      <th>DWS</th>\n",
              "      <th>WS</th>\n",
              "      <th>WS/48</th>\n",
              "      <th>OBPM</th>\n",
              "      <th>DBPM</th>\n",
              "      <th>BPM</th>\n",
              "      <th>VORP</th>\n",
              "    </tr>\n",
              "  </thead>\n",
              "  <tbody>\n",
              "    <tr>\n",
              "      <th>0</th>\n",
              "      <td>Quincy Acy</td>\n",
              "      <td>PF</td>\n",
              "      <td>25</td>\n",
              "      <td>SAC</td>\n",
              "      <td>59</td>\n",
              "      <td>876</td>\n",
              "      <td>14.7</td>\n",
              "      <td>.629</td>\n",
              "      <td>.229</td>\n",
              "      <td>.318</td>\n",
              "      <td>8.1</td>\n",
              "      <td>15.1</td>\n",
              "      <td>11.6</td>\n",
              "      <td>4.4</td>\n",
              "      <td>1.6</td>\n",
              "      <td>2.2</td>\n",
              "      <td>10.0</td>\n",
              "      <td>13.1</td>\n",
              "      <td>1.8</td>\n",
              "      <td>0.7</td>\n",
              "      <td>2.5</td>\n",
              "      <td>.137</td>\n",
              "      <td>-0.2</td>\n",
              "      <td>0.2</td>\n",
              "      <td>-0.1</td>\n",
              "      <td>0.4</td>\n",
              "    </tr>\n",
              "    <tr>\n",
              "      <th>1</th>\n",
              "      <td>Jordan Adams</td>\n",
              "      <td>SG</td>\n",
              "      <td>21</td>\n",
              "      <td>MEM</td>\n",
              "      <td>2</td>\n",
              "      <td>15</td>\n",
              "      <td>17.3</td>\n",
              "      <td>.427</td>\n",
              "      <td>.167</td>\n",
              "      <td>.833</td>\n",
              "      <td>0.0</td>\n",
              "      <td>15.9</td>\n",
              "      <td>7.6</td>\n",
              "      <td>31.9</td>\n",
              "      <td>10.3</td>\n",
              "      <td>0.0</td>\n",
              "      <td>19.6</td>\n",
              "      <td>30.5</td>\n",
              "      <td>0.0</td>\n",
              "      <td>0.0</td>\n",
              "      <td>0.0</td>\n",
              "      <td>.015</td>\n",
              "      <td>-2.5</td>\n",
              "      <td>9.4</td>\n",
              "      <td>6.9</td>\n",
              "      <td>0.0</td>\n",
              "    </tr>\n",
              "    <tr>\n",
              "      <th>2</th>\n",
              "      <td>Steven Adams</td>\n",
              "      <td>C</td>\n",
              "      <td>22</td>\n",
              "      <td>OKC</td>\n",
              "      <td>80</td>\n",
              "      <td>2014</td>\n",
              "      <td>15.5</td>\n",
              "      <td>.621</td>\n",
              "      <td>.000</td>\n",
              "      <td>.460</td>\n",
              "      <td>12.5</td>\n",
              "      <td>16.1</td>\n",
              "      <td>14.4</td>\n",
              "      <td>4.3</td>\n",
              "      <td>1.0</td>\n",
              "      <td>3.3</td>\n",
              "      <td>14.1</td>\n",
              "      <td>12.6</td>\n",
              "      <td>4.2</td>\n",
              "      <td>2.3</td>\n",
              "      <td>6.5</td>\n",
              "      <td>.155</td>\n",
              "      <td>0.0</td>\n",
              "      <td>0.2</td>\n",
              "      <td>0.2</td>\n",
              "      <td>1.1</td>\n",
              "    </tr>\n",
              "    <tr>\n",
              "      <th>3</th>\n",
              "      <td>Arron Afflalo</td>\n",
              "      <td>SG</td>\n",
              "      <td>30</td>\n",
              "      <td>NYK</td>\n",
              "      <td>71</td>\n",
              "      <td>2371</td>\n",
              "      <td>10.9</td>\n",
              "      <td>.531</td>\n",
              "      <td>.298</td>\n",
              "      <td>.164</td>\n",
              "      <td>1.1</td>\n",
              "      <td>11.0</td>\n",
              "      <td>6.1</td>\n",
              "      <td>9.9</td>\n",
              "      <td>0.5</td>\n",
              "      <td>0.3</td>\n",
              "      <td>8.7</td>\n",
              "      <td>17.9</td>\n",
              "      <td>1.8</td>\n",
              "      <td>0.9</td>\n",
              "      <td>2.7</td>\n",
              "      <td>.055</td>\n",
              "      <td>-1.3</td>\n",
              "      <td>-1.6</td>\n",
              "      <td>-2.9</td>\n",
              "      <td>-0.5</td>\n",
              "    </tr>\n",
              "    <tr>\n",
              "      <th>4</th>\n",
              "      <td>Alexis Ajinça</td>\n",
              "      <td>C</td>\n",
              "      <td>27</td>\n",
              "      <td>NOP</td>\n",
              "      <td>59</td>\n",
              "      <td>861</td>\n",
              "      <td>13.8</td>\n",
              "      <td>.514</td>\n",
              "      <td>.003</td>\n",
              "      <td>.197</td>\n",
              "      <td>9.3</td>\n",
              "      <td>25.9</td>\n",
              "      <td>17.3</td>\n",
              "      <td>5.8</td>\n",
              "      <td>1.1</td>\n",
              "      <td>3.4</td>\n",
              "      <td>13.6</td>\n",
              "      <td>20.4</td>\n",
              "      <td>0.2</td>\n",
              "      <td>0.9</td>\n",
              "      <td>1.0</td>\n",
              "      <td>.058</td>\n",
              "      <td>-3.4</td>\n",
              "      <td>-0.6</td>\n",
              "      <td>-4.0</td>\n",
              "      <td>-0.4</td>\n",
              "    </tr>\n",
              "  </tbody>\n",
              "</table>\n",
              "</div>"
            ],
            "text/plain": [
              "          Player Pos Age   Tm   G    MP  ...   WS WS/48  OBPM  DBPM   BPM  VORP\n",
              "0     Quincy Acy  PF  25  SAC  59   876  ...  2.5  .137  -0.2   0.2  -0.1   0.4\n",
              "1   Jordan Adams  SG  21  MEM   2    15  ...  0.0  .015  -2.5   9.4   6.9   0.0\n",
              "2   Steven Adams   C  22  OKC  80  2014  ...  6.5  .155   0.0   0.2   0.2   1.1\n",
              "3  Arron Afflalo  SG  30  NYK  71  2371  ...  2.7  .055  -1.3  -1.6  -2.9  -0.5\n",
              "4  Alexis Ajinça   C  27  NOP  59   861  ...  1.0  .058  -3.4  -0.6  -4.0  -0.4\n",
              "\n",
              "[5 rows x 26 columns]"
            ]
          },
          "metadata": {
            "tags": []
          },
          "execution_count": 8
        }
      ]
    },
    {
      "cell_type": "markdown",
      "metadata": {
        "id": "TOaC2UduLqo8"
      },
      "source": [
        "Tenemos entonces una tabla con los jugadores que jugaron durante la temporada 2016 en la NBA.\n",
        "\n",
        "Cuando uno trabaja con datos reales, suele tener que limpiarlos. Por ejemplo, acá ocurre que hay jugadores que jugaron para muchos equipos en una temporada. Esto se evidencia que tienen una entrada adicional que cuenta todos sus números bajo el equipo 'Tot'."
      ]
    },
    {
      "cell_type": "code",
      "metadata": {
        "colab": {
          "base_uri": "https://localhost:8080/"
        },
        "id": "Lh3X2auiLovS",
        "outputId": "a3cdf25d-39d6-4bb9-d30b-022a29ec8d25"
      },
      "source": [
        "stats[stats['Tm']=='TOT']['Player']"
      ],
      "execution_count": null,
      "outputs": [
        {
          "output_type": "execute_result",
          "data": {
            "text/plain": [
              "12       Chris Andersen\n",
              "29        D.J. Augustin\n",
              "73       Chase Budinger\n",
              "93       Mario Chalmers\n",
              "107        Bryce Cotton\n",
              "117    Jared Cunningham\n",
              "148         James Ennis\n",
              "163          Randy Foye\n",
              "166         Tim Frazier\n",
              "169     Jimmer Fredette\n",
              "172       Channing Frye\n",
              "197         Erick Green\n",
              "202          Jeff Green\n",
              "207       P.J. Hairston\n",
              "221       Tobias Harris\n",
              "233        J.J. Hickson\n",
              "241        Kirk Hinrich\n",
              "246      Justin Holiday\n",
              "249        Ryan Hollins\n",
              "259      Kris Humphries\n",
              "266      Ersan İlyasova\n",
              "279        John Jenkins\n",
              "282    Brandon Jennings\n",
              "289         Joe Johnson\n",
              "292     Orlando Johnson\n",
              "313     Sean Kilpatrick\n",
              "324           Ty Lawson\n",
              "327        Courtney Lee\n",
              "331           David Lee\n",
              "347        Shelvin Mack\n",
              "356        Kevin Martin\n",
              "363        Ray McCallum\n",
              "374        Jordan McRae\n",
              "384        Andre Miller\n",
              "398     Markieff Morris\n",
              "418         Steve Novak\n",
              "454        Phil Pressey\n",
              "467       Brian Roberts\n",
              "483      JaKarr Sampson\n",
              "500           Ish Smith\n",
              "505          Josh Smith\n",
              "513    Lance Stephenson\n",
              "516      Alex Stepheson\n",
              "519      Jarnell Stokes\n",
              "534      Jason Thompson\n",
              "539     Marcus Thornton\n",
              "548          Beno Udrih\n",
              "552    Anderson Varejão\n",
              "568       Briante Weber\n",
              "571         Sonny Weems\n",
              "Name: Player, dtype: object"
            ]
          },
          "metadata": {
            "tags": []
          },
          "execution_count": 9
        }
      ]
    },
    {
      "cell_type": "markdown",
      "metadata": {
        "id": "EGUpxjoBMIhq"
      },
      "source": [
        "Además, todo a partir de OWS son estadisticas que me hablan de \"cuan bueno es un jugador\", y estan obtenidas con ciertas combinaciones de las previas."
      ]
    },
    {
      "cell_type": "markdown",
      "metadata": {
        "id": "oxQkaKE8MMaR"
      },
      "source": [
        "Ahora viene la definición del problema. Se les ocurren problemas interesantes de regresión y de clasificación?"
      ]
    },
    {
      "cell_type": "markdown",
      "metadata": {
        "id": "F8ddk1r7MnWq"
      },
      "source": [
        "Yo quiero saber cuan bien debe jugar un jugador para clasificar a la postemporada. Buscando un poco, los equipos posibles son:"
      ]
    },
    {
      "cell_type": "code",
      "metadata": {
        "colab": {
          "base_uri": "https://localhost:8080/"
        },
        "id": "BPnvqJ-UONMU",
        "outputId": "bc67659c-a43c-47ee-f520-3e007c459f31"
      },
      "source": [
        "teams=stats['Tm'].unique()\n",
        "teams"
      ],
      "execution_count": null,
      "outputs": [
        {
          "output_type": "execute_result",
          "data": {
            "text/plain": [
              "array(['SAC', 'MEM', 'OKC', 'NYK', 'NOP', 'LAC', 'SAS', 'POR', 'IND',\n",
              "       'TOT', 'MIA', 'WAS', 'DAL', 'MIL', None, 'DET', 'ORL', 'HOU',\n",
              "       'DEN', 'CHI', 'GSW', 'BRK', 'LAL', 'CHO', 'ATL', 'TOR', 'MIN',\n",
              "       'PHO', 'UTA', 'BOS', 'PHI', 'CLE'], dtype=object)"
            ]
          },
          "metadata": {
            "tags": []
          },
          "execution_count": 10
        }
      ]
    },
    {
      "cell_type": "markdown",
      "metadata": {
        "id": "Z7uemuahOOfP"
      },
      "source": [
        "Y viendo en wikipedia, los equipos pueden separarse en:"
      ]
    },
    {
      "cell_type": "code",
      "metadata": {
        "colab": {
          "base_uri": "https://localhost:8080/"
        },
        "id": "R5Cz8vWWORiH",
        "outputId": "d34c4595-59f6-482b-c7c7-b9247414abd2"
      },
      "source": [
        "no_playoff_west=np.asarray(['SAC','DEN','LAL','MIN','PHO','UTA','NOP'])\n",
        "print(len(no_playoff_west))\n",
        "playoff_west=np.asarray(['GSW','SAS','OKC','LAC','POR','DAL','MEM','HOU'])\n",
        "print(len(playoff_west))\n",
        "\n",
        "no_playoff_east=np.asarray(['CHI','WAS','ORL','MIL','NYK','BRK','PHI'])\n",
        "print(len(no_playoff_east))\n",
        "playoff_east=np.asarray(['CLE','TOR','MIA','ATL','BOS','CHO','IND','DET'])\n",
        "print(len(playoff_east))"
      ],
      "execution_count": null,
      "outputs": [
        {
          "output_type": "stream",
          "text": [
            "7\n",
            "8\n",
            "7\n",
            "8\n"
          ],
          "name": "stdout"
        }
      ]
    },
    {
      "cell_type": "markdown",
      "metadata": {
        "id": "nJhVfYYsN3Ax"
      },
      "source": [
        "## Preprocesado"
      ]
    },
    {
      "cell_type": "markdown",
      "metadata": {
        "id": "Hovir5eWN67C"
      },
      "source": [
        "En principio, yo tengo mi dataframe y ahora lo unico que voy a hacer es separar en Train y Test y luego asignarles las clases. En particular, voy considerar jugadores que jugaron cierta cantidad de los partidos al menos cierta cantidad de minutos y que participaron mucho del partido."
      ]
    },
    {
      "cell_type": "code",
      "metadata": {
        "colab": {
          "base_uri": "https://localhost:8080/"
        },
        "id": "3l6MyR2JObZn",
        "outputId": "eceac9c0-f088-42f1-f23a-3dab02320331"
      },
      "source": [
        "stats['Pos'].value_counts()"
      ],
      "execution_count": null,
      "outputs": [
        {
          "output_type": "execute_result",
          "data": {
            "text/plain": [
              "PG       129\n",
              "PF       122\n",
              "SG       116\n",
              "SF       105\n",
              "C        104\n",
              "PF-C       1\n",
              "SG-SF      1\n",
              "Name: Pos, dtype: int64"
            ]
          },
          "metadata": {
            "tags": []
          },
          "execution_count": 14
        }
      ]
    },
    {
      "cell_type": "code",
      "metadata": {
        "id": "gXWjVj9tN98f"
      },
      "source": [
        "stats_now=stats.copy()\n",
        "stats_now=stats_now[stats_now['Pos'].isin(['SG','PF','PG','C','SF'])]\n",
        "stats_now[\"G\"]=pd.to_numeric(stats_now[\"G\"])\n",
        "stats_now[\"MP\"]=pd.to_numeric(stats_now[\"MP\"])\n",
        "stats_now[\"USG%\"]=pd.to_numeric(stats_now[\"USG%\"])\n",
        "stats_now=stats_now[stats_now[\"USG%\"]>stats_now[\"USG%\"].mean()]\n",
        "stats_now[\"MPperG\"]=stats_now[\"MP\"]/stats_now[\"G\"]\n",
        "stats_now=stats_now[stats_now[\"G\"]>=20]\n",
        "stats_now=stats_now[stats_now[\"MPperG\"]>=25]\n",
        "stats_now=stats_now[stats_now[\"Tm\"]!=\"TOT\"]"
      ],
      "execution_count": null,
      "outputs": []
    },
    {
      "cell_type": "code",
      "metadata": {
        "colab": {
          "base_uri": "https://localhost:8080/"
        },
        "id": "SyIQU_ZuOCC1",
        "outputId": "45042236-8bf5-413c-f83d-d9ed20580087"
      },
      "source": [
        "stats_now=stats_now.replace(['PG','SG','SF','PF','C'],[1,2,3,4,5])\n",
        "stats_now['Pos'].value_counts()"
      ],
      "execution_count": null,
      "outputs": [
        {
          "output_type": "execute_result",
          "data": {
            "text/plain": [
              "1    29\n",
              "2    26\n",
              "4    19\n",
              "3    19\n",
              "5    15\n",
              "Name: Pos, dtype: int64"
            ]
          },
          "metadata": {
            "tags": []
          },
          "execution_count": 18
        }
      ]
    },
    {
      "cell_type": "markdown",
      "metadata": {
        "id": "QQ7dJNikOXFJ"
      },
      "source": [
        "Generemos los labels. Vamos a aplicar el siguiente codigo:\n",
        "\n",
        "0: no playoff oeste 1: playoff oeste 2: no playoff este 3: playoff este"
      ]
    },
    {
      "cell_type": "code",
      "metadata": {
        "colab": {
          "base_uri": "https://localhost:8080/",
          "height": 404
        },
        "id": "EJmThuACOFpb",
        "outputId": "debcaa18-4f72-4afc-b65e-80be6c057ad0"
      },
      "source": [
        "stats_now['label']=stats_now[\"Tm\"]\n",
        "stats_now['label']=stats_now['label'].replace(no_playoff_west,0)\n",
        "stats_now['label']=stats_now['label'].replace(playoff_west,1)\n",
        "stats_now['label']=stats_now['label'].replace(no_playoff_east,2)\n",
        "stats_now['label']=stats_now['label'].replace(playoff_east,3)\n",
        "print(stats_now['label'].value_counts())\n",
        "plt.hist(stats_now['Tm'].value_counts())"
      ],
      "execution_count": null,
      "outputs": [
        {
          "output_type": "stream",
          "text": [
            "0    30\n",
            "2    28\n",
            "3    26\n",
            "1    24\n",
            "Name: label, dtype: int64\n"
          ],
          "name": "stdout"
        },
        {
          "output_type": "execute_result",
          "data": {
            "text/plain": [
              "(array([ 1.,  0.,  4.,  0., 10.,  0.,  7.,  0.,  7.,  1.]),\n",
              " array([1. , 1.5, 2. , 2.5, 3. , 3.5, 4. , 4.5, 5. , 5.5, 6. ]),\n",
              " <a list of 10 Patch objects>)"
            ]
          },
          "metadata": {
            "tags": []
          },
          "execution_count": 17
        },
        {
          "output_type": "display_data",
          "data": {
            "image/png": "[encoded data removed]",
            "text/plain": [
              "<Figure size 432x288 with 1 Axes>"
            ]
          },
          "metadata": {
            "tags": [],
            "needs_background": "light"
          }
        }
      ]
    },
    {
      "cell_type": "markdown",
      "metadata": {
        "id": "RyK56ehGOlqT"
      },
      "source": [
        "Bien, ahora definamos las caracteristicas que vamos a utilizar. Para visualizar facilmente vamos a elegir unicamente dos: PER y USG%. Guardamos ademas el nombre, la posicion y el label."
      ]
    },
    {
      "cell_type": "code",
      "metadata": {
        "id": "2b6MgJGqOi8W"
      },
      "source": [
        "stats_now=stats_now[['Player','Pos','PER','USG%','label']]\n",
        "stats_now['PER']=pd.to_numeric(stats_now['PER'])\n",
        "stats_now['USG%']=pd.to_numeric(stats_now['USG%'])"
      ],
      "execution_count": null,
      "outputs": []
    },
    {
      "cell_type": "code",
      "metadata": {
        "colab": {
          "base_uri": "https://localhost:8080/"
        },
        "id": "EVf8zHFvOzTl",
        "outputId": "17ff12ba-79dc-428e-d82e-53e80b3f932d"
      },
      "source": [
        "print(stats_now.iloc[np.where(stats_now[\"Player\"]==\"LeBron James\")])\n",
        "print(stats_now.iloc[np.where(stats_now[\"Player\"]==\"Will Barton\")])"
      ],
      "execution_count": null,
      "outputs": [
        {
          "output_type": "stream",
          "text": [
            "           Player  Pos   PER  USG%  label\n",
            "275  LeBron James    3  27.5  31.4      3\n",
            "         Player  Pos   PER  USG%  label\n",
            "40  Will Barton    2  16.0  23.0      0\n"
          ],
          "name": "stdout"
        }
      ]
    },
    {
      "cell_type": "markdown",
      "metadata": {
        "id": "fTACJvlFO46G"
      },
      "source": [
        "Veamos si hay jugadores repetidos:"
      ]
    },
    {
      "cell_type": "code",
      "metadata": {
        "colab": {
          "base_uri": "https://localhost:8080/",
          "height": 526
        },
        "id": "3Y4LNrcwO1w-",
        "outputId": "2397dc0e-0cd9-4ffc-80f0-6e289b6ff886"
      },
      "source": [
        "print(stats_now['Player'].value_counts())\n",
        "plt.hist(stats_now['Player'].value_counts())"
      ],
      "execution_count": null,
      "outputs": [
        {
          "output_type": "stream",
          "text": [
            "Tobias Harris        2\n",
            "Jeff Green           2\n",
            "Jonas Valančiūnas    1\n",
            "Evan Fournier        1\n",
            "DeMarcus Cousins     1\n",
            "                    ..\n",
            "Chris Bosh           1\n",
            "Tyreke Evans         1\n",
            "Marc Gasol           1\n",
            "Jordan Clarkson      1\n",
            "Alec Burks           1\n",
            "Name: Player, Length: 106, dtype: int64\n"
          ],
          "name": "stdout"
        },
        {
          "output_type": "execute_result",
          "data": {
            "text/plain": [
              "(array([104.,   0.,   0.,   0.,   0.,   0.,   0.,   0.,   0.,   2.]),\n",
              " array([1. , 1.1, 1.2, 1.3, 1.4, 1.5, 1.6, 1.7, 1.8, 1.9, 2. ]),\n",
              " <a list of 10 Patch objects>)"
            ]
          },
          "metadata": {
            "tags": []
          },
          "execution_count": 18
        },
        {
          "output_type": "display_data",
          "data": {
            "image/png": "[encoded data removed]",
            "text/plain": [
              "<Figure size 432x288 with 1 Axes>"
            ]
          },
          "metadata": {
            "tags": [],
            "needs_background": "light"
          }
        }
      ]
    },
    {
      "cell_type": "markdown",
      "metadata": {
        "id": "8g1fBsPdPGQC"
      },
      "source": [
        "Los hay pero son pocos por lo que no nos vamos a gastar en corregirlo.\n",
        "\n",
        "Dividamos en train y test. Como cada posicion es un mundo, vamos a estratificar para que train y test tengan mismas proporciones de cada posición"
      ]
    },
    {
      "cell_type": "code",
      "metadata": {
        "id": "rfisvK00O8ww"
      },
      "source": [
        "from sklearn.model_selection import StratifiedShuffleSplit\n",
        "split = StratifiedShuffleSplit(n_splits=1, test_size=0.2, random_state=445543)\n",
        "for train_index, test_index in split.split(stats_now, stats_now[\"Pos\"]):\n",
        "    strat_train_set = stats_now.iloc[train_index]\n",
        "    strat_test_set = stats_now.iloc[test_index]"
      ],
      "execution_count": null,
      "outputs": []
    },
    {
      "cell_type": "code",
      "metadata": {
        "id": "EAwdaW5LPObe"
      },
      "source": [
        "stats_train = strat_train_set.drop([\"Player\",\"Pos\",\"label\"], axis=1) # drop labels for training set\n",
        "stats_train_labels = strat_train_set[\"label\"].copy()\n",
        "stats_test = strat_test_set.drop([\"Player\",\"Pos\",\"label\"], axis=1) # drop labels for training set\n",
        "stats_test_labels = strat_test_set[\"label\"].copy()"
      ],
      "execution_count": null,
      "outputs": []
    },
    {
      "cell_type": "markdown",
      "metadata": {
        "id": "7nlMZTtvSGe-"
      },
      "source": [
        "Veamos como se ven los datos"
      ]
    },
    {
      "cell_type": "code",
      "metadata": {
        "colab": {
          "base_uri": "https://localhost:8080/",
          "height": 1000
        },
        "id": "iuiio4MEP3hV",
        "outputId": "d3b350dd-f133-462c-c86f-1129b2e47d0c"
      },
      "source": [
        "plt.hist(stats_train['PER'],bins=10)\n",
        "plt.xlabel(r'PER')\n",
        "plt.show()\n",
        "plt.hist(stats_train['USG%'],bins=10)\n",
        "plt.xlabel(r'USG%')\n",
        "plt.show()\n",
        "plt.scatter(stats_train['PER'][stats_train_labels==0],stats_train['USG%'][stats_train_labels==0], c='red', label=\"No Playoff Oeste\")\n",
        "plt.scatter(stats_train['PER'][stats_train_labels==1],stats_train['USG%'][stats_train_labels==1], c='blue', label=\"Playoff Oeste\")\n",
        "plt.legend(loc='upper left',framealpha =0.1)\n",
        "plt.xlim(9.0,31.0)\n",
        "plt.ylim(15.0,35.0)\n",
        "plt.xlabel(r'PER')\n",
        "plt.ylabel('USG%')\n",
        "plt.show()\n",
        "plt.scatter(stats_train['PER'][stats_train_labels==2],stats_train['USG%'][stats_train_labels==2], c='orange', label=\"No Playoff Este\")\n",
        "plt.scatter(stats_train['PER'][stats_train_labels==3],stats_train['USG%'][stats_train_labels==3], c='green', label=\"Playoff Este\")\n",
        "plt.legend(loc='upper left',framealpha =0.1)\n",
        "plt.xlabel(r'PER')\n",
        "plt.ylabel('USG%')\n",
        "plt.xlim(9.0,31.0)\n",
        "plt.ylim(15.0,35.0)"
      ],
      "execution_count": null,
      "outputs": [
        {
          "output_type": "display_data",
          "data": {
            "image/png": "[encoded data removed]",
            "text/plain": [
              "<Figure size 432x288 with 1 Axes>"
            ]
          },
          "metadata": {
            "tags": [],
            "needs_background": "light"
          }
        },
        {
          "output_type": "display_data",
          "data": {
            "image/png": "[encoded data removed]",
            "text/plain": [
              "<Figure size 432x288 with 1 Axes>"
            ]
          },
          "metadata": {
            "tags": [],
            "needs_background": "light"
          }
        },
        {
          "output_type": "display_data",
          "data": {
            "image/png": "[encoded data removed]",
            "text/plain": [
              "<Figure size 432x288 with 1 Axes>"
            ]
          },
          "metadata": {
            "tags": [],
            "needs_background": "light"
          }
        },
        {
          "output_type": "execute_result",
          "data": {
            "text/plain": [
              "(15.0, 35.0)"
            ]
          },
          "metadata": {
            "tags": []
          },
          "execution_count": 21
        },
        {
          "output_type": "display_data",
          "data": {
            "image/png": "[encoded data removed]",
            "text/plain": [
              "<Figure size 432x288 with 1 Axes>"
            ]
          },
          "metadata": {
            "tags": [],
            "needs_background": "light"
          }
        }
      ]
    },
    {
      "cell_type": "markdown",
      "metadata": {
        "id": "WaUH8KWNSQCX"
      },
      "source": [
        "Viendo los datos, que esperamos que pase con nuestro clasificador?"
      ]
    },
    {
      "cell_type": "markdown",
      "metadata": {
        "id": "jOjbTTd0SWj5"
      },
      "source": [
        "El ejercico es el siguiente:\n",
        "\n",
        "Entrenen tanto un Perceptron como un Regresor Logistico para Este y para Oeste por separados. Para cada clasificador y cada conferencia obtengan la matriz de confusion, la exactitud e impriman dos figuras: en la primera grafiquen la función de decision / posterior utilizando los comandos `decision_function`/`predict_proba` y en la segunda grafiquen la frontera de decisión y las asignaciones utilizando el comando `predict`."
      ]
    },
    {
      "cell_type": "code",
      "metadata": {
        "id": "qlzTx3l2SF_L"
      },
      "source": [
        ""
      ],
      "execution_count": null,
      "outputs": []
    },
    {
      "cell_type": "markdown",
      "metadata": {
        "id": "MmWev-_qTEK8"
      },
      "source": [
        "## Y si quiero mas inputs?\n",
        "\n",
        "Bueno, en principio puedo elegir mas inputs"
      ]
    },
    {
      "cell_type": "code",
      "metadata": {
        "id": "G4KHUyJKTMwh"
      },
      "source": [
        "stats_now=stats_now[['Player','Pos','PER','USG%','TS%','3PAr','FTr','ORB%','DRB%','TRB%','AST%','STL%','BLK%','TOV%','label']]\n",
        "for e in ['PER','USG%','TS%','3PAr','FTr','ORB%','DRB%','TRB%','AST%','STL%','BLK%','TOV%']:\n",
        "  stats_now[e]=pd.to_numeric(stats_now[e])"
      ],
      "execution_count": null,
      "outputs": []
    },
    {
      "cell_type": "code",
      "metadata": {
        "id": "hfqI1QvmUO3U"
      },
      "source": [
        "from sklearn.model_selection import StratifiedShuffleSplit\n",
        "split = StratifiedShuffleSplit(n_splits=1, test_size=0.2, random_state=445543)\n",
        "for train_index, test_index in split.split(stats_now, stats_now[\"Pos\"]):\n",
        "    strat_train_set = stats_now.iloc[train_index]\n",
        "    strat_test_set = stats_now.iloc[test_index]"
      ],
      "execution_count": null,
      "outputs": []
    },
    {
      "cell_type": "code",
      "metadata": {
        "id": "zHl3IEovUVlT"
      },
      "source": [
        "stats_train = strat_train_set.drop([\"Player\",\"Pos\",\"label\"], axis=1) # drop labels for training set\n",
        "stats_train_labels = strat_train_set[\"label\"].copy()\n",
        "stats_test = strat_test_set.drop([\"Player\",\"Pos\",\"label\"], axis=1) # drop labels for training set\n",
        "stats_test_labels = strat_test_set[\"label\"].copy()"
      ],
      "execution_count": null,
      "outputs": []
    },
    {
      "cell_type": "code",
      "metadata": {
        "id": "nNIYP2CAUhNV",
        "colab": {
          "base_uri": "https://localhost:8080/"
        },
        "outputId": "862b2b26-ca2e-4d51-db3e-1de6d93722c8"
      },
      "source": [
        "X_este=np.asarray(stats_train[(stats_train_labels==2) | (stats_train_labels==3)])\n",
        "print(X_este.shape)\n",
        "y_este=np.asarray(strat_train_set[(stats_train_labels==2) | (stats_train_labels==3)][[\"label\"]])\n",
        "y_este=np.where(y_este==2,0,1)[:,0]\n",
        "print(y_este.shape)\n",
        "\n",
        "X_oeste=np.asarray(stats_train[(stats_train_labels==0) | (stats_train_labels==1)])\n",
        "print(X_oeste.shape)\n",
        "y_oeste=np.asarray(strat_train_set[(stats_train_labels==0) | (stats_train_labels==1)][[\"label\"]])\n",
        "print(y_oeste.shape)"
      ],
      "execution_count": null,
      "outputs": [
        {
          "output_type": "stream",
          "text": [
            "(41, 12)\n",
            "(41,)\n",
            "(45, 12)\n",
            "(45, 1)\n"
          ],
          "name": "stdout"
        }
      ]
    },
    {
      "cell_type": "code",
      "metadata": {
        "id": "PlvAQykrUszb",
        "colab": {
          "base_uri": "https://localhost:8080/"
        },
        "outputId": "ed6da917-0e9b-40a2-bbbf-05f8ff672b3a"
      },
      "source": [
        "scaler=StandardScaler()\n",
        "X_este_tr=scaler.fit_transform(X_este)\n",
        "lr_este_multi=LogisticRegression()\n",
        "lr_este_multi.fit(X_este_tr,y_este)"
      ],
      "execution_count": null,
      "outputs": [
        {
          "output_type": "execute_result",
          "data": {
            "text/plain": [
              "LogisticRegression(C=1.0, class_weight=None, dual=False, fit_intercept=True,\n",
              "                   intercept_scaling=1, l1_ratio=None, max_iter=100,\n",
              "                   multi_class='auto', n_jobs=None, penalty='l2',\n",
              "                   random_state=None, solver='lbfgs', tol=0.0001, verbose=0,\n",
              "                   warm_start=False)"
            ]
          },
          "metadata": {
            "tags": []
          },
          "execution_count": 24
        }
      ]
    },
    {
      "cell_type": "code",
      "metadata": {
        "id": "j-xt6FazVAtu",
        "colab": {
          "base_uri": "https://localhost:8080/"
        },
        "outputId": "5c31877a-2b63-4a07-e316-22ee564e943b"
      },
      "source": [
        "from sklearn.metrics import confusion_matrix\n",
        "cf_este=confusion_matrix(y_este,lr_este_multi.predict(X_este_tr))\n",
        "print(cf_este)\n",
        "tn, fp, fn, tp = cf_este.ravel()\n",
        "print(\"Sensitividad:%8.3f\" % (tp/(tp+fn)))\n",
        "print(\"Especificidad:%8.3f\" % (tn/(tn+fp)))\n",
        "print(\"Precision:%8.3f\" % (tp/(tp+fp)))"
      ],
      "execution_count": null,
      "outputs": [
        {
          "output_type": "stream",
          "text": [
            "[[18  5]\n",
            " [ 9  9]]\n",
            "Sensitividad:   0.500\n",
            "Especificidad:   0.783\n",
            "Precision:   0.643\n"
          ],
          "name": "stdout"
        }
      ]
    },
    {
      "cell_type": "markdown",
      "metadata": {
        "id": "qBRsbrXmVKY1"
      },
      "source": [
        "Funciona mejor! Pero para plottear, hay que marginalizar en las otras variables.\n",
        "\n",
        "Una alternativa es utilizar herramientas de reduccion de dimensionalidad. Podemos pensar que ya estamos haciendo eso reduciendo al posterior."
      ]
    },
    {
      "cell_type": "code",
      "metadata": {
        "id": "dUyRDVjrV_pW",
        "colab": {
          "base_uri": "https://localhost:8080/",
          "height": 282
        },
        "outputId": "cd2c0876-deff-4cb5-babe-11be16a8e646"
      },
      "source": [
        "lr_este_multi.predict_proba(X_este_tr).shape\n",
        "plt.hist(lr_este_multi.predict(X_este_tr[y_este==0]),color='orange',histtype='step',label='No playoff este')\n",
        "plt.hist(lr_este_multi.predict(X_este_tr[y_este==1]),color='green',histtype='step',label='Playoff este')\n",
        "plt.axvline(x=0.5,color='black',label='Frontera de decision')\n",
        "plt.legend(loc='upper left',framealpha=0.6)"
      ],
      "execution_count": null,
      "outputs": [
        {
          "output_type": "execute_result",
          "data": {
            "text/plain": [
              "<matplotlib.legend.Legend at 0x7f19aa94bd50>"
            ]
          },
          "metadata": {
            "tags": []
          },
          "execution_count": 30
        },
        {
          "output_type": "display_data",
          "data": {
            "image/png": "[encoded data removed]",
            "text/plain": [
              "<Figure size 432x288 with 1 Axes>"
            ]
          },
          "metadata": {
            "tags": [],
            "needs_background": "light"
          }
        }
      ]
    },
    {
      "cell_type": "markdown",
      "metadata": {
        "id": "eKXq2722WqBd"
      },
      "source": [
        "Una alternativa es usar Principal Component analysis (PCA) para bajar de 12 a 2"
      ]
    },
    {
      "cell_type": "code",
      "metadata": {
        "id": "K4m-rHniW4ad",
        "colab": {
          "base_uri": "https://localhost:8080/"
        },
        "outputId": "0bce421f-a11f-48c5-d043-a4a534370edd"
      },
      "source": [
        "from sklearn.decomposition import PCA\n",
        "pca = PCA(n_components=2)\n",
        "X_este_pca=pca.fit_transform(X_este)\n",
        "X_este_pca.shape"
      ],
      "execution_count": null,
      "outputs": [
        {
          "output_type": "execute_result",
          "data": {
            "text/plain": [
              "(41, 2)"
            ]
          },
          "metadata": {
            "tags": []
          },
          "execution_count": 31
        }
      ]
    },
    {
      "cell_type": "code",
      "metadata": {
        "id": "ZmmG0_v5XR8d",
        "colab": {
          "base_uri": "https://localhost:8080/",
          "height": 803
        },
        "outputId": "512a608d-997e-434f-e293-c93ca6be776a"
      },
      "source": [
        "plt.hist(X_este_pca[:,0],bins=10)\n",
        "plt.xlabel(r'PCA 1')\n",
        "plt.show()\n",
        "plt.hist(X_este_pca[:,1],bins=10)\n",
        "plt.xlabel(r'PCA 2')\n",
        "plt.show()\n",
        "plt.scatter(X_este_pca[y_este==0,0],X_este_pca[y_este==0,1], c='orange', label=\"No Playoff Este\")\n",
        "plt.scatter(X_este_pca[y_este==1,0],X_este_pca[y_este==1,1], c='green', label=\"Playoff Oeste\")\n",
        "plt.legend(loc='upper left',framealpha =0.1)\n",
        "#plt.xlim(9.0,31.0)\n",
        "#plt.ylim(15.0,35.0)\n",
        "plt.xlabel(r'PCA 1')\n",
        "plt.ylabel('PCA 2')\n",
        "plt.show()"
      ],
      "execution_count": null,
      "outputs": [
        {
          "output_type": "display_data",
          "data": {
            "image/png": "[encoded data removed]",
            "text/plain": [
              "<Figure size 432x288 with 1 Axes>"
            ]
          },
          "metadata": {
            "tags": [],
            "needs_background": "light"
          }
        },
        {
          "output_type": "display_data",
          "data": {
            "image/png": "[encoded data removed]",
            "text/plain": [
              "<Figure size 432x288 with 1 Axes>"
            ]
          },
          "metadata": {
            "tags": [],
            "needs_background": "light"
          }
        },
        {
          "output_type": "display_data",
          "data": {
            "image/png": "[encoded data removed]",
            "text/plain": [
              "<Figure size 432x288 with 1 Axes>"
            ]
          },
          "metadata": {
            "tags": [],
            "needs_background": "light"
          }
        }
      ]
    },
    {
      "cell_type": "code",
      "metadata": {
        "id": "O5uhC1pzX6ST",
        "colab": {
          "base_uri": "https://localhost:8080/"
        },
        "outputId": "34823f57-59b7-4b50-a042-c0d0f185c651"
      },
      "source": [
        "lr_este_pca=LogisticRegression()\n",
        "lr_este_pca.fit(X_este_pca,y_este)"
      ],
      "execution_count": null,
      "outputs": [
        {
          "output_type": "execute_result",
          "data": {
            "text/plain": [
              "LogisticRegression(C=1.0, class_weight=None, dual=False, fit_intercept=True,\n",
              "                   intercept_scaling=1, l1_ratio=None, max_iter=100,\n",
              "                   multi_class='auto', n_jobs=None, penalty='l2',\n",
              "                   random_state=None, solver='lbfgs', tol=0.0001, verbose=0,\n",
              "                   warm_start=False)"
            ]
          },
          "metadata": {
            "tags": []
          },
          "execution_count": 33
        }
      ]
    },
    {
      "cell_type": "code",
      "metadata": {
        "id": "BLq0VqDqYbVv",
        "colab": {
          "base_uri": "https://localhost:8080/",
          "height": 300
        },
        "outputId": "98095aa0-37a0-4f3e-cad8-4590062aa752"
      },
      "source": [
        "x=np.linspace(-25.0,25.0,100)\n",
        "y=np.linspace(-15.0,15.0,100)\n",
        "Xtoplot,Ytoplot=np.meshgrid(x,y)\n",
        "plt.xlim(-25.0,25.0)\n",
        "plt.ylim(-15.0,15.0)\n",
        "Z=lr_este_pca.predict(np.c_[Xtoplot.ravel(), Ytoplot.ravel()]).reshape(Xtoplot.shape)\n",
        "plt.contourf(Xtoplot,Ytoplot,Z,levels=[0.0,0.5,1.0],colors=['orange','green'],alpha=0.6)\n",
        "plt.scatter(X_este_pca[y_este==0,0],X_este_pca[y_este==0,1], c='orange', label=\"No Playoff Este\")\n",
        "plt.scatter(X_este_pca[y_este==1,0],X_este_pca[y_este==1,1], c='green', label=\"Playoff Oeste\")\n",
        "plt.legend(loc='upper left',framealpha =0.1)\n",
        "plt.xlabel(r'PCA 1')\n",
        "plt.ylabel('PCA 2')"
      ],
      "execution_count": null,
      "outputs": [
        {
          "output_type": "execute_result",
          "data": {
            "text/plain": [
              "Text(0, 0.5, 'PCA 2')"
            ]
          },
          "metadata": {
            "tags": []
          },
          "execution_count": 34
        },
        {
          "output_type": "display_data",
          "data": {
            "image/png": "[encoded data removed]",
            "text/plain": [
              "<Figure size 432x288 with 1 Axes>"
            ]
          },
          "metadata": {
            "tags": [],
            "needs_background": "light"
          }
        }
      ]
    },
    {
      "cell_type": "code",
      "metadata": {
        "id": "23gEi-TqX-V-",
        "colab": {
          "base_uri": "https://localhost:8080/"
        },
        "outputId": "1387af80-f852-42ae-cd2c-38ad61bfda94"
      },
      "source": [
        "from sklearn.metrics import confusion_matrix\n",
        "cf_este=confusion_matrix(y_este,lr_este_pca.predict(X_este_pca))\n",
        "print(cf_este)\n",
        "tn, fp, fn, tp = cf_este.ravel()\n",
        "print(\"Sensitividad (TPR/Recall) :%8.3f\" % (tp/(tp+fn)))\n",
        "print(\"Especificidad:%8.3f\" % (tn/(tn+fp)))\n",
        "print(\"Precision:%8.3f\" % (tp/(tp+fp)))\n",
        "print(\"FPR :%8.3f\" % (fp/(tn+fp)))"
      ],
      "execution_count": null,
      "outputs": [
        {
          "output_type": "stream",
          "text": [
            "[[18  5]\n",
            " [11  7]]\n",
            "Sensitividad (TPR/Recall) :   0.389\n",
            "Especificidad:   0.783\n",
            "Precision:   0.583\n",
            "FPR :   0.217\n"
          ],
          "name": "stdout"
        }
      ]
    },
    {
      "cell_type": "code",
      "metadata": {
        "id": "NcAkknsXeoYs",
        "colab": {
          "base_uri": "https://localhost:8080/"
        },
        "outputId": "ae841089-8dd8-444e-f174-1b37dc7c8b77"
      },
      "source": [
        "from sklearn.preprocessing import MinMaxScaler\n",
        "minmax=MinMaxScaler()\n",
        "print(lr_este_pca.predict(X_este_pca).min(),lr_este_pca.predict(X_este_pca).max())\n",
        "decision=minmax.fit_transform(lr_este_pca.predict(X_este_pca).reshape(-1,1))\n",
        "print(decision.min(),decision.max())"
      ],
      "execution_count": null,
      "outputs": [
        {
          "output_type": "stream",
          "text": [
            "0 1\n",
            "0.0 1.0\n"
          ],
          "name": "stdout"
        }
      ]
    },
    {
      "cell_type": "code",
      "metadata": {
        "id": "6SFXsZ9QebBy",
        "colab": {
          "base_uri": "https://localhost:8080/",
          "height": 414
        },
        "outputId": "b8a5e039-0f24-484d-967d-2ba3e5a76d47"
      },
      "source": [
        "from sklearn.metrics import roc_curve\n",
        "fpr, tpr, thresholds = roc_curve(y_este, lr_este_pca.predict(X_este_pca))\n",
        "print(thresholds[0],thresholds[-1])\n",
        "plt.figure(figsize=(8, 6))                         # Not shown\n",
        "plt.plot(fpr, tpr, linewidth=2, label=None)\n",
        "plt.plot([0, 1], [0, 1], 'k--') # dashed diagonal\n",
        "plt.axis([0, 1, 0, 1])\n",
        "plt.scatter(fpr[np.argmin(np.abs(thresholds-0.0))],tpr[np.argmin(np.abs(thresholds-0.0))],color='red')                                    # Not shown in the book\n",
        "plt.xlabel('False Positive Rate (Fall-Out)', fontsize=16) # Not shown\n",
        "plt.ylabel('True Positive Rate (Recall)', fontsize=16)    # Not shown\n",
        "plt.grid(True)                                            # Not shown\n",
        "plt.show()"
      ],
      "execution_count": null,
      "outputs": [
        {
          "output_type": "stream",
          "text": [
            "2 0\n"
          ],
          "name": "stdout"
        },
        {
          "output_type": "display_data",
          "data": {
            "image/png": "[encoded data removed]",
            "text/plain": [
              "<Figure size 576x432 with 1 Axes>"
            ]
          },
          "metadata": {
            "tags": [],
            "needs_background": "light"
          }
        }
      ]
    },
    {
      "cell_type": "code",
      "metadata": {
        "id": "obwBYqI6Vh0K"
      },
      "source": [
        ""
      ],
      "execution_count": null,
      "outputs": []
    }
  ]
}