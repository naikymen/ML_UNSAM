{
 "cells": [
  {
   "cell_type": "code",
   "execution_count": null,
   "metadata": {},
   "outputs": [],
   "source": [
    "import numpy as np\n",
    "import matplotlib.pyplot as plt\n",
    "\n",
    "%matplotlib inline"
   ]
  },
  {
   "cell_type": "markdown",
   "metadata": {},
   "source": [
    "### Ejercicio 1: Probabilidad e Inferencia Bayesiana"
   ]
  },
  {
   "cell_type": "markdown",
   "metadata": {},
   "source": [
    "<!-- Se desarrolla un test que se espera permita detectar la presencia superpoderes en una persona. \n",
    " -->\n",
    "Se cuenta con un proceso aleatorio del cual la única información que se tiene es que solo puede dar dos resultados: blanco (B) o negro (N)."
   ]
  },
  {
   "cell_type": "markdown",
   "metadata": {},
   "source": [
    "**a.** ¿Qué distribución de probabilidad podría usarse para describir el resultado de este experimento? Jusitifique brevemente. ¿Qué parámetro sería necesario inferir para tener un conocimiento acabado del proceso?"
   ]
  },
  {
   "cell_type": "code",
   "execution_count": null,
   "metadata": {},
   "outputs": [],
   "source": []
  },
  {
   "cell_type": "markdown",
   "metadata": {},
   "source": [
    "Para caracterizarlo se lleva a cabo un experimento en el que el proceso se realiza tres veces, y se obtiene tres veces blanco (es decir, [B, B, B]).\n",
    "\n",
    "**b.** ¿Qué hipótesis tiene que incluir para poder describir este resultado con una función de distribución conocida? ¿De qué ley de probabilidad se trata?"
   ]
  },
  {
   "cell_type": "code",
   "execution_count": null,
   "metadata": {},
   "outputs": [],
   "source": []
  },
  {
   "cell_type": "markdown",
   "metadata": {},
   "source": [
    "**c. Máxima verosimilitud.** Calcule el estimador de máxima verosimilitud del parámetro principal que describe el proceso. Interprete el resultado."
   ]
  },
  {
   "cell_type": "code",
   "execution_count": null,
   "metadata": {},
   "outputs": [],
   "source": []
  },
  {
   "cell_type": "markdown",
   "metadata": {},
   "source": [
    "**Inferencia bayesiana**. Se desea ahora realizar la inferencia bayesiana del parámetro en cuestión. En primer lugar, debe definirse un prior para este parámetro.\n",
    "\n",
    "**d.** Elija un prior y justifique su elección. ¿Hay alguna forma de expresar este prior que resulte particularmente útil para simplificar el problema? Explique por qué."
   ]
  },
  {
   "cell_type": "code",
   "execution_count": null,
   "metadata": {},
   "outputs": [],
   "source": []
  },
  {
   "cell_type": "markdown",
   "metadata": {},
   "source": [
    "**e.** Usando un prior uniforme, obtenga de manera analítica la distribución posterior del parámetro. Grafíquela junto con el prior."
   ]
  },
  {
   "cell_type": "code",
   "execution_count": null,
   "metadata": {},
   "outputs": [],
   "source": []
  },
  {
   "cell_type": "markdown",
   "metadata": {},
   "source": [
    "**f.** Se recibe información de otro experimento equivalente realizado en otro laboratorio, que concluye que el parámetro de interés tiene un valor medio y un desvío estándard (es decir, la raíz de la varianza) de $0.5 \\pm 0.1$. Exprese esta información a través del prior del problema usando la función de distribución Beta, y vuelva a obtener de manera analítica el posterior. Compárelo con el del punto anterior.\n",
    "\n",
    "**Ayuda:** las expresiones para la media y la varianza de una distribución Beta se pueden encontrar en el apéndice B del Bishop "
   ]
  },
  {
   "cell_type": "code",
   "execution_count": null,
   "metadata": {},
   "outputs": [],
   "source": []
  },
  {
   "cell_type": "markdown",
   "metadata": {},
   "source": [
    "**g. Posterior numérico**. Ahora, utilice un prior normal, con el mismo valor medio y desvío estándard que en el del punto anterior. Se pide obtener la distribución posterior con este nuevo prior de forma numérica, y graficarla junto con el prior.\n",
    "\n",
    "**Ayuda**: no olvide la normalización."
   ]
  },
  {
   "cell_type": "code",
   "execution_count": null,
   "metadata": {},
   "outputs": [],
   "source": []
  },
  {
   "cell_type": "markdown",
   "metadata": {},
   "source": [
    "**h (optativo / por la gloria).** Usando la posterior del punto **e**, se busca realizar predicciones sobre futuras realizaciones del experimento: es decir, se quiere predecir el resultado de volver a realizar un conjunto de tres tiradas del experimento. \n",
    "\n",
    "Desde el punto bayesiano, esto viene dado por la posterior predictiva, que puede pensarse como el valor medio de la verosimilitud con respecto a la posterior. Entonces, puede proceder de esta manera:\n",
    "\n",
    "1. Obtenga muestras de la posterior del parámetro obtenida en el punto **e**. Para esto, puede usarse el método `rvs`de las clases de `scipy`.\n",
    "2. Para cada muestra obtenida, calcule la verosimilitud para cada posible resultado del experimento (es decir, 0, 1, 2, o 3 éxitos). Acá se puede usar las facilidades de las clases del paquete `scipy.stats`, que permiten pasar un vector a los parámetros de las distribuciones.\n",
    "3. Promedie los resultados sobre todos los valores de la posterior.\n",
    "4. Grafique la PMF obtenida, que es la posterior predictiva.\n",
    "\n",
    "Discuta el resultado obtenido en vistas de lo obtenido en el punto **c.**"
   ]
  },
  {
   "cell_type": "code",
   "execution_count": null,
   "metadata": {},
   "outputs": [],
   "source": []
  },
  {
   "cell_type": "markdown",
   "metadata": {},
   "source": [
    "****"
   ]
  },
  {
   "cell_type": "code",
   "execution_count": null,
   "metadata": {
    "id": "KzYOP_njd4b2"
   },
   "outputs": [],
   "source": [
    "import numpy as np\n",
    "import matplotlib.pyplot as plt\n",
    "from sklearn.preprocessing import PolynomialFeatures\n",
    "from sklearn.metrics import mean_squared_error\n",
    "from sklearn.linear_model import LinearRegression, Ridge, Lasso\n",
    "from sklearn.model_selection import cross_val_score, cross_val_predict, GridSearchCV, train_test_split\n",
    "from sklearn.pipeline import Pipeline\n",
    "np.random.seed(42)"
   ]
  },
  {
   "cell_type": "markdown",
   "metadata": {
    "id": "3-NNKrdxl6XT"
   },
   "source": [
    "### Ejercicio 2: Regresión con modelos lineales"
   ]
  },
  {
   "cell_type": "markdown",
   "metadata": {
    "id": "Xe5b4-uDD6x5"
   },
   "source": [
    "El objetivo consiste en caracterizar un mapa topográfico. El siguiente dataset consiste en tres columnas: latitud, longitud y altura sobre nível del mar. Para su fácil uso, se transformaron la latitud y longitud en dos coordenadas entre $[0.0,1.0)$ y la altura se paso a unidades apropiadas. El objetivo es interpolar esta superficie y tener $y=f(x_1,x_2)$."
   ]
  },
  {
   "cell_type": "code",
   "execution_count": null,
   "metadata": {
    "id": "zoEG_cwtETvJ"
   },
   "outputs": [],
   "source": [
    "data = np.loadtxt('dataset_regresion.txt')\n",
    "X=data[:,:2]\n",
    "t=data[:,2]"
   ]
  },
  {
   "cell_type": "markdown",
   "metadata": {
    "id": "hzLdLuHpsdiC"
   },
   "source": [
    "Por comodidad, le proveemos el verdadero mapa topográfico para que compare"
   ]
  },
  {
   "cell_type": "code",
   "execution_count": null,
   "metadata": {
    "colab": {
     "base_uri": "https://localhost:8080/",
     "height": 335
    },
    "id": "l4bX9mAdsg1-",
    "outputId": "67dd5b3d-ded2-4ae5-f36d-8238d57cebd9"
   },
   "outputs": [],
   "source": [
    "def tfunc(x1,x2):\n",
    "  r1 = np.sqrt(((x1-0.3)/0.4)**2+((x2-0.5)/0.3)**2)\n",
    "  r2 = np.sqrt(((x1-0.9)/0.2)**2+((x2-0.1)/0.7)**2)\n",
    "  return np.exp(-r1**2)+np.exp(-r2**2)\n",
    "x1=np.linspace(0.0,1.0,20)\n",
    "x2=np.linspace(0.0,1.0,10)\n",
    "z=tfunc(x1[np.newaxis,:],x2[:,np.newaxis])\n",
    "plt.contourf(x1,x2,z,cmap='gist_heat_r')\n",
    "plt.colorbar()\n",
    "plt.scatter(X[:,0],X[:,1],s=100*t,label='Altura')\n",
    "plt.legend(loc='upper right',framealpha=0.5)\n",
    "plt.xlabel('Latitud')\n",
    "plt.ylabel('Longitud')"
   ]
  },
  {
   "cell_type": "markdown",
   "metadata": {
    "id": "1eGTRj8NFqU5"
   },
   "source": [
    "**a.** Divida en conjunto de entrenamiento y test (80-20) y trabaje únicamente con el conjunto de entrenamiento."
   ]
  },
  {
   "cell_type": "code",
   "execution_count": null,
   "metadata": {},
   "outputs": [],
   "source": []
  },
  {
   "cell_type": "markdown",
   "metadata": {
    "id": "zpIwipW9F2CJ"
   },
   "source": [
    "**b.** Realice un ajuste con base polinomial de grado 2 a todo el conjunto de entrenamiento, grafique los valores predichos e imprima el error del ajuste.\n",
    "Para graficar, utilice el siguiente código:"
   ]
  },
  {
   "cell_type": "code",
   "execution_count": null,
   "metadata": {
    "id": "9LFDSwS-l6XV"
   },
   "outputs": [],
   "source": [
    "x1=np.linspace(0.0,1.0,20)# grilla en latitud\n",
    "x2=np.linspace(0.0,1.0,10)# grilla en longitud\n",
    "X1, X2 = np.meshgrid(x1,x2)\n",
    "elements = np.c_[X1.ravel(),X2.ravel()]# junto todas las combinaciones posibles de mi grilla\n",
    "z=modelo.predict(elements).reshape(X1.shape)#aca va el modelo\n",
    "plt.contourf(x1,x2,z,cmap='gist_heat_r')\n",
    "plt.colorbar()\n",
    "plt.scatter(X_train[:,0],X_train[:,1],s=100*t_train,label='Altura')\n",
    "plt.legend(loc='upper right',framealpha=0.5)\n",
    "plt.xlabel('Latitud')\n",
    "plt.ylabel('Longitud')"
   ]
  },
  {
   "cell_type": "code",
   "execution_count": null,
   "metadata": {
    "id": "_aoEVTljl6XV"
   },
   "outputs": [],
   "source": []
  },
  {
   "cell_type": "markdown",
   "metadata": {
    "id": "qu91xBSOUiPa"
   },
   "source": [
    "**c.** Encuentre el mejor grado de polinomio entre 1 y 10 para ajustar los datos utilizando los métodos vistos en la materia. Grafique la performance en función del grado y la predicción del mejor modelo."
   ]
  },
  {
   "cell_type": "code",
   "execution_count": null,
   "metadata": {
    "id": "r2V9ELugMUX-"
   },
   "outputs": [],
   "source": []
  },
  {
   "cell_type": "markdown",
   "metadata": {
    "id": "ul9bSraKUz7X"
   },
   "source": [
    "**d.** Incorpore ahora regularizacion Ridge y encuentre nuevamente el mejor polinomio. Grafique la predicción del mejor modelo. Compare los coeficientes del modelo elegido con los de un ajuste no regularizado, y comente el resultado."
   ]
  },
  {
   "cell_type": "code",
   "execution_count": null,
   "metadata": {
    "id": "iMgrTvxuMPeX"
   },
   "outputs": [],
   "source": []
  },
  {
   "cell_type": "markdown",
   "metadata": {
    "id": "lU_uXvTqR9bw"
   },
   "source": [
    "**e.** Elija el mejor modelo y evalúelo en el conjunto de testeo. Además, prediga el valor de la altura para X = [1.1,0.5]. ¿Qué puede concluir?"
   ]
  },
  {
   "cell_type": "code",
   "execution_count": null,
   "metadata": {
    "id": "6NbbbIK0MKJc"
   },
   "outputs": [],
   "source": []
  },
  {
   "cell_type": "markdown",
   "metadata": {
    "id": "0njM2fqPFjvz"
   },
   "source": [
    "**f (optativo / por la gloria).** Utilice las siguientes funciones de base \n",
    "\n",
    "$$\\{1, e^{-(\\vec{r}-\\vec{r}_{1})^2},e^{-(\\vec{r}-\\vec{r}_{2})^2}, e^{-(\\vec{r}-\\vec{r}_{3})^2}, e^{-(\\vec{r}-\\vec{r}_{4})^2}\\}$$\n",
    "\n",
    "con \n",
    "\n",
    "$$\\vec{r}_{1}=(0.25, 0.25)^{T}$$\n",
    "\n",
    "$$\\vec{r}_{2}=(0.75, 0.25)^{T}$$\n",
    "\n",
    "$$\\vec{r}_{3}=(0.75, 0.25)^{T}$$\n",
    "\n",
    "$$\\vec{r}_{4}=(0.75, 0.75)^{T}$$\n",
    "\n",
    "Utilizando los datos de entrenamiento, encuentre los parametros de máxima verosimilitud para este modelo utilizando Regresión Ridge y grafique el resultado."
   ]
  },
  {
   "cell_type": "code",
   "execution_count": null,
   "metadata": {
    "id": "vHmHC2GzJim-"
   },
   "outputs": [],
   "source": []
  },
  {
   "cell_type": "markdown",
   "metadata": {},
   "source": [
    "****"
   ]
  },
  {
   "cell_type": "markdown",
   "metadata": {
    "colab_type": "text",
    "id": "Tye0tHMcWaIA"
   },
   "source": [
    "### Ejercicio 3: Clasificación con modelos lineales"
   ]
  },
  {
   "cell_type": "markdown",
   "metadata": {
    "id": "JQkZPKi60vq_"
   },
   "source": [
    "En el archivo `dataset_clasificacion.txt` se encuentran los datos a clasificar, en cada fila los dos primeros elementos son los datos y el último la clase a la que pertenece. \n",
    "\n",
    "**a.** Analice los datos, dimensiones, balance de clases, etc. Grafique con histogramas y/o plots."
   ]
  },
  {
   "cell_type": "code",
   "execution_count": null,
   "metadata": {
    "colab": {
     "base_uri": "https://localhost:8080/"
    },
    "id": "9sZDDze32l4Z",
    "outputId": "5ec752dc-c601-4471-bd2f-ee842f6cdac1"
   },
   "outputs": [],
   "source": [
    "import numpy as np\n",
    "import matplotlib.pyplot as plt\n",
    "\n",
    "#a)\n",
    "data = np.loadtxt('dataset_clasificacion.txt')\n",
    "X=data[:,:2]\n",
    "t=data[:,2]\n",
    "#..."
   ]
  },
  {
   "cell_type": "markdown",
   "metadata": {
    "id": "gqi1seNk21VM"
   },
   "source": [
    "**b.** Utilice un regresor logístico y un perceptrón para clasificar el conjunto de datos usando el 80% para entrenamiento y el 20% para testeo.\n",
    "\n",
    "Compare ambas implementaciones y explique cuál considera una mejor solución justificando mediante el uso de matrices de confusión y curvas PR/ROC."
   ]
  },
  {
   "cell_type": "code",
   "execution_count": null,
   "metadata": {
    "id": "vc2nka9s3hMT"
   },
   "outputs": [],
   "source": [
    "#b)"
   ]
  },
  {
   "cell_type": "markdown",
   "metadata": {
    "id": "vo9-WnG0_Isa"
   },
   "source": [
    "**c.** Grafique la frontera de decisión del perceptrón sobre el conjunto de datos."
   ]
  },
  {
   "cell_type": "code",
   "execution_count": null,
   "metadata": {
    "id": "Sw6Fo0UvK4oz"
   },
   "outputs": [],
   "source": [
    "#c)"
   ]
  },
  {
   "cell_type": "markdown",
   "metadata": {
    "id": "HIfFtrSt4Dpc"
   },
   "source": [
    "**d.** Para cada uno de estos requisitos, justifique si alguno de sus modelos pueden cumplirlo:\n",
    "\n",
    "1.  \"Quiero encontrar al menos el 80% de los positivos de la muestra y estar seguro que al menos el 90% de mis detecciones positivas son correctas.\"\n",
    "2.  \"Quiero que al menos el 95% de mis detecciones positvas sean correctas.\"\n"
   ]
  },
  {
   "cell_type": "code",
   "execution_count": null,
   "metadata": {
    "id": "ER6RAla4_J-W"
   },
   "outputs": [],
   "source": [
    "#d)"
   ]
  },
  {
   "cell_type": "markdown",
   "metadata": {
    "id": "0MdfAL7dPzCt"
   },
   "source": [
    "**e.** Responda cuál o cuáles de los modelos, tal cual los entrenó, pueden responder a la siguiente pregunta: \n",
    "\n",
    "\"¿Qué puntos del conjunto de testeo tiene una probabilidad mayor a 90% de pertenecer a la clase 1?\"\n",
    "\n",
    "1.   Perceptrón.\n",
    "2.   Regresión logística.\n",
    "2.   Perceptrón y Regresión logística.\n",
    "\n",
    "Justifique.\n"
   ]
  },
  {
   "cell_type": "code",
   "execution_count": null,
   "metadata": {},
   "outputs": [],
   "source": []
  }
 ],
 "metadata": {
  "kernelspec": {
   "display_name": "Python 3",
   "language": "python",
   "name": "python3"
  },
  "language_info": {
   "codemirror_mode": {
    "name": "ipython",
    "version": 3
   },
   "file_extension": ".py",
   "mimetype": "text/x-python",
   "name": "python",
   "nbconvert_exporter": "python",
   "pygments_lexer": "ipython3",
   "version": "3.8.3"
  },
  "toc": {
   "base_numbering": 1,
   "nav_menu": {},
   "number_sections": true,
   "sideBar": true,
   "skip_h1_title": false,
   "title_cell": "Table of Contents",
   "title_sidebar": "Contents",
   "toc_cell": false,
   "toc_position": {
    "height": "calc(100% - 180px)",
    "left": "10px",
    "top": "150px",
    "width": "288px"
   },
   "toc_section_display": true,
   "toc_window_display": true
  }
 },
 "nbformat": 4,
 "nbformat_minor": 4
}
