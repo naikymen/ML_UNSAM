{
  "nbformat": 4,
  "nbformat_minor": 0,
  "metadata": {
    "colab": {
      "name": "06p_Regresion_Bayesiana.ipynb",
      "provenance": [],
      "collapsed_sections": []
    },
    "kernelspec": {
      "name": "python3",
      "display_name": "Python 3"
    },
    "language_info": {
      "name": "python"
    }
  },
  "cells": [
    {
      "cell_type": "code",
      "metadata": {
        "id": "OKF59K1uiw59"
      },
      "source": [
        "from __future__ import division, print_function, unicode_literals\n",
        "\n",
        "# Common imports\n",
        "import numpy as np\n",
        "import os\n",
        "import sys\n",
        "\n",
        "import pandas as pd\n",
        "import matplotlib.pyplot as plt\n",
        "%matplotlib inline\n",
        "\n",
        "# to make this notebook's output stable across runs\n",
        "np.random.seed(42)\n",
        "\n",
        "# To plot pretty figures\n",
        "%matplotlib inline\n",
        "import matplotlib as mpl\n",
        "import matplotlib.pyplot as plt\n",
        "mpl.rc('axes', labelsize=14)\n",
        "mpl.rc('xtick', labelsize=12)\n",
        "mpl.rc('ytick', labelsize=12)"
      ],
      "execution_count": 1,
      "outputs": []
    },
    {
      "cell_type": "markdown",
      "metadata": {
        "id": "kU3Jt-IDkenN"
      },
      "source": [
        "# Regresion Lineal Bayesiana"
      ]
    },
    {
      "cell_type": "markdown",
      "metadata": {
        "id": "Oi0TaUHmk5Lo"
      },
      "source": [
        "Hasta ahora, nuestro razonamiento fue el siguiente:\n",
        "\n",
        "- Para cada medicion $n=1,...,N$, tenemos un target $t_{n}$ y $D$ features que agrupamos en $x_{n}$. \n",
        "- Modelamos nuestro problema con un modelo lineal $y$ tal que\n",
        "\n",
        "$$y=\\sum_{i=0}^{M}w_{j}\\phi_{j}(\\vec{x})=\\vec{w}^{T}\\vec{\\phi}$$\n",
        "\n",
        "con $\\phi_{0}(\\vec{x})=1$ y $\\vec{w}$  el vector de **parametros** de nuestro modelo. Con este modelo, asumimos la verosimilitud\n",
        "\n",
        "$$p(t|\\vec{x},\\vec{w},\\beta)=\\mathcal{N}(y(\\vec{w},\\vec{x}),\\beta^{-1})$$\n",
        "\n",
        "- Obtenemos el estimador de Maxima Verosimilitud (ML en ingles) $\\vec{w}_{ML}$ resolviendo las ecuaciones normales.\n",
        "\n",
        "$$\n",
        "\\vec{w}_\\mathrm{ML} = (\\Phi^{T}\\cdot\\Phi)^{-1}\\cdot\\Phi^{T}\\cdot t\n",
        "$$\n",
        "\n",
        "$$\n",
        "\\frac{1}{\\beta_{ML}} = \\frac{1}{N}\\sum_{n=1}^N\\left\\{y(x_n, \\vec{w}_{ML}) - t_n\\right\\}^2\\;\\;,\n",
        "$$\n",
        "\n",
        "donde $\\Phi$ es la *matriz de diseño*, cuya fila $n$-ésima es simplemente $\\vec{\\phi}(x_n)$.\n",
        "\n",
        "\n"
      ]
    },
    {
      "cell_type": "code",
      "metadata": {
        "id": "gZQfjcvBuGuj"
      },
      "source": [
        "# Array para plotear\n",
        "xx = np.linspace(0, 1, 100).reshape([-1, 1])\n",
        "\n",
        "def plot_data_sine(x, t, ax=None):\n",
        "    if ax is None:\n",
        "        ax = plt.gca()\n",
        "    ax.plot(x, t, 'ob', mfc='None', ms=10)\n",
        "    ax.plot(xx, np.sin(2*np.pi * xx), 'g-', lw=2, alpha=0.7, label='Ground Truth')\n",
        "    ax.set_xlabel('x')\n",
        "    ax.set_ylabel('t')\n",
        "    ax.legend(loc=0)\n",
        "    return"
      ],
      "execution_count": 2,
      "outputs": []
    },
    {
      "cell_type": "code",
      "metadata": {
        "colab": {
          "base_uri": "https://localhost:8080/",
          "height": 286
        },
        "id": "ABhZVVW3uHr2",
        "outputId": "ec3402eb-ef41-42f6-ac27-7ce113288428"
      },
      "source": [
        "x_ = np.random.rand(100, 1)\n",
        "\n",
        "# Si quieren elegir a mano los valores de x\n",
        "# x_ = np.array([0.2, 0.8]).reshape((-1, 1))\n",
        "\n",
        "t_ = np.sin(2*np.pi*x_) + np.random.randn(len(x_), 1) * 0.3\n",
        "\n",
        "plot_data_sine(x_, t_)"
      ],
      "execution_count": 3,
      "outputs": [
        {
          "output_type": "display_data",
          "data": {
            "image/png": "[encoded data removed]",
            "text/plain": [
              "<Figure size 432x288 with 1 Axes>"
            ]
          },
          "metadata": {
            "tags": [],
            "needs_background": "light"
          }
        }
      ]
    },
    {
      "cell_type": "code",
      "metadata": {
        "id": "OVzot40gu216"
      },
      "source": [
        "x_train, x_test = x_[:75], x_[75:]\n",
        "t_train, t_test = t_[:75], t_[75:]"
      ],
      "execution_count": 4,
      "outputs": []
    },
    {
      "cell_type": "code",
      "metadata": {
        "id": "lFexzFQGuN8Q"
      },
      "source": [
        "from sklearn.linear_model import LinearRegression\n",
        "from sklearn.preprocessing import PolynomialFeatures\n",
        "from sklearn.pipeline import Pipeline\n",
        "from sklearn.model_selection import GridSearchCV"
      ],
      "execution_count": 17,
      "outputs": []
    },
    {
      "cell_type": "code",
      "metadata": {
        "colab": {
          "base_uri": "https://localhost:8080/"
        },
        "id": "uJQAwB-HuaHB",
        "outputId": "f67b84c0-242d-4545-c9fd-24f6ec41e976"
      },
      "source": [
        "modelo=Pipeline([('poly',PolynomialFeatures()),('reg',LinearRegression(fit_intercept=False))])\n",
        "parameters={'poly__degree':np.arange(1,12)}\n",
        "grilla=GridSearchCV(modelo,parameters,scoring='neg_mean_squared_error')\n",
        "grilla.fit(x_train,t_train)"
      ],
      "execution_count": 20,
      "outputs": [
        {
          "output_type": "execute_result",
          "data": {
            "text/plain": [
              "GridSearchCV(cv=None, error_score=nan,\n",
              "             estimator=Pipeline(memory=None,\n",
              "                                steps=[('poly',\n",
              "                                        PolynomialFeatures(degree=2,\n",
              "                                                           include_bias=True,\n",
              "                                                           interaction_only=False,\n",
              "                                                           order='C')),\n",
              "                                       ('reg',\n",
              "                                        LinearRegression(copy_X=True,\n",
              "                                                         fit_intercept=False,\n",
              "                                                         n_jobs=None,\n",
              "                                                         normalize=False))],\n",
              "                                verbose=False),\n",
              "             iid='deprecated', n_jobs=None,\n",
              "             param_grid={'poly__degree': array([ 1,  2,  3,  4,  5,  6,  7,  8,  9, 10, 11])},\n",
              "             pre_dispatch='2*n_jobs', refit=True, return_train_score=False,\n",
              "             scoring='neg_mean_squared_error', verbose=0)"
            ]
          },
          "metadata": {
            "tags": []
          },
          "execution_count": 20
        }
      ]
    },
    {
      "cell_type": "code",
      "metadata": {
        "colab": {
          "base_uri": "https://localhost:8080/"
        },
        "id": "Uzy6GfjPvWUh",
        "outputId": "2817eff4-2b6e-4976-b070-c8db441acc49"
      },
      "source": [
        "grilla.best_params_"
      ],
      "execution_count": 21,
      "outputs": [
        {
          "output_type": "execute_result",
          "data": {
            "text/plain": [
              "{'poly__degree': 3}"
            ]
          },
          "metadata": {
            "tags": []
          },
          "execution_count": 21
        }
      ]
    },
    {
      "cell_type": "code",
      "metadata": {
        "colab": {
          "base_uri": "https://localhost:8080/"
        },
        "id": "Zkv-6ypTyuaA",
        "outputId": "fdac4495-1735-40e2-b50e-7667dc355455"
      },
      "source": [
        "grilla.best_estimator_['reg'].coef_"
      ],
      "execution_count": 22,
      "outputs": [
        {
          "output_type": "execute_result",
          "data": {
            "text/plain": [
              "array([[ 1.45777444e-03,  1.07653401e+01, -3.31921003e+01,\n",
              "         2.25883398e+01]])"
            ]
          },
          "metadata": {
            "tags": []
          },
          "execution_count": 22
        }
      ]
    },
    {
      "cell_type": "markdown",
      "metadata": {
        "id": "2vw4tggUozja"
      },
      "source": [
        "Pero existe otro camino... El camino de Bayes. Este lleva a habilidades que muchos consideran poco naturales..."
      ]
    },
    {
      "cell_type": "markdown",
      "metadata": {
        "id": "YiKzsW76s4-S"
      },
      "source": [
        "## Prior para $\\vec{w}$"
      ]
    },
    {
      "cell_type": "markdown",
      "metadata": {
        "id": "2HpDZS86qM1y"
      },
      "source": [
        "Asumamos $\\beta$ conocido y consideremos ahora a los $\\vec{w}$ como variables aleatorias. Como tal, podemos considerar un prior previo a las mediciones\n",
        "\n",
        "$$p(\\vec{w}|\\gamma)$$\n",
        "\n",
        "donde $\\gamma$ son los parametros del prior. Es uno de los **hiperparametros** del modelo.\n",
        "\n",
        "Dado que la verosimilitud es una normal, podemos utilizar la prior conjugada: [otra normal](https://knowyourmeme.com/photos/1578199-emperor-palpatine-ironic).\n",
        "\n",
        "$$p(\\vec{w}|\\gamma)=\\mathcal{N}(\\vec{w}|0,\\gamma^{-1}\\mathbf{I}_{(M+1)\\mathrm{x}(M+1)})$$\n",
        "\n",
        "Donde $\\gamma$ es un unico numero que controla la precision de los parametros. \n",
        "Dado que tenemos $M+1$ parametros (ya que incluimos el sesgo $w_{0}$:\n",
        "\n",
        "$$p(\\vec{w}|\\gamma)=\\left(\\frac{\\gamma}{2\\pi}\\right)^{(M+1)/2} \\exp{\\left\\{-\\frac{\\gamma}{2}\\vec{w}^T\\vec{w}\\right\\}}$$"
      ]
    },
    {
      "cell_type": "code",
      "metadata": {
        "id": "mEsOxQ-huB64"
      },
      "source": [
        ""
      ],
      "execution_count": null,
      "outputs": []
    },
    {
      "cell_type": "markdown",
      "metadata": {
        "id": "VC3-4Z7qs8w2"
      },
      "source": [
        "## Máximo a posteriori (MAP)"
      ]
    },
    {
      "cell_type": "markdown",
      "metadata": {
        "id": "ycTrZlsbtD2-"
      },
      "source": [
        "Para encontrar la distribución posterior de los parámetros, usamos el teorema de Bayes.\n",
        "\n",
        "$$\n",
        "p(\\vec{w} | t, \\beta, \\gamma) = \\frac{p(t | \\vec{w}, \\beta, \\gamma)\\,p(\\vec{w} | \\gamma)}{p(t | \\beta, \\gamma)}\\;\\;,\n",
        "$$ \n",
        "\n",
        "donde escribí de forma explícita todos los elementos condicionales salvo $x$ y los hiperparámetros $\\beta$ y $\\gamma$). \n",
        "\n",
        "Antes de ir a la posterior, podemos sacar el MAP. Como su nombre lo indica, es encontrar el vector $\\vec{w}_{MAP}$ que maximiza la posterior. Dado que incorpora la informacion del prior, es menos propenso al sobreajuste que el $\\vec{w}_{ML}$. Dado que el numerador es una constante con respecto a $\\vec{w}$, podemos obviarlo para buscar la maximización de la posterior.\n",
        "\n",
        "Entonces, tenemos\n",
        "\n",
        "$$p(\\vec{w} | t, \\beta, \\gamma) \\propto p(t | \\vec{w}, \\beta, \\gamma)\\,p(\\vec{w} | \\gamma)$$ "
      ]
    },
    {
      "cell_type": "markdown",
      "metadata": {
        "id": "TRrRgnXst_eb"
      },
      "source": [
        "Podemos hacer esto numericamente o aprovechar que utilizamos un prior conjugado que nos permite encontrar soluciones analiticas. Nuevamente, conviene considerar el logaritmo de la posterior\n",
        "\n",
        "$$\\text{Ln }p(\\vec{w}|t,\\beta,\\gamma) = \\text{Ln }p(t|\\vec{w},\\beta,\\gamma) + \\text{Ln }p(\\vec{w}|\\gamma) +\\text{ cte} $$\n",
        "\n",
        "$$\\text{Ln }p(\\vec{w}|t,\\beta,\\gamma) = -\\frac{\\beta}{2}\\sum_{n=1}^N \\left\\{t_n - \\vec{w}^{T}\\vec{\\phi}(x_n)\\right\\}^2 - \\frac{\\gamma}{2}\\vec{w}^{T}\\vec{w} +\\text{ cte} $$\n"
      ]
    },
    {
      "cell_type": "markdown",
      "metadata": {
        "id": "rCFDi63twrNR"
      },
      "source": [
        "El ojo avispado puede darse cuenta de que esta funcion a maximizar es la que consideramos cuando vimos regresion INSERTE EL TIPO DE REGRESION AQUI identificando IDENTIFICACION AQUI. \n",
        "\n",
        "Maximizando este posterior, tenemos que\n",
        "\n",
        "$$\n",
        "\\vec{w}_\\mathrm{MAP} = \\left(\\frac{\\gamma}{\\beta}\\mathrm{\\mathbf{I}} + \\Phi^{T} \\cdot\\Phi\\right)^{-1}\\cdot \\Phi^{T}\\cdot t\n",
        "$$\n",
        "\n",
        "y en efecto $\\frac{\\gamma}{\\beta}$ controla el peso relativo entre prior y verosimilitud. Si vamos al limite $\\gamma \\rightarrow 0$ vemos que $\\vec{w}_{MAP}\\rightarrow\\vec{w}_{ML}$. Esto se explica muy facilmente: en ese limite el prior se vuelve uniforme y no agrega informacion a los datos, por lo que MAP y ML son equivalentes.\n",
        "\n",
        "Con otras elecciones de prior, podemos llegar a Lasso u otro tipo de regularizaciones (ver ec. 3.56 del [Bishop](https://www.microsoft.com/en-us/research/uploads/prod/2006/01/Bishop-Pattern-Recognition-and-Machine-Learning-2006.pdf))."
      ]
    },
    {
      "cell_type": "code",
      "metadata": {
        "id": "9hz_vEPekdwH"
      },
      "source": [
        "beta = 1/0.3\n",
        "gamma = 1e-2 / 0.3 # gamma/beta = lambda \n",
        "M = 8\n",
        "\n",
        "poly=PolynomialFeatures(degree=M)\n",
        "\n",
        "Phi_train=poly.fit_transform(x_train)\n",
        "Phi_test=poly.transform(x_test)"
      ],
      "execution_count": 18,
      "outputs": []
    },
    {
      "cell_type": "markdown",
      "metadata": {
        "id": "VGDObi3byG7w"
      },
      "source": [
        "### Ejercicio:\n",
        "\n",
        "Resolvamos las ecuaciones normales:"
      ]
    },
    {
      "cell_type": "code",
      "metadata": {
        "id": "PW16U5IRyALP"
      },
      "source": [
        ""
      ],
      "execution_count": null,
      "outputs": []
    },
    {
      "cell_type": "markdown",
      "metadata": {
        "id": "tDlcPiVRy_YZ"
      },
      "source": [
        "## Distribucion posterior"
      ]
    },
    {
      "cell_type": "markdown",
      "metadata": {
        "id": "MX7jhG1zVbA1"
      },
      "source": [
        "Ahora si obtengamos el posterior. La ventaja de utilizar priors conjugados es que sabemos la forma de la posterior\n",
        "\n",
        "$$p(\\vec{w}|t,\\gamma,\\beta)=\\mathcal{N}(\\vec{w}|\\vec{\\mu}_{N},\\mathbf{S}_{N})$$\n",
        "\n",
        "Con un poco de analisis podemos ver que para nuestro prior obtenemos que:\n",
        "\n",
        "$$\n",
        "\\boxed{\\begin{array}{lll}\n",
        "\\vec{\\mu}_N &=& \\beta\\;\\mathbf{S}_N \\cdot \\Phi^{T}\\cdot t\\\\\n",
        "\\mathbf{S}^{-1}_N &=& \\gamma\\;\\mathbf{I} + \\beta\\;\\Phi^{T}\\cdot\\Phi\\;\\;.\n",
        "\\end{array}}\n",
        "$$\n",
        "\n",
        "Noten que si metemos el resultado de $\\mathbf{S}_N$ en al ecuación de la media, recuperamos la ecuación de arriba para $\\vec{w}_\\mathrm{MAP}$. Esto sucede porque, como la normal es simétrica, el valor que maximiza la posterior es también el valor medio de la distribucion."
      ]
    },
    {
      "cell_type": "markdown",
      "metadata": {
        "id": "8ych9c1UYapx"
      },
      "source": [
        "Si tomamos un prior más general (pero siempre normal):\n",
        "\n",
        "$$\n",
        "p(\\vec{w} | \\vec{\\mu}_0, \\mathbf{S}_0) = \\mathcal{N}(\\vec{w} | \\vec{\\mu}_0, \\mathbf{S}_0)\\;\\;,\n",
        "$$\n",
        "\n",
        "donde ahora la matiz de covarianza es general. Entre otras cosas, esto permite acomodar constantes de regularización diferentes para cada parámetro. Además, podemos pensar en una matriz no diagonal, mucho más flexible. \n",
        "\n",
        "En este caso el valor medio y matriz de precisión de la posterior es:\n",
        "\n",
        "$$\n",
        "\\boxed{\\begin{array}{lll}\n",
        "\\vec{\\mu}_N &=& \\mathbf{S}_N\\cdot \\left(\\mathbf{S}^{-1}_0 \\cdot \\vec{\\mu}_0 + \\beta\\;\\Phi^{T}\\cdot t\\right)\\\\\n",
        "\\mathbf{S}^{-1}_N &=& \\mathbf{S}^{-1}_0 + \\beta\\;\\Phi^{T}\\cdot\\Phi\\;\\;.\n",
        "\\end{array}}\n",
        "$$\n",
        "\n",
        "Con esto, tenemos una descripción completa de la distribución del vector de parámetros $\\vec{w}^{T} = (w_0, \\ldots, w_M)$. "
      ]
    },
    {
      "cell_type": "markdown",
      "metadata": {
        "id": "mFmouu1ctIFf"
      },
      "source": [
        "## Ejercicio: Fitteando una recta ruidosa de manera Bayesiana.\n",
        "\n",
        "Tratemos de fittear los parametros $a_{0}$, $a_{1}$ de una recta $f(x,\\vec{a}) = a_0 + a_{1}x$ donde $x$ está en el intervalo $[-1,1)$."
      ]
    },
    {
      "cell_type": "code",
      "metadata": {
        "id": "Ky5iN8XrtIZW",
        "colab": {
          "base_uri": "https://localhost:8080/",
          "height": 285
        },
        "outputId": "fdc6c5d5-92a8-442b-ac76-098a4f6a3ad4"
      },
      "source": [
        "np.random.seed(42)\n",
        "a0, a1 = -0.3, 0.6\n",
        "var = 0.2\n",
        "N = 100\n",
        "x = -2.0 + np.random.rand(N)\n",
        "f = a0+a1*x\n",
        "t = a0+a1*x+var*np.random.randn(N)\n",
        "plt.scatter(x,t,label='Datos')\n",
        "plt.plot(x,f,color='red',label='Funcion a aproximar')\n",
        "plt.legend(loc='upper left')"
      ],
      "execution_count": 6,
      "outputs": [
        {
          "output_type": "execute_result",
          "data": {
            "text/plain": [
              "<matplotlib.legend.Legend at 0x7f1f4c40ead0>"
            ]
          },
          "metadata": {
            "tags": []
          },
          "execution_count": 6
        },
        {
          "output_type": "display_data",
          "data": {
            "image/png": "[encoded data removed]",
            "text/plain": [
              "<Figure size 432x288 with 1 Axes>"
            ]
          },
          "metadata": {
            "tags": [],
            "needs_background": "light"
          }
        }
      ]
    },
    {
      "cell_type": "markdown",
      "metadata": {
        "id": "YWYDby8puqkv"
      },
      "source": [
        "Como modelo usaremos una regresión lineal de la forma $y(x) = \\omega_0 + \\omega_1 x$. Escribamos para estos la matriz de diseño.\n",
        "$$\\Phi = \\begin{pmatrix}\n",
        "\\phi_0(x_1) & \\phi_1(x_1)\\\\\n",
        "\\phi_0(x_2) & \\phi_1(x_2)\\\\\n",
        "\\vdots & \\vdots\\\\\n",
        "\\phi_0(x_N) & \\phi_1(x_N)\\\\\n",
        "\\end{pmatrix}$$"
      ]
    },
    {
      "cell_type": "code",
      "metadata": {
        "id": "Xhcx-wbnusXa",
        "colab": {
          "base_uri": "https://localhost:8080/"
        },
        "outputId": "8df2702d-7629-4e46-c890-68667bbcc7b9"
      },
      "source": [
        "Phi=np.vstack((x**0.0,x)).T\n",
        "print(Phi.shape)\n",
        "print(Phi[0])"
      ],
      "execution_count": 7,
      "outputs": [
        {
          "output_type": "stream",
          "text": [
            "(100, 2)\n",
            "[ 1.         -1.62545988]\n"
          ],
          "name": "stdout"
        }
      ]
    },
    {
      "cell_type": "markdown",
      "metadata": {
        "id": "QF8iFGk2utID"
      },
      "source": [
        "Obtengamos el *estimador de máxima verosimilitud* dado por \n",
        "$$\\begin{pmatrix}\n",
        "\\omega_0^\\text{ML}\\\\\n",
        "\\omega_1^\\text{ML}\\\\\n",
        "\\end{pmatrix} \n",
        "= \\left(\\Phi^T \\Phi\\right)^{-1}\\Phi^T \\,\\vec{t}\n",
        "$$\n",
        "donde recordemos que $\\vec{t} = \\begin{pmatrix}t_1\\\\ \\vdots \\\\ t_N\\end{pmatrix}$ es el vector de los valores *target* medidos."
      ]
    },
    {
      "cell_type": "code",
      "metadata": {
        "id": "0OWcChEAuuU9"
      },
      "source": [
        ""
      ],
      "execution_count": null,
      "outputs": []
    },
    {
      "cell_type": "markdown",
      "metadata": {
        "id": "x0wuicKJxbPv"
      },
      "source": [
        "Si ahora utilizamos un prior gaussiano de la forma $p(\\vec{\\omega}) = \\mathcal{N} (\\vec{0},\\gamma^{-1}{\\bf 1})$ (es decir que $p(\\vec{\\omega}) = p(\\omega_0) \\times p(\\omega_1)$ con cada $p(\\omega_i) = \\mathcal{N} (\\mu=0,\\sigma = \\gamma)$ ) podemos actualizar iterativamente nuestra distribucion. Que quiere decir esto?\n",
        "\n",
        "Para $n=1,...,N$:\n",
        "\n",
        "$$p_{n}(\\vec{w})=\\frac{p(t_{n}|x_{n},\\vec{w},\\gamma, \\beta)p_{n-1}(\\vec{w}|\\gamma,\\beta,t_{1,...,n-1},x_{1,...,n-1})}{p(t_{n}|x_{n},\\vec{w},\\gamma, \\beta,t_{1,...,n-1},x_{1,...,n-1})}$$\n",
        "\n",
        "Con $p_{0}(\\vec{w})=\\mathcal{N} (\\vec{0},\\gamma^{-1}{\\bf 1})$. Es decir, el posterior para el dato $n-1$ se transforma en el prior para el dato $n$.\n",
        "\n",
        "Calculemos la verosimilitud y el posterior al usar solo 1 punto, 2 puntos, 3 puntos y todo el conjunto de 100 puntos. Para cada uno de estos casos grafiquemos:\n",
        "\n",
        "*   El prior en esa iteracion en el espacio ($w_0$,$w_1$)\n",
        "*   La recta en el espacio (x,t) definida por los ($w_0$,$w_1$) que maximizan el prior junto con la verdadera recta definida por ($a_0$,$a_1$).\n",
        "*   La verosimilitud en esa iteracion en el espacio ($w_0$,$w_1$)\n",
        "*   El posterior en esa iteracion en el espacio ($w_0$,$w_1$)\n",
        "\n",
        "\n",
        "Utilicemos un metodo numerico y comparemos con la formula analitica del posterior.\n",
        "$$\n",
        "\\vec{\\mu}_N = \\beta {\\bf S}_N \\Phi^T \\vec{t}\\\\\n",
        "{\\bf S}_N^{-1} = \\gamma {\\bf 1} + \\beta \\Phi^T \\Phi\n",
        "$$\n",
        "donde $\\beta$ es el parámetro de precisión del ruido gaussiano, que en nuestro caso es $\\beta = (1/\\sigma)^2 = (1/0.2)^2 = 25$. Para seleccionar la cantidad de puntos a considerar, podemos usar slicing en $\\vec{t}$ ( ``t[:N_puntos]``) y en $\\Phi$ (``Phi[:N_puntos,:]``)."
      ]
    },
    {
      "cell_type": "code",
      "metadata": {
        "id": "IMvwAd6K0VLX"
      },
      "source": [
        "from scipy.stats import norm, multivariate_normal\n",
        "gamma=2.0\n",
        "# valores posibles\n",
        "w0_values=np.linspace(-1.0,1.0,50)\n",
        "w1_values=np.linspace(-1.0,1.0,100)\n",
        "#para plottear\n",
        "W0, W1 = np.meshgrid(w0_values,w1_values)\n",
        "pos=np.dstack((W0,W1))\n",
        "#definimos las listas vacias\n",
        "prior=[]\n",
        "verosimilitud=[]\n",
        "posterior=[]\n",
        "\n",
        "# para el dato 0:\n",
        "prior.append(multivariate_normal(mean=[0.0,0.0],cov=gamma*np.eye(2)).pdf(pos))\n",
        "\n",
        "for i in range(len(x)):#loopeo sobre datos\n",
        "  verosimilitud.append()#formula de la verosimilitud para el dato i\n",
        "  evidencia =  #evidencia numerica para el dato \n",
        "  posterior.append()#posterior normalizado para el dato \n",
        "\n",
        "# sampleo puntos de (w0,w1) maximos para prior. Utilicen np.where(a==np.max(a)) para encontrar los indices donde esta el maximo. Si hay varios maximos, quedense con el primero.\n",
        "\n",
        "  sampleo_prior=[,]\n",
        "\n",
        "# grafico\n",
        "\n",
        "  if(i==0 or i==1 or i==2 or i==len(x)-1):\n",
        "    fig, axes = plt.subplots(1,4, figsize=(20,3))\n",
        "    axes[0].contourf(W0,W1,prior[-1])\n",
        "    axes[0].scatter(a0,a1,marker='x',color='black')\n",
        "    axes[0].scatter(sampleo_prior[0],sampleo_prior[1],marker='+',color='red')\n",
        "    axes[0].set_title('Prior en ($w_0$,$w_1$)')\n",
        "    axes[1].scatter(x[:i+1],t[:i+1],color='black')\n",
        "    axes[1].plot(x,sampleo_prior[0]+sampleo_prior[1]*x,color='red')\n",
        "    axes[1].plot(x,a0+a1*x,color='green')\n",
        "    axes[1].set_title('Sampleo en (x,t)')\n",
        "    axes[2].contourf(W0,W1,verosimilitud[-1])\n",
        "    axes[2].scatter(a0,a1,marker='x',color='black')\n",
        "    axes[2].set_title('Verosimilitud en ($w_0$,$w_1$)')\n",
        "    axes[3].contourf(W0,W1,posterior[-1])\n",
        "    axes[3].scatter(a0,a1,marker='x',color='black')\n",
        "    axes[3].set_title('Posterior en ($w_0$,$w_1$)')\n",
        "\n",
        "    fig.show()\n",
        "\n",
        "# actualizo el prior\n",
        "  prior.append(posterior[-1])"
      ],
      "execution_count": null,
      "outputs": []
    },
    {
      "cell_type": "code",
      "metadata": {
        "id": "ZK4hfA9mx_Sd"
      },
      "source": [
        ""
      ],
      "execution_count": null,
      "outputs": []
    },
    {
      "cell_type": "markdown",
      "metadata": {
        "id": "6NlSe6urg4qj"
      },
      "source": [
        "## Posterior predictiva"
      ]
    },
    {
      "cell_type": "markdown",
      "metadata": {
        "id": "Cuehe_zij-zT"
      },
      "source": [
        "Repasemos un poco lo que vimos en su momento de posterior predictiva y apliquemoslo aca. Volviendo a los datos simples"
      ]
    },
    {
      "cell_type": "code",
      "metadata": {
        "colab": {
          "base_uri": "https://localhost:8080/",
          "height": 286
        },
        "id": "X8DfD3skg5rm",
        "outputId": "2c04dec7-bc87-49cc-e38f-c4146d464122"
      },
      "source": [
        "x_train, x_test = x_[:75], x_[75:]\n",
        "t_train, t_test = t_[:75], t_[75:]\n",
        "plot_data_sine(x_train,t_train)"
      ],
      "execution_count": 14,
      "outputs": [
        {
          "output_type": "display_data",
          "data": {
            "image/png": "[encoded data removed]",
            "text/plain": [
              "<Figure size 432x288 with 1 Axes>"
            ]
          },
          "metadata": {
            "tags": [],
            "needs_background": "light"
          }
        }
      ]
    },
    {
      "cell_type": "markdown",
      "metadata": {
        "id": "eMnTglNQkZHv"
      },
      "source": [
        "Obtengamos los parametros de la posterior"
      ]
    },
    {
      "cell_type": "code",
      "metadata": {
        "id": "q4cpMJO_kXPr"
      },
      "source": [
        "beta = 1/0.3\n",
        "gamma = 1e-2 / 0.3 # gamma/beta = lambda \n",
        "mu0=0.0\n",
        "M = 4\n",
        "\n",
        "poly=PolynomialFeatures(degree=M)\n",
        "\n",
        "Phi_train=poly.fit_transform(x_train)\n",
        "Phi_test=poly.transform(x_test)"
      ],
      "execution_count": 153,
      "outputs": []
    },
    {
      "cell_type": "markdown",
      "metadata": {
        "id": "77Zy6WCqlD5L"
      },
      "source": [
        "$$\n",
        "\\boxed{\\begin{array}{lll}\n",
        "\\vec{\\mu}_N &=& \\mathbf{S}_N\\cdot \\left(\\mathbf{S}^{-1}_0 \\cdot \\vec{\\mu}_0 + \\beta\\;\\Phi^{T}\\cdot t\\right)\\\\\n",
        "\\mathbf{1} &=& \\left(\\mathbf{S}^{-1}_0 + \\beta\\;\\Phi^{T}\\cdot\\Phi\\right)\\cdot \\mathbf{S}_{N}\\;\\;.\n",
        "\\end{array}}\n",
        "$$"
      ]
    },
    {
      "cell_type": "code",
      "metadata": {
        "id": "iqGjPKsjkmeb"
      },
      "source": [
        "SN=np.linalg.solve(gamma*np.eye(M+1)+beta*np.dot(Phi_train.T,Phi_train),np.eye(M+1))\n",
        "muN=beta*np.dot(SN,np.dot(Phi_train.T,t_train))"
      ],
      "execution_count": 154,
      "outputs": []
    },
    {
      "cell_type": "code",
      "metadata": {
        "id": "24oyEsTqk1Wg"
      },
      "source": [
        "print(np.linalg.inv(SN)/(len(x_train)*beta),np.mean(x_train),np.mean(x_train**2))## verficacion para M = 1"
      ],
      "execution_count": null,
      "outputs": []
    },
    {
      "cell_type": "code",
      "metadata": {
        "colab": {
          "base_uri": "https://localhost:8080/"
        },
        "id": "pkFNB7zilrxB",
        "outputId": "af898d1f-7dbd-4549-898a-a382707ca62a"
      },
      "source": [
        "print(muN.shape,SN.shape)"
      ],
      "execution_count": 156,
      "outputs": [
        {
          "output_type": "stream",
          "text": [
            "(5, 1) (5, 5)\n"
          ],
          "name": "stdout"
        }
      ]
    },
    {
      "cell_type": "markdown",
      "metadata": {
        "id": "DCJA7kkhmbQh"
      },
      "source": [
        "Teniendo la distribucion $p(\\vec{w}|\\vec{\\mu}_{N},\\mathbf{S}_{N})$, podemos ahora tratar de hacer predicciones para una nueva medicion:\n",
        "\n",
        "$$p(t_{N+1}|x_{N+1},x_{1,...,N},t_{1,...,N},\\gamma,\\beta)$$\n",
        "\n",
        "Como hicimos en el caso de la distribucion Cauchy, podemos escribir esto marginalizando sobre los parametros posibles $\\vec{w}$.\n",
        "\n",
        "$$p(t_{N+1}|x_{N+1},x_{1,...,N},t_{1,...,N},\\gamma,\\beta)=\\int p(t_{N+1}|x_{N+1},\\vec{w},\\beta)p(\\vec{w}|\\vec{\\mu}_{N},\\mathbf{S}_{N})d^{M+1}w$$\n",
        "\n",
        "Esta integral es, a simple vista, un poco aterradora. Veamos que podemos hacer al respecto\n"
      ]
    },
    {
      "cell_type": "markdown",
      "metadata": {
        "id": "qvwOyMqjm18p"
      },
      "source": [
        "### Predicciones semi-bayesianas"
      ]
    },
    {
      "cell_type": "markdown",
      "metadata": {
        "id": "WDDpIH1xm47D"
      },
      "source": [
        "Podemos, antes que nada, aproximar $\\vec{w}$ por el valor de Maximo A Posteriori\n",
        "\n",
        "$$p(t_{N+1}|x_{N+1},x_{1,...,N},t_{1,...,N},\\gamma,\\beta)\\approx \\mathcal{N}(t_{N+1}|y(x_{N+1},\\vec{w}_{MAP}),\\beta)$$\n",
        "\n",
        "Debido a que la posterior es una Gaussiana, $\\vec{w}_{MAP}=\\vec{\\mu}_{N}$\n"
      ]
    },
    {
      "cell_type": "code",
      "metadata": {
        "colab": {
          "base_uri": "https://localhost:8080/",
          "height": 286
        },
        "id": "O4k17JGEmIXC",
        "outputId": "30b69533-364c-4b7e-faf6-f3184714a200"
      },
      "source": [
        "Phi_xx=poly.transform(xx)\n",
        "\n",
        "tt=np.dot(Phi_xx,muN)\n",
        "\n",
        "plt.plot(xx,tt,c='red',label='Posterior predictive')\n",
        "plt.fill_between(xx.flatten(), tt.flatten() + np.sqrt(1/beta), tt.flatten() - np.sqrt(1/beta), color='LightBlue', alpha=0.7)\n",
        "plot_data_sine(x_train,t_train)"
      ],
      "execution_count": 157,
      "outputs": [
        {
          "output_type": "display_data",
          "data": {
            "image/png": "[encoded data removed]",
            "text/plain": [
              "<Figure size 432x288 with 1 Axes>"
            ]
          },
          "metadata": {
            "tags": [],
            "needs_background": "light"
          }
        }
      ]
    },
    {
      "cell_type": "markdown",
      "metadata": {
        "id": "9KZOKsJipWx9"
      },
      "source": [
        "### Funcion predictiva posterior"
      ]
    },
    {
      "cell_type": "markdown",
      "metadata": {
        "id": "RD9pJLkhpaov"
      },
      "source": [
        "Para hacer la integral que ya mencionamos, podriamos ir directo al enfoque numerico. Tal como hicimos en algunos ejercicios de la guia, podemos recurrir al Importance Sampling. Alli, sampleamos puntos utilizando la posterior"
      ]
    },
    {
      "cell_type": "code",
      "metadata": {
        "id": "M9WIpBhSoHw7"
      },
      "source": [
        "Nsample=1000\n",
        "w_sampled=multivariate_normal(mean=muN[:,0],cov=SN).rvs(Nsample)"
      ],
      "execution_count": 158,
      "outputs": []
    },
    {
      "cell_type": "markdown",
      "metadata": {
        "id": "8Bo7MGhlp-GB"
      },
      "source": [
        "Y utilizamos esos puntos sampleados para calcular\n",
        "\n",
        "$$p(t_{N+1}|x_{N+1},x_{1,...,N},t_{1,...,N},\\gamma,\\beta)\\approx \\frac{1}{N_{\\text{samples}}}\\sum_{j=1}^{N_{\\text{samples}}}\\mathcal{N}(t_{N+1}|y(x_{N+1},\\vec{w}_{j}),\\beta)$$\n",
        "\n",
        "Entonces, podemos obtener el valor promedio de $t_{N+1}$ como\n",
        "\n",
        "$$\\mathbf{E}[t_{N+1}]\\approx \\frac{1}{N_{\\text{samples}}}\\sum_{j=1}^{N_{\\text{samples}}}\\vec{w}_{j}^{T}\\cdot \\vec{\\phi}(x_{N+1})=\\frac{1}{N_{\\text{samples}}}\\sum_{j=1}^{N_{\\text{samples}}}\\mu_{j}$$\n",
        "\n",
        "y la varianza viene dada por\n",
        "\n",
        "$$\\text{Var}[t_{N+1}]\\approx \\frac{1}{\\beta}+\\frac{1}{N_{\\text{samples}}}(\\sum_{j}\\mu^{2}_{j}-\\frac{1}{N_{\\text{samples}}}(\\sum_{l}\\mu_{l})^{2})$$\n",
        "\n",
        "\n"
      ]
    },
    {
      "cell_type": "code",
      "metadata": {
        "colab": {
          "base_uri": "https://localhost:8080/"
        },
        "id": "iGKBnlrb2BtR",
        "outputId": "758ff131-c588-4c12-ad17-72454678c821"
      },
      "source": [
        "mus=np.dot(w_sampled,Phi_xx.T)\n",
        "print(mus.shape)\n",
        "tt=np.mean(mus,axis=0)\n",
        "print(tt.shape)"
      ],
      "execution_count": 159,
      "outputs": [
        {
          "output_type": "stream",
          "text": [
            "(1000, 100)\n",
            "(100,)\n"
          ],
          "name": "stdout"
        }
      ]
    },
    {
      "cell_type": "code",
      "metadata": {
        "id": "NQcWTOT12jed"
      },
      "source": [
        "sum_mu=np.sum(mus,axis=0)\n",
        "sum_mu_sqr=np.sum(np.asarray([mus[:,i]*mus[:,i] for i in range(mus.shape[1])]).T,axis=0)\n",
        "yerror=np.sqrt(1.0/beta+(1.0/Nsample)*(sum_mu_sqr-(1.0/Nsample)*sum_mu))"
      ],
      "execution_count": 160,
      "outputs": []
    },
    {
      "cell_type": "code",
      "metadata": {
        "colab": {
          "base_uri": "https://localhost:8080/",
          "height": 288
        },
        "id": "gerOEleIrr2B",
        "outputId": "9c8ce2db-7ba3-4d00-ff03-3880f4a123c4"
      },
      "source": [
        "plt.plot(xx,tt,c='red',label='Posterior predictive')\n",
        "plt.fill_between(xx.flatten(), tt.flatten() + yerror.flatten(), tt.flatten() - yerror.flatten(), color='LightBlue', alpha=0.7)\n",
        "plot_data_sine(x_train,t_train)"
      ],
      "execution_count": 161,
      "outputs": [
        {
          "output_type": "display_data",
          "data": {
            "image/png": "[encoded data removed]",
            "text/plain": [
              "<Figure size 432x288 with 1 Axes>"
            ]
          },
          "metadata": {
            "tags": [],
            "needs_background": "light"
          }
        }
      ]
    },
    {
      "cell_type": "markdown",
      "metadata": {
        "id": "xV_wwZJd5UyH"
      },
      "source": [
        "Esto es util, si, pero no estamos aprovechando la belleza de usar priors conjugados. Todavia podemos resolver cosas analiticamente!\n",
        "\n",
        "La posterior predictiva va a ser\n",
        "\n",
        "la posterior predictiva:\n",
        "\n",
        "$$\n",
        "p(t_{N+1} | x_{N+1}, t_{1,...,N}, x_{1,...,N}, \\gamma, \\beta) = \\mathcal{N}(t_{N+1} | \\vec{\\mu}_N^{T} \\vec{\\phi}(x_{N+1}), \\sigma_N^2)\\;\\;,\n",
        "$$\n",
        "\n",
        "donde la varianza es\n",
        "$$\n",
        "\\sigma_N^2 = \\frac{1}{\\beta} + \\vec{\\phi}(x_{N+1})^{T} \\mathbf{S}_N \\vec{\\phi}(x_{N+1})\\;\\;,\n",
        "$$\n",
        "que consiste en una contribución debida a la incertidumbre en los parámetros, y otra que viene de la incerteza de los datos."
      ]
    },
    {
      "cell_type": "code",
      "metadata": {
        "id": "LiJ4KMIPryX8"
      },
      "source": [
        "mupred=np.dot(muN.T,Phi_xx.T).T\n",
        "aux=np.asarray(list(map(lambda i: np.dot(Phi_xx[i,:],np.dot(SN,Phi_xx[i,:])),range(Phi_xx.shape[0]))))\n",
        "sigmapred=np.sqrt(1.0/beta+aux)"
      ],
      "execution_count": 162,
      "outputs": []
    },
    {
      "cell_type": "code",
      "metadata": {
        "colab": {
          "base_uri": "https://localhost:8080/"
        },
        "id": "DXwtk5JV6ESF",
        "outputId": "921d69f3-c9ec-40b6-aed7-569d282b04bf"
      },
      "source": [
        "sigmapred.shape"
      ],
      "execution_count": 163,
      "outputs": [
        {
          "output_type": "execute_result",
          "data": {
            "text/plain": [
              "(100,)"
            ]
          },
          "metadata": {
            "tags": []
          },
          "execution_count": 163
        }
      ]
    },
    {
      "cell_type": "code",
      "metadata": {
        "colab": {
          "base_uri": "https://localhost:8080/",
          "height": 286
        },
        "id": "yF_UGZit6XGU",
        "outputId": "649393fa-1bdf-485c-b24e-ccfe23c1584c"
      },
      "source": [
        "plt.plot(xx,mupred,c='red',label='Posterior predictive')\n",
        "plt.fill_between(xx.flatten(), mupred.flatten() + sigmapred.flatten(), mupred.flatten() - sigmapred.flatten(), color='LightBlue', alpha=0.7)\n",
        "plot_data_sine(x_train,t_train)"
      ],
      "execution_count": 164,
      "outputs": [
        {
          "output_type": "display_data",
          "data": {
            "image/png": "[encoded data removed]",
            "text/plain": [
              "<Figure size 432x288 with 1 Axes>"
            ]
          },
          "metadata": {
            "tags": [],
            "needs_background": "light"
          }
        }
      ]
    },
    {
      "cell_type": "markdown",
      "metadata": {
        "id": "r2KFhFd17mer"
      },
      "source": [
        "### Ejercicio"
      ]
    },
    {
      "cell_type": "markdown",
      "metadata": {
        "id": "73KGbGsE7oCO"
      },
      "source": [
        "Repitamos todo esto eligiendo unicamente 2 puntos al azar para entrenar el modelo. Que pasa?"
      ]
    },
    {
      "cell_type": "code",
      "metadata": {
        "id": "iqsSylkB7T_E"
      },
      "source": [
        ""
      ],
      "execution_count": null,
      "outputs": []
    }
  ]
}