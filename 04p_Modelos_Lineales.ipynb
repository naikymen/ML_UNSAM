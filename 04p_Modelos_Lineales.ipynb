{
  "nbformat": 4,
  "nbformat_minor": 0,
  "metadata": {
    "colab": {
      "name": "04p_Modelos_Lineales_Incompleto.ipynb",
      "provenance": []
    },
    "kernelspec": {
      "name": "python3",
      "display_name": "Python 3"
    },
    "language_info": {
      "name": "python"
    }
  },
  "cells": [
    {
      "cell_type": "code",
      "metadata": {
        "id": "SMSgrL-x2Cyd"
      },
      "source": [
        "import numpy as np\n",
        "import matplotlib.pyplot as plt\n",
        "np.random.seed(42)"
      ],
      "execution_count": null,
      "outputs": []
    },
    {
      "cell_type": "markdown",
      "metadata": {
        "id": "BH-kwbHG2MWX"
      },
      "source": [
        "Supongamos que nos dan esta serie de puntos"
      ]
    },
    {
      "cell_type": "code",
      "metadata": {
        "id": "QbYAV1Eo2J6F"
      },
      "source": [
        "N_SAMPLES = 20\n",
        "x = np.linspace(0,1,num=N_SAMPLES).reshape(-1,1)\n",
        "t =  4 * x+ np.sin(x*6)+ 0.5*np.random.randn(N_SAMPLES,1)"
      ],
      "execution_count": null,
      "outputs": []
    },
    {
      "cell_type": "code",
      "metadata": {
        "id": "lE05zyC72oz2"
      },
      "source": [
        "plt.scatter(x,t)\n",
        "plt.xlabel('x')\n",
        "plt.ylabel('t')\n",
        "plt.show()"
      ],
      "execution_count": null,
      "outputs": []
    },
    {
      "cell_type": "markdown",
      "metadata": {
        "id": "BfssD7wa-Iah"
      },
      "source": [
        "Por supuesto, antes de seguir dividimos en entrenamiento y testeo"
      ]
    },
    {
      "cell_type": "code",
      "metadata": {
        "id": "zx-k8fMI2rDE"
      },
      "source": [
        "from sklearn.model_selection import train_test_split\n",
        "\n",
        "x_train, x_test, t_train, t_test = train_test_split(x, t, random_state=42)\n"
      ],
      "execution_count": null,
      "outputs": []
    },
    {
      "cell_type": "code",
      "metadata": {
        "id": "F76kTRCb-PTZ"
      },
      "source": [
        "plt.scatter(x_train,t_train, c='red', label='train')\n",
        "plt.scatter(x_test,t_test, c='blue', label='test')\n",
        "plt.legend()\n",
        "plt.xlabel('x')\n",
        "plt.ylabel('y')\n",
        "plt.show()"
      ],
      "execution_count": null,
      "outputs": []
    },
    {
      "cell_type": "markdown",
      "metadata": {
        "id": "-8ooxY9C-WL9"
      },
      "source": [
        "Como vimos, la idea de Regresion Lineal es modelar\n",
        "\n",
        "$$y(x,w)=w_{0}+w_{1}x$$\n",
        "\n",
        "De manera tal que \n",
        "\n",
        "$$t\\sim \\mathcal{N}(y(x,w),\\sigma^{2})$$\n",
        "\n",
        "Con alguna incerteza que no nos importa demasiado hoy.\n",
        "\n",
        "Aca tenemos la gran ventaja de que sabemos la verdadera funcion que sigue el target. En la vida real, casi nunca sabemos la verdadera funcion."
      ]
    },
    {
      "cell_type": "code",
      "metadata": {
        "id": "SBbJ5OY--TLc"
      },
      "source": [
        "def y_true(x):\n",
        "  return  4 * x+ np.sin(x*6)"
      ],
      "execution_count": null,
      "outputs": []
    },
    {
      "cell_type": "code",
      "metadata": {
        "id": "dfGqy6Dw_FF2"
      },
      "source": [
        "xvals=np.linspace(0,1,num=50).reshape(-1,1)\n",
        "plt.scatter(x_train,t_train, c='red', label='train')\n",
        "plt.plot(xvals,y_true(xvals),color='black',label='Funcion verdadera')\n",
        "plt.legend()\n",
        "plt.xlabel('x')\n",
        "plt.ylabel('t')\n",
        "plt.show()"
      ],
      "execution_count": null,
      "outputs": []
    },
    {
      "cell_type": "markdown",
      "metadata": {
        "id": "EaVqqAkAABwt"
      },
      "source": [
        "Veamos los shapes que tenemos"
      ]
    },
    {
      "cell_type": "code",
      "metadata": {
        "id": "CFY_JHg7AGcG"
      },
      "source": [
        "print(x_train.shape,t_train.shape)"
      ],
      "execution_count": null,
      "outputs": []
    },
    {
      "cell_type": "markdown",
      "metadata": {
        "id": "NdITQZ0l2KaA"
      },
      "source": [
        "# Regresion Lineal a mano"
      ]
    },
    {
      "cell_type": "markdown",
      "metadata": {
        "id": "1S7XZwyqABo1"
      },
      "source": [
        "Si queremos obtener los estimador de maxima verosimilitud de los pesos $w_{0}$, $w_{1}$, tenemos que resolver las ecuaciones normales\n",
        "\n",
        "$$w_{ML}=(\\Phi^{T}\\Phi)^{-1}\\Phi^{T}t$$\n",
        "\n",
        "Donde $w_{ML}=(w_{0,ML},w_{1,ML})^{T}$, $t$ el vector de target y $\\Phi$ es la matriz de diseño. En cada columna, tiene una de las funciones de base. En este caso, 1 y x. En cada fila, tiene una medicion"
      ]
    },
    {
      "cell_type": "markdown",
      "metadata": {
        "id": "s4-fwAn9Bzwn"
      },
      "source": [
        "Si tenemos M funciones de base y N mediciones, \n",
        "\n",
        "$w_{ML}$ es una matriz de\n",
        "\n",
        "$\\Phi$ es una matriz de \n",
        "\n",
        "$t$ es una matriz de"
      ]
    },
    {
      "cell_type": "code",
      "metadata": {
        "id": "b1odr2AfBIWA"
      },
      "source": [
        "Phi_train=np.vstack([np.ones(len(x_train)),x_train[:,0]]).T # agrupo 1s y xs para cada medicion"
      ],
      "execution_count": null,
      "outputs": []
    },
    {
      "cell_type": "markdown",
      "metadata": {
        "id": "_7hurekKABsf"
      },
      "source": [
        "Que shape tiene que tener?"
      ]
    },
    {
      "cell_type": "code",
      "metadata": {
        "id": "lnxfdtmU_M1Q"
      },
      "source": [
        "Phi_train.shape"
      ],
      "execution_count": null,
      "outputs": []
    },
    {
      "cell_type": "markdown",
      "metadata": {
        "id": "u7YGn2QRBjTP"
      },
      "source": [
        "Las ecuaciones normales tienen una inversa ahi metida. Eso no es numericamente muy deseable. Conviene resolver la ecuacion\n",
        "\n",
        "$$(\\Phi^{T}\\Phi)w_{ML}=\\Phi^{T}t$$\n",
        "\n",
        "y utilizar `np.linalg.solve(A,b)` que obtiene el vector $X$ solucion de la ecuacion\n",
        "\n",
        "$$Ax=b$$\n",
        "\n"
      ]
    },
    {
      "cell_type": "code",
      "metadata": {
        "id": "keqZzu8MBgcu"
      },
      "source": [
        "A=\n",
        "b=\n",
        "wML="
      ],
      "execution_count": null,
      "outputs": []
    },
    {
      "cell_type": "markdown",
      "metadata": {
        "id": "GdteT-rrCzaW"
      },
      "source": [
        "Veamos la solucion"
      ]
    },
    {
      "cell_type": "code",
      "metadata": {
        "id": "Dnjf3caDCywN"
      },
      "source": [
        "wML"
      ],
      "execution_count": null,
      "outputs": []
    },
    {
      "cell_type": "markdown",
      "metadata": {
        "id": "r5y_KtWHC5Ut"
      },
      "source": [
        "Podemos graficar esta solucion facilmente"
      ]
    },
    {
      "cell_type": "code",
      "metadata": {
        "id": "d_lC4-t9C1YF"
      },
      "source": [
        "def y_ML(x,wML):\n",
        "  return wML[0]+wML[1]*x"
      ],
      "execution_count": null,
      "outputs": []
    },
    {
      "cell_type": "code",
      "metadata": {
        "id": "DVcXsY8WDCmH"
      },
      "source": [
        "xvals=np.linspace(0,1,num=50).reshape(-1,1)\n",
        "plt.scatter(x_train,t_train, c='red', label='train')\n",
        "plt.plot(xvals,y_true(xvals),color='black',label='Funcion verdadera')\n",
        "plt.plot(xvals,y_ML(xvals,wML),color='black',linestyle='dotted',label='Maxima verosimilitud')\n",
        "plt.legend()\n",
        "plt.xlabel('x')\n",
        "plt.ylabel('t')\n",
        "plt.show()"
      ],
      "execution_count": null,
      "outputs": []
    },
    {
      "cell_type": "markdown",
      "metadata": {
        "id": "rcpxzb6vDYG2"
      },
      "source": [
        "Obviamente, no funciona muy bien..."
      ]
    },
    {
      "cell_type": "markdown",
      "metadata": {
        "id": "23JV66pJDkqG"
      },
      "source": [
        "## Ejercicio"
      ]
    },
    {
      "cell_type": "markdown",
      "metadata": {
        "id": "xe40pMUFDm2t"
      },
      "source": [
        "Resuelvan las ecuaciones normales, pero ahora modelando la funcion como\n",
        "\n",
        "$$y(x,w)=w_{0}+\\sum_{i=1}^{5}w_{i}x^{i}$$"
      ]
    },
    {
      "cell_type": "code",
      "metadata": {
        "id": "Oq1gZZxNf5Ew"
      },
      "source": [
        ""
      ],
      "execution_count": null,
      "outputs": []
    },
    {
      "cell_type": "markdown",
      "metadata": {
        "id": "imP4G0KVFZok"
      },
      "source": [
        "# Hola `sklearn`!"
      ]
    },
    {
      "cell_type": "markdown",
      "metadata": {
        "id": "L7W_0apKFbno"
      },
      "source": [
        "Como ya vimos antes, `sklearn` resuelve las ecuaciones normales por nosotros utilizando `LinearRegression`"
      ]
    },
    {
      "cell_type": "code",
      "metadata": {
        "id": "B40Dlvj5EX-p"
      },
      "source": [
        "from sklearn.linear_model import LinearRegression"
      ],
      "execution_count": null,
      "outputs": []
    },
    {
      "cell_type": "markdown",
      "metadata": {
        "id": "f-kbz7D1Fu3t"
      },
      "source": [
        "Veamos los parametros que tenemos:"
      ]
    },
    {
      "cell_type": "code",
      "metadata": {
        "id": "9EwwqsELFsXF"
      },
      "source": [
        "LinearRegression??"
      ],
      "execution_count": null,
      "outputs": []
    },
    {
      "cell_type": "markdown",
      "metadata": {
        "id": "iV7uvWgeF3p6"
      },
      "source": [
        "La opcion con la que hay que tener mas cuidado ahora mismo en `fit_intercept`. Por defecto, esta como verdadera. "
      ]
    },
    {
      "cell_type": "code",
      "metadata": {
        "id": "9-Pz8wWgFxW-"
      },
      "source": [
        "lr=LinearRegression(fit_intercept=True)\n",
        "lr.fit(x_train,t_train) #features, target"
      ],
      "execution_count": null,
      "outputs": []
    },
    {
      "cell_type": "markdown",
      "metadata": {
        "id": "ySRlQ5osGNC5"
      },
      "source": [
        "Podemos obtener tanto los coeficientes como el intercept"
      ]
    },
    {
      "cell_type": "code",
      "metadata": {
        "id": "0dA6cQU2GHjc"
      },
      "source": [
        "print(lr.intercept_,lr.coef_)"
      ],
      "execution_count": null,
      "outputs": []
    },
    {
      "cell_type": "markdown",
      "metadata": {
        "id": "Dt55MMJyGS71"
      },
      "source": [
        "Noten que tenemos 1 solo coeficiente. El $w_{0}$ es el intercept.\n",
        "\n",
        "Supongamos que no nos damos cuenta y le damos la matriz $\\Phi$"
      ]
    },
    {
      "cell_type": "code",
      "metadata": {
        "id": "NmXi1-siGQeL"
      },
      "source": [
        "lr=LinearRegression(fit_intercept=True)\n",
        "lr.fit(Phi_train,t_train) #features, target"
      ],
      "execution_count": null,
      "outputs": []
    },
    {
      "cell_type": "code",
      "metadata": {
        "id": "WVvr7mVTGalP"
      },
      "source": [
        "print(lr.intercept_,lr.coef_)"
      ],
      "execution_count": null,
      "outputs": []
    },
    {
      "cell_type": "markdown",
      "metadata": {
        "id": "RP6UPs3KGkn_"
      },
      "source": [
        "Aparece el coeficiente que deberia ser el `intercept` como cero. \n",
        "\n",
        "Hay que tener cuidado con esto, en particular cuando queremos aprovechar `sklearn` para hacer regresion polinomial"
      ]
    },
    {
      "cell_type": "code",
      "metadata": {
        "id": "L8O0LfM3Gec1"
      },
      "source": [
        "from sklearn.preprocessing import PolynomialFeatures # utilizo esto para convertir mi X es a la base que quiero"
      ],
      "execution_count": null,
      "outputs": []
    },
    {
      "cell_type": "code",
      "metadata": {
        "id": "QwuWLEehG6Af"
      },
      "source": [
        "PolynomialFeatures?"
      ],
      "execution_count": null,
      "outputs": []
    },
    {
      "cell_type": "code",
      "metadata": {
        "id": "sUBz8Y-cHaEo"
      },
      "source": [
        "PolynomialFeatures(degree=1).fit_transform(x_train)"
      ],
      "execution_count": null,
      "outputs": []
    },
    {
      "cell_type": "code",
      "metadata": {
        "id": "Bu-hUwpzHhl-"
      },
      "source": [
        "PolynomialFeatures(degree=1,include_bias=False).fit_transform(x_train)"
      ],
      "execution_count": null,
      "outputs": []
    },
    {
      "cell_type": "markdown",
      "metadata": {
        "id": "Fd8Kk9mWHD8s"
      },
      "source": [
        "Tenemos dos opciones: `PolynomialFeatures` con `include_bias=True` y `LinearRegression` con `fit_intercept=False` o el opuesto "
      ]
    },
    {
      "cell_type": "markdown",
      "metadata": {
        "id": "CbXc33UWHlvj"
      },
      "source": [
        "Podemos combinar ambos utilizando el `Pipeline`"
      ]
    },
    {
      "cell_type": "code",
      "metadata": {
        "id": "oVeui0jKG9Hh"
      },
      "source": [
        "from sklearn.pipeline import Pipeline\n",
        "Pipeline?"
      ],
      "execution_count": null,
      "outputs": []
    },
    {
      "cell_type": "code",
      "metadata": {
        "id": "Lwdnu6O-HUKD"
      },
      "source": [
        "degree=5\n",
        "modelo=Pipeline([['poly',PolynomialFeatures(degree=degree,include_bias=True)],['regressor',LinearRegression(fit_intercept=False)]])"
      ],
      "execution_count": null,
      "outputs": []
    },
    {
      "cell_type": "code",
      "metadata": {
        "id": "9tQUS9ZxHz3Z"
      },
      "source": [
        "modelo.fit(x_train,t_train)"
      ],
      "execution_count": null,
      "outputs": []
    },
    {
      "cell_type": "markdown",
      "metadata": {
        "id": "gEHPBYTxH4Kr"
      },
      "source": [
        "Podemos ver los coeficientes con"
      ]
    },
    {
      "cell_type": "code",
      "metadata": {
        "id": "dk66rut6H2QO"
      },
      "source": [
        "modelo['regressor'].coef_"
      ],
      "execution_count": null,
      "outputs": []
    },
    {
      "cell_type": "markdown",
      "metadata": {
        "id": "70fJJag4H7ix"
      },
      "source": [
        "Y verificar que no hay intercept"
      ]
    },
    {
      "cell_type": "code",
      "metadata": {
        "id": "RkRII3KaH-Xd"
      },
      "source": [
        "modelo['regressor'].intercept_"
      ],
      "execution_count": null,
      "outputs": []
    },
    {
      "cell_type": "markdown",
      "metadata": {
        "id": "4_slX_iOING2"
      },
      "source": [
        "## Ejercicios:"
      ]
    },
    {
      "cell_type": "markdown",
      "metadata": {
        "id": "LLKYtHZxIOIM"
      },
      "source": [
        "1.   Utilicen este Pipeline para loopear sobre grados, con que se encuentran?\n",
        "2.   Utilicen las funciones de base mas adecuadas: [1,x,sin(6x)]. Que encuentra?"
      ]
    },
    {
      "cell_type": "code",
      "metadata": {
        "id": "PhUaK_z5H6YH"
      },
      "source": [
        ""
      ],
      "execution_count": null,
      "outputs": []
    }
  ]
}