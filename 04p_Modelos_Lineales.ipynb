{
 "cells": [
  {
   "cell_type": "code",
   "execution_count": 1,
   "metadata": {
    "id": "SMSgrL-x2Cyd"
   },
   "outputs": [],
   "source": [
    "import numpy as np\n",
    "import matplotlib.pyplot as plt\n",
    "np.random.seed(42)"
   ]
  },
  {
   "cell_type": "markdown",
   "metadata": {
    "id": "BH-kwbHG2MWX"
   },
   "source": [
    "Supongamos que nos dan esta serie de puntos"
   ]
  },
  {
   "cell_type": "code",
   "execution_count": 2,
   "metadata": {
    "id": "QbYAV1Eo2J6F"
   },
   "outputs": [],
   "source": [
    "N_SAMPLES = 20\n",
    "x = np.linspace(0,1,num=N_SAMPLES).reshape(-1,1)\n",
    "t =  4 * x+ np.sin(x*6)+ 0.5*np.random.randn(N_SAMPLES,1)"
   ]
  },
  {
   "cell_type": "code",
   "execution_count": 3,
   "metadata": {
    "colab": {
     "base_uri": "https://localhost:8080/",
     "height": 279
    },
    "id": "lE05zyC72oz2",
    "outputId": "4e071de9-b403-4458-89c9-3ebae1153963"
   },
   "outputs": [
    {
     "data": {
      "image/png": "[encoded data removed]",
      "text/plain": [
       "<Figure size 432x288 with 1 Axes>"
      ]
     },
     "metadata": {
      "needs_background": "light",
      "tags": []
     },
     "output_type": "display_data"
    }
   ],
   "source": [
    "plt.scatter(x,t)\n",
    "plt.xlabel('x')\n",
    "plt.ylabel('t')\n",
    "plt.show()"
   ]
  },
  {
   "cell_type": "markdown",
   "metadata": {
    "id": "BfssD7wa-Iah"
   },
   "source": [
    "Por supuesto, antes de seguir dividimos en entrenamiento y testeo"
   ]
  },
  {
   "cell_type": "code",
   "execution_count": 4,
   "metadata": {
    "id": "zx-k8fMI2rDE"
   },
   "outputs": [],
   "source": [
    "from sklearn.model_selection import train_test_split\n",
    "\n",
    "x_train, x_test, t_train, t_test = train_test_split(x, t, random_state=42)\n"
   ]
  },
  {
   "cell_type": "code",
   "execution_count": 5,
   "metadata": {
    "colab": {
     "base_uri": "https://localhost:8080/",
     "height": 279
    },
    "id": "F76kTRCb-PTZ",
    "outputId": "86c6cc5a-f7f8-42ad-bd63-3b5deb2e8059"
   },
   "outputs": [
    {
     "data": {
      "image/png": "[encoded data removed]",
      "text/plain": [
       "<Figure size 432x288 with 1 Axes>"
      ]
     },
     "metadata": {
      "needs_background": "light",
      "tags": []
     },
     "output_type": "display_data"
    }
   ],
   "source": [
    "plt.scatter(x_train,t_train, c='red', label='train')\n",
    "plt.scatter(x_test,t_test, c='blue', label='test')\n",
    "plt.legend()\n",
    "plt.xlabel('x')\n",
    "plt.ylabel('y')\n",
    "plt.show()"
   ]
  },
  {
   "cell_type": "markdown",
   "metadata": {
    "id": "-8ooxY9C-WL9"
   },
   "source": [
    "Como vimos, la idea de Regresion Lineal es modelar\n",
    "\n",
    "$$y(x,w)=w_{0}+w_{1}x$$\n",
    "\n",
    "De manera tal que \n",
    "\n",
    "$$t\\sim \\mathcal{N}(y(x,w),\\sigma^{2})$$\n",
    "\n",
    "Con alguna incerteza que no nos importa demasiado hoy.\n",
    "\n",
    "Aca tenemos la gran ventaja de que sabemos la verdadera funcion que sigue el target. En la vida real, casi nunca sabemos la verdadera funcion."
   ]
  },
  {
   "cell_type": "code",
   "execution_count": 6,
   "metadata": {
    "id": "SBbJ5OY--TLc"
   },
   "outputs": [],
   "source": [
    "def y_true(x):\n",
    "  return  4 * x+ np.sin(x*6)"
   ]
  },
  {
   "cell_type": "code",
   "execution_count": 7,
   "metadata": {
    "colab": {
     "base_uri": "https://localhost:8080/",
     "height": 279
    },
    "id": "dfGqy6Dw_FF2",
    "outputId": "aaed3bb9-008f-41cf-878e-b8644e8dcfed"
   },
   "outputs": [
    {
     "data": {
      "image/png": "[encoded data removed]",
      "text/plain": [
       "<Figure size 432x288 with 1 Axes>"
      ]
     },
     "metadata": {
      "needs_background": "light",
      "tags": []
     },
     "output_type": "display_data"
    }
   ],
   "source": [
    "xvals=np.linspace(0,1,num=50).reshape(-1,1)\n",
    "plt.scatter(x_train,t_train, c='red', label='train')\n",
    "plt.plot(xvals,y_true(xvals),color='black',label='Funcion verdadera')\n",
    "plt.legend()\n",
    "plt.xlabel('x')\n",
    "plt.ylabel('t')\n",
    "plt.show()"
   ]
  },
  {
   "cell_type": "markdown",
   "metadata": {
    "id": "EaVqqAkAABwt"
   },
   "source": [
    "Veamos los shapes que tenemos"
   ]
  },
  {
   "cell_type": "code",
   "execution_count": 8,
   "metadata": {
    "colab": {
     "base_uri": "https://localhost:8080/"
    },
    "id": "CFY_JHg7AGcG",
    "outputId": "c1facf9b-73a6-4ca9-d101-a692b58c13e4"
   },
   "outputs": [
    {
     "name": "stdout",
     "output_type": "stream",
     "text": [
      "(15, 1) (15, 1)\n"
     ]
    }
   ],
   "source": [
    "print(x_train.shape,t_train.shape)"
   ]
  },
  {
   "cell_type": "markdown",
   "metadata": {
    "id": "NdITQZ0l2KaA"
   },
   "source": [
    "# Regresion Lineal a mano"
   ]
  },
  {
   "cell_type": "markdown",
   "metadata": {
    "id": "1S7XZwyqABo1"
   },
   "source": [
    "Si queremos obtener los estimador de maxima verosimilitud de los pesos $w_{0}$, $w_{1}$, tenemos que resolver las ecuaciones normales\n",
    "\n",
    "$$w_{ML}=(\\Phi^{T}\\Phi)^{-1}\\Phi^{T}t$$\n",
    "\n",
    "Donde $w_{ML}=(w_{0,ML},w_{1,ML})^{T}$, $t$ el vector de target y $\\Phi$ es la matriz de diseño. En cada columna, tiene una de las funciones de base. En este caso, 1 y x. En cada fila, tiene una medicion"
   ]
  },
  {
   "cell_type": "markdown",
   "metadata": {
    "id": "s4-fwAn9Bzwn"
   },
   "source": [
    "Si tenemos M funciones de base y N mediciones, \n",
    "\n",
    "$w_{ML}$ es una matriz de $M \\text{ x } 1 $\n",
    "\n",
    "$\\Phi$ es una matriz de $N \\text{ x } M$\n",
    "\n",
    "$t$ es una matriz de $N \\text{ x } 1$ "
   ]
  },
  {
   "cell_type": "code",
   "execution_count": 9,
   "metadata": {
    "id": "b1odr2AfBIWA"
   },
   "outputs": [],
   "source": [
    "Phi_train=np.vstack([np.ones(len(x_train)),x_train[:,0]]).T # agrupo 1s y xs para cada medicion"
   ]
  },
  {
   "cell_type": "markdown",
   "metadata": {
    "id": "_7hurekKABsf"
   },
   "source": [
    "Que shape tiene que tener?"
   ]
  },
  {
   "cell_type": "code",
   "execution_count": 10,
   "metadata": {
    "colab": {
     "base_uri": "https://localhost:8080/"
    },
    "id": "lnxfdtmU_M1Q",
    "outputId": "5e28d20e-32bb-4eca-dc9f-339321e6fe17"
   },
   "outputs": [
    {
     "data": {
      "text/plain": [
       "(15, 2)"
      ]
     },
     "execution_count": 10,
     "metadata": {
      "tags": []
     },
     "output_type": "execute_result"
    }
   ],
   "source": [
    "Phi_train.shape"
   ]
  },
  {
   "cell_type": "code",
   "execution_count": 12,
   "metadata": {
    "colab": {
     "base_uri": "https://localhost:8080/"
    },
    "id": "VliJKyY27VuC",
    "outputId": "ff122b0f-4359-4e8c-f0e2-ac924d4d71e8"
   },
   "outputs": [
    {
     "name": "stdout",
     "output_type": "stream",
     "text": [
      "[0.26315789] [1.         0.26315789]\n"
     ]
    }
   ],
   "source": [
    "print(x_train[0],Phi_train[0])"
   ]
  },
  {
   "cell_type": "markdown",
   "metadata": {
    "id": "u7YGn2QRBjTP"
   },
   "source": [
    "Las ecuaciones normales tienen una inversa ahi metida. Eso no es numericamente muy deseable. Conviene resolver la ecuacion\n",
    "\n",
    "$$(\\Phi^{T}\\Phi)w_{ML}=\\Phi^{T}t$$\n",
    "\n",
    "y utilizar `np.linalg.solve(A,b)` que obtiene el vector $X$ solucion de la ecuacion\n",
    "\n",
    "$$Ax=b$$\n",
    "\n"
   ]
  },
  {
   "cell_type": "code",
   "execution_count": 15,
   "metadata": {
    "id": "keqZzu8MBgcu"
   },
   "outputs": [],
   "source": [
    "A=np.dot(Phi_train.T,Phi_train)\n",
    "b=np.dot(Phi_train.T,t_train)\n",
    "wML=np.linalg.solve(A,b)"
   ]
  },
  {
   "cell_type": "markdown",
   "metadata": {
    "id": "GdteT-rrCzaW"
   },
   "source": [
    "Veamos la solucion"
   ]
  },
  {
   "cell_type": "code",
   "execution_count": 16,
   "metadata": {
    "colab": {
     "base_uri": "https://localhost:8080/"
    },
    "id": "Dnjf3caDCywN",
    "outputId": "1ad3c58b-b249-4f1a-dd51-ddaa302187cc"
   },
   "outputs": [
    {
     "data": {
      "text/plain": [
       "array([[1.85999881],\n",
       "       [0.36019965]])"
      ]
     },
     "execution_count": 16,
     "metadata": {
      "tags": []
     },
     "output_type": "execute_result"
    }
   ],
   "source": [
    "wML"
   ]
  },
  {
   "cell_type": "markdown",
   "metadata": {
    "id": "r5y_KtWHC5Ut"
   },
   "source": [
    "Podemos graficar esta solucion facilmente"
   ]
  },
  {
   "cell_type": "code",
   "execution_count": 17,
   "metadata": {
    "id": "d_lC4-t9C1YF"
   },
   "outputs": [],
   "source": [
    "def y_ML(x,wML):\n",
    "  return wML[0]+wML[1]*x"
   ]
  },
  {
   "cell_type": "code",
   "execution_count": 18,
   "metadata": {
    "colab": {
     "base_uri": "https://localhost:8080/",
     "height": 279
    },
    "id": "DVcXsY8WDCmH",
    "outputId": "58bae0ee-7f12-4dd3-e1d8-0f2c5d98ef90"
   },
   "outputs": [
    {
     "data": {
      "image/png": "[encoded data removed]",
      "text/plain": [
       "<Figure size 432x288 with 1 Axes>"
      ]
     },
     "metadata": {
      "needs_background": "light",
      "tags": []
     },
     "output_type": "display_data"
    }
   ],
   "source": [
    "xvals=np.linspace(0,1,num=50).reshape(-1,1)\n",
    "plt.scatter(x_train,t_train, c='red', label='train')\n",
    "plt.plot(xvals,y_true(xvals),color='black',label='Funcion verdadera')\n",
    "plt.plot(xvals,y_ML(xvals,wML),color='black',linestyle='dotted',label='Maxima verosimilitud')\n",
    "plt.legend()\n",
    "plt.xlabel('x')\n",
    "plt.ylabel('t')\n",
    "plt.show()"
   ]
  },
  {
   "cell_type": "markdown",
   "metadata": {
    "id": "rcpxzb6vDYG2"
   },
   "source": [
    "Obviamente, no funciona muy bien..."
   ]
  },
  {
   "cell_type": "markdown",
   "metadata": {
    "id": "23JV66pJDkqG"
   },
   "source": [
    "## Ejercicio"
   ]
  },
  {
   "cell_type": "markdown",
   "metadata": {
    "id": "xe40pMUFDm2t"
   },
   "source": [
    "Resuelvan las ecuaciones normales, pero ahora modelando la funcion como\n",
    "\n",
    "$$y(x,w)=w_{0}+\\sum_{i=1}^{5}w_{i}x^{i}$$"
   ]
  },
  {
   "cell_type": "code",
   "execution_count": null,
   "metadata": {
    "id": "Oq1gZZxNf5Ew"
   },
   "outputs": [],
   "source": []
  },
  {
   "cell_type": "markdown",
   "metadata": {
    "id": "imP4G0KVFZok"
   },
   "source": [
    "# Hola `sklearn`!"
   ]
  },
  {
   "cell_type": "markdown",
   "metadata": {
    "id": "L7W_0apKFbno"
   },
   "source": [
    "Como ya vimos antes, `sklearn` resuelve las ecuaciones normales por nosotros utilizando `LinearRegression`"
   ]
  },
  {
   "cell_type": "code",
   "execution_count": 19,
   "metadata": {
    "id": "B40Dlvj5EX-p"
   },
   "outputs": [],
   "source": [
    "from sklearn.linear_model import LinearRegression"
   ]
  },
  {
   "cell_type": "markdown",
   "metadata": {
    "id": "f-kbz7D1Fu3t"
   },
   "source": [
    "Veamos los parametros que tenemos:"
   ]
  },
  {
   "cell_type": "code",
   "execution_count": 20,
   "metadata": {
    "id": "9EwwqsELFsXF"
   },
   "outputs": [],
   "source": [
    "LinearRegression??"
   ]
  },
  {
   "cell_type": "markdown",
   "metadata": {
    "id": "iV7uvWgeF3p6"
   },
   "source": [
    "La opcion con la que hay que tener mas cuidado ahora mismo en `fit_intercept`. Por defecto, esta como verdadera. "
   ]
  },
  {
   "cell_type": "code",
   "execution_count": 29,
   "metadata": {
    "colab": {
     "base_uri": "https://localhost:8080/"
    },
    "id": "9-Pz8wWgFxW-",
    "outputId": "867674bf-46aa-44de-9feb-0aa3a448f207"
   },
   "outputs": [
    {
     "data": {
      "text/plain": [
       "LinearRegression(copy_X=True, fit_intercept=True, n_jobs=None, normalize=False)"
      ]
     },
     "execution_count": 29,
     "metadata": {
      "tags": []
     },
     "output_type": "execute_result"
    }
   ],
   "source": [
    "lr=LinearRegression(fit_intercept=True)\n",
    "lr.fit(x_train,t_train) #features, target"
   ]
  },
  {
   "cell_type": "markdown",
   "metadata": {
    "id": "ySRlQ5osGNC5"
   },
   "source": [
    "Podemos obtener tanto los coeficientes como el intercept"
   ]
  },
  {
   "cell_type": "code",
   "execution_count": 30,
   "metadata": {
    "colab": {
     "base_uri": "https://localhost:8080/"
    },
    "id": "0dA6cQU2GHjc",
    "outputId": "8d54b18f-0a7e-41ff-a536-5521c42d120b"
   },
   "outputs": [
    {
     "name": "stdout",
     "output_type": "stream",
     "text": [
      "[1.85999881] [[0.36019965]]\n"
     ]
    }
   ],
   "source": [
    "print(lr.intercept_,lr.coef_)"
   ]
  },
  {
   "cell_type": "code",
   "execution_count": 34,
   "metadata": {
    "colab": {
     "base_uri": "https://localhost:8080/"
    },
    "id": "-8PBmdTI9eCL",
    "outputId": "126e2714-52b6-4ca8-d6d2-abbe82574c31"
   },
   "outputs": [
    {
     "data": {
      "text/plain": [
       "array([[1.93203874]])"
      ]
     },
     "execution_count": 34,
     "metadata": {
      "tags": []
     },
     "output_type": "execute_result"
    }
   ],
   "source": [
    "lr.predict(np.asarray([0.2]).reshape(1,-1))"
   ]
  },
  {
   "cell_type": "code",
   "execution_count": 35,
   "metadata": {
    "colab": {
     "base_uri": "https://localhost:8080/",
     "height": 279
    },
    "id": "QKrZvnLw9yOc",
    "outputId": "22423e9d-c5c4-4d14-b4e0-17ece155fb3e"
   },
   "outputs": [
    {
     "data": {
      "image/png": "[encoded data removed]",
      "text/plain": [
       "<Figure size 432x288 with 1 Axes>"
      ]
     },
     "metadata": {
      "needs_background": "light",
      "tags": []
     },
     "output_type": "display_data"
    }
   ],
   "source": [
    "xvals=np.linspace(0,1,num=50).reshape(-1,1)\n",
    "plt.scatter(x_train,t_train, c='red', label='train')\n",
    "plt.plot(xvals,y_true(xvals),color='black',label='Funcion verdadera')\n",
    "plt.plot(xvals,lr.predict(xvals),color='black',linestyle='dotted',label='Maxima verosimilitud')\n",
    "plt.legend()\n",
    "plt.xlabel('x')\n",
    "plt.ylabel('t')\n",
    "plt.show()"
   ]
  },
  {
   "cell_type": "markdown",
   "metadata": {
    "id": "Dt55MMJyGS71"
   },
   "source": [
    "Noten que tenemos 1 solo coeficiente. El $w_{0}$ es el intercept.\n",
    "\n",
    "Supongamos que no nos damos cuenta y le damos la matriz $\\Phi$"
   ]
  },
  {
   "cell_type": "code",
   "execution_count": 23,
   "metadata": {
    "colab": {
     "base_uri": "https://localhost:8080/"
    },
    "id": "NmXi1-siGQeL",
    "outputId": "c90733fe-bf8c-4a73-dfd8-dacba8be786f"
   },
   "outputs": [
    {
     "data": {
      "text/plain": [
       "LinearRegression(copy_X=True, fit_intercept=True, n_jobs=None, normalize=False)"
      ]
     },
     "execution_count": 23,
     "metadata": {
      "tags": []
     },
     "output_type": "execute_result"
    }
   ],
   "source": [
    "lr=LinearRegression(fit_intercept=True)\n",
    "lr.fit(Phi_train,t_train) #features, target"
   ]
  },
  {
   "cell_type": "code",
   "execution_count": 24,
   "metadata": {
    "colab": {
     "base_uri": "https://localhost:8080/"
    },
    "id": "WVvr7mVTGalP",
    "outputId": "f855d39e-1007-46e6-f602-fdf204b6ab1b"
   },
   "outputs": [
    {
     "name": "stdout",
     "output_type": "stream",
     "text": [
      "[1.85999881] [[0.         0.36019965]]\n"
     ]
    }
   ],
   "source": [
    "print(lr.intercept_,lr.coef_)"
   ]
  },
  {
   "cell_type": "markdown",
   "metadata": {
    "id": "RP6UPs3KGkn_"
   },
   "source": [
    "Aparece el coeficiente que deberia ser el `intercept` como cero. \n",
    "\n",
    "Hay que tener cuidado con esto, en particular cuando queremos aprovechar `sklearn` para hacer regresion polinomial"
   ]
  },
  {
   "cell_type": "code",
   "execution_count": 25,
   "metadata": {
    "id": "L8O0LfM3Gec1"
   },
   "outputs": [],
   "source": [
    "from sklearn.preprocessing import PolynomialFeatures # utilizo esto para convertir mi X es a la base que quiero"
   ]
  },
  {
   "cell_type": "code",
   "execution_count": 26,
   "metadata": {
    "id": "QwuWLEehG6Af"
   },
   "outputs": [],
   "source": [
    "PolynomialFeatures?"
   ]
  },
  {
   "cell_type": "code",
   "execution_count": 37,
   "metadata": {
    "colab": {
     "base_uri": "https://localhost:8080/"
    },
    "id": "sUBz8Y-cHaEo",
    "outputId": "debe98d1-240b-4208-f6b5-86583b52a204"
   },
   "outputs": [
    {
     "data": {
      "text/plain": [
       "array([[1.        , 0.26315789],\n",
       "       [1.        , 0.57894737],\n",
       "       [1.        , 0.15789474],\n",
       "       [1.        , 0.94736842],\n",
       "       [1.        , 0.84210526],\n",
       "       [1.        , 0.68421053],\n",
       "       [1.        , 0.10526316],\n",
       "       [1.        , 0.47368421],\n",
       "       [1.        , 1.        ],\n",
       "       [1.        , 0.21052632],\n",
       "       [1.        , 0.63157895],\n",
       "       [1.        , 0.36842105],\n",
       "       [1.        , 0.52631579],\n",
       "       [1.        , 0.73684211],\n",
       "       [1.        , 0.31578947]])"
      ]
     },
     "execution_count": 37,
     "metadata": {
      "tags": []
     },
     "output_type": "execute_result"
    }
   ],
   "source": [
    "PolynomialFeatures(degree=1).fit_transform(x_train)"
   ]
  },
  {
   "cell_type": "code",
   "execution_count": 28,
   "metadata": {
    "colab": {
     "base_uri": "https://localhost:8080/"
    },
    "id": "Bu-hUwpzHhl-",
    "outputId": "579e5918-702f-4dd6-b149-240023c3b827"
   },
   "outputs": [
    {
     "data": {
      "text/plain": [
       "array([[0.26315789],\n",
       "       [0.57894737],\n",
       "       [0.15789474],\n",
       "       [0.94736842],\n",
       "       [0.84210526],\n",
       "       [0.68421053],\n",
       "       [0.10526316],\n",
       "       [0.47368421],\n",
       "       [1.        ],\n",
       "       [0.21052632],\n",
       "       [0.63157895],\n",
       "       [0.36842105],\n",
       "       [0.52631579],\n",
       "       [0.73684211],\n",
       "       [0.31578947]])"
      ]
     },
     "execution_count": 28,
     "metadata": {
      "tags": []
     },
     "output_type": "execute_result"
    }
   ],
   "source": [
    "PolynomialFeatures(degree=1,include_bias=False).fit_transform(x_train)"
   ]
  },
  {
   "cell_type": "markdown",
   "metadata": {
    "id": "Fd8Kk9mWHD8s"
   },
   "source": [
    "Tenemos dos opciones: `PolynomialFeatures` con `include_bias=True` y `LinearRegression` con `fit_intercept=False` o el opuesto "
   ]
  },
  {
   "cell_type": "markdown",
   "metadata": {
    "id": "CbXc33UWHlvj"
   },
   "source": [
    "Podemos combinar ambos utilizando el `Pipeline`"
   ]
  },
  {
   "cell_type": "code",
   "execution_count": 38,
   "metadata": {
    "id": "oVeui0jKG9Hh"
   },
   "outputs": [],
   "source": [
    "from sklearn.pipeline import Pipeline\n",
    "#Pipeline?"
   ]
  },
  {
   "cell_type": "code",
   "execution_count": 39,
   "metadata": {
    "id": "Lwdnu6O-HUKD"
   },
   "outputs": [],
   "source": [
    "degree=3\n",
    "modelo=Pipeline([['poly',PolynomialFeatures(degree=degree,include_bias=True)],['regressor',LinearRegression(fit_intercept=False)]])"
   ]
  },
  {
   "cell_type": "code",
   "execution_count": 40,
   "metadata": {
    "colab": {
     "base_uri": "https://localhost:8080/"
    },
    "id": "9tQUS9ZxHz3Z",
    "outputId": "210559a3-7112-47be-9ff9-6fcfc2198e2d"
   },
   "outputs": [
    {
     "data": {
      "text/plain": [
       "Pipeline(memory=None,\n",
       "         steps=[('poly',\n",
       "                 PolynomialFeatures(degree=3, include_bias=True,\n",
       "                                    interaction_only=False, order='C')),\n",
       "                ['regressor',\n",
       "                 LinearRegression(copy_X=True, fit_intercept=False, n_jobs=None,\n",
       "                                  normalize=False)]],\n",
       "         verbose=False)"
      ]
     },
     "execution_count": 40,
     "metadata": {
      "tags": []
     },
     "output_type": "execute_result"
    }
   ],
   "source": [
    "modelo.fit(x_train,t_train)"
   ]
  },
  {
   "cell_type": "code",
   "execution_count": 41,
   "metadata": {
    "colab": {
     "base_uri": "https://localhost:8080/"
    },
    "id": "nRcrKX4F-2iu",
    "outputId": "57b0f3ea-ac4e-4d7c-d5f9-cadc68011f4a"
   },
   "outputs": [
    {
     "data": {
      "text/plain": [
       "array([[2.16401589]])"
      ]
     },
     "execution_count": 41,
     "metadata": {
      "tags": []
     },
     "output_type": "execute_result"
    }
   ],
   "source": [
    "modelo.predict(np.asarray([[0.2]]))"
   ]
  },
  {
   "cell_type": "markdown",
   "metadata": {
    "id": "gEHPBYTxH4Kr"
   },
   "source": [
    "Podemos ver los coeficientes con"
   ]
  },
  {
   "cell_type": "code",
   "execution_count": 42,
   "metadata": {
    "colab": {
     "base_uri": "https://localhost:8080/"
    },
    "id": "dk66rut6H2QO",
    "outputId": "5ed40530-bf79-4e1f-cc27-3abe61bfbe98"
   },
   "outputs": [
    {
     "data": {
      "text/plain": [
       "array([[ -0.54656034,  22.10303536, -48.85686943,  30.53049234]])"
      ]
     },
     "execution_count": 42,
     "metadata": {
      "tags": []
     },
     "output_type": "execute_result"
    }
   ],
   "source": [
    "modelo['regressor'].coef_"
   ]
  },
  {
   "cell_type": "markdown",
   "metadata": {
    "id": "70fJJag4H7ix"
   },
   "source": [
    "Y verificar que no hay intercept"
   ]
  },
  {
   "cell_type": "code",
   "execution_count": 43,
   "metadata": {
    "colab": {
     "base_uri": "https://localhost:8080/"
    },
    "id": "RkRII3KaH-Xd",
    "outputId": "b4b75f67-7fd9-44c9-b55b-b4a330bfa573"
   },
   "outputs": [
    {
     "data": {
      "text/plain": [
       "0.0"
      ]
     },
     "execution_count": 43,
     "metadata": {
      "tags": []
     },
     "output_type": "execute_result"
    }
   ],
   "source": [
    "modelo['regressor'].intercept_"
   ]
  },
  {
   "cell_type": "code",
   "execution_count": 44,
   "metadata": {
    "colab": {
     "base_uri": "https://localhost:8080/",
     "height": 279
    },
    "id": "l9l5vV8C_P9O",
    "outputId": "486d1de3-e601-4f86-a2a4-5a4096dcaa68"
   },
   "outputs": [
    {
     "data": {
      "image/png": "[encoded data removed]",
      "text/plain": [
       "<Figure size 432x288 with 1 Axes>"
      ]
     },
     "metadata": {
      "needs_background": "light",
      "tags": []
     },
     "output_type": "display_data"
    }
   ],
   "source": [
    "xvals=np.linspace(0,1,num=50).reshape(-1,1)\n",
    "plt.scatter(x_train,t_train, c='red', label='train')\n",
    "plt.plot(xvals,y_true(xvals),color='black',label='Funcion verdadera')\n",
    "plt.plot(xvals,modelo.predict(xvals),color='black',linestyle='dotted',label='Maxima verosimilitud')\n",
    "plt.legend()\n",
    "plt.xlabel('x')\n",
    "plt.ylabel('t')\n",
    "plt.show()"
   ]
  },
  {
   "cell_type": "markdown",
   "metadata": {
    "id": "4_slX_iOING2"
   },
   "source": [
    "## Ejercicios:"
   ]
  },
  {
   "cell_type": "markdown",
   "metadata": {
    "id": "LLKYtHZxIOIM"
   },
   "source": [
    "1.   Utilicen este Pipeline para loopear sobre grados, con que se encuentran?\n",
    "2.   Utilicen las funciones de base mas adecuadas: [1,x,sin(6x)]. Que encuentra?"
   ]
  },
  {
   "cell_type": "code",
   "execution_count": null,
   "metadata": {
    "id": "PhUaK_z5H6YH"
   },
   "outputs": [],
   "source": []
  }
 ],
 "metadata": {
  "colab": {
   "name": "04p_Modelos_Lineales_Incompleto.ipynb",
   "provenance": []
  },
  "kernelspec": {
   "display_name": "venv",
   "language": "python",
   "name": "venv"
  },
  "language_info": {
   "codemirror_mode": {
    "name": "ipython",
    "version": 3
   },
   "file_extension": ".py",
   "mimetype": "text/x-python",
   "name": "python",
   "nbconvert_exporter": "python",
   "pygments_lexer": "ipython3",
   "version": "3.9.2"
  }
 },
 "nbformat": 4,
 "nbformat_minor": 4
}
